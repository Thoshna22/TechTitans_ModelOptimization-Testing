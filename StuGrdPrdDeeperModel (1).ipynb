{
  "cells": [
    {
      "cell_type": "code",
      "execution_count": null,
      "metadata": {
        "id": "9qdLF01sWtua"
      },
      "outputs": [],
      "source": [
        "import pandas as pd\n",
        "import numpy as np"
      ]
    },
    {
      "cell_type": "code",
      "execution_count": null,
      "metadata": {
        "colab": {
          "base_uri": "https://localhost:8080/"
        },
        "id": "B_BI-ECZdt33",
        "outputId": "5ed77524-232e-4667-aacb-32afc3ba8940"
      },
      "outputs": [
        {
          "output_type": "stream",
          "name": "stdout",
          "text": [
            "             Timestamp Year of Study Your Average Lecture attendance Rate  \\\n",
            "0  12/07/2025 16:50:00      3rd Year                            75% - 90%   \n",
            "1  12/07/2025 16:50:29      3rd Year                            Above 90%   \n",
            "2  12/07/2025 16:51:44      3rd Year                            Below 50%   \n",
            "3  12/07/2025 16:51:49      3rd Year                            50% - 74%   \n",
            "4  12/07/2025 16:55:43      2nd Year                            Above 90%   \n",
            "\n",
            "  Recently Released Semester Results [Subject 1]  \\\n",
            "0                                             B+   \n",
            "1                                             A-   \n",
            "2                                             C-   \n",
            "3                                              A   \n",
            "4                                             B-   \n",
            "\n",
            "  Recently Released Semester Results [Subject 2]  \\\n",
            "0                                             B+   \n",
            "1                                             B+   \n",
            "2                                              C   \n",
            "3                                              B   \n",
            "4                                              D   \n",
            "\n",
            "  Recently Released Semester Results [Subject 3]  \\\n",
            "0                                             B+   \n",
            "1                                             B-   \n",
            "2                                         Absent   \n",
            "3                                             B-   \n",
            "4                                              C   \n",
            "\n",
            "  Recently Released Semester Results [Subject 4]  \\\n",
            "0                                             B+   \n",
            "1                                              C   \n",
            "2                                              E   \n",
            "3                                             C+   \n",
            "4                                         Absent   \n",
            "\n",
            "  If you had more than four subjects [Subject 5]  \\\n",
            "0                                             B+   \n",
            "1                                             B+   \n",
            "2                                            NaN   \n",
            "3                                              C   \n",
            "4                                            NaN   \n",
            "\n",
            "  If you had more than four subjects [Subject 6]  \\\n",
            "0                                             B+   \n",
            "1                                            NaN   \n",
            "2                                            NaN   \n",
            "3                                            NaN   \n",
            "4                                            NaN   \n",
            "\n",
            "  If you had more than four subjects [Subject 7]  \\\n",
            "0                                             B+   \n",
            "1                                            NaN   \n",
            "2                                            NaN   \n",
            "3                                            NaN   \n",
            "4                                            NaN   \n",
            "\n",
            "  If you had more than four subjects [Subject 8]  \\\n",
            "0                                             B+   \n",
            "1                                            NaN   \n",
            "2                                            NaN   \n",
            "3                                            NaN   \n",
            "4                                            NaN   \n",
            "\n",
            "   What is your current GPA ? (If you don't know, you can leave this)  \\\n",
            "0                                               2.22                    \n",
            "1                                               2.94                    \n",
            "2                                                NaN                    \n",
            "3                                               3.14                    \n",
            "4                                                NaN                    \n",
            "\n",
            "  How many hours do you study per week?  \\\n",
            "0                   10 hours - 20 hours   \n",
            "1                    Less than 10 hours   \n",
            "2                    Less than 10 hours   \n",
            "3                   10 hours - 20 hours   \n",
            "4                    Less than 10 hours   \n",
            "\n",
            "  How Often do You Complete Assignments on Time  \\\n",
            "0                                        Always   \n",
            "1                                        Always   \n",
            "2                                     Sometimes   \n",
            "3                                         Often   \n",
            "4                                        Always   \n",
            "\n",
            "  Are you currently doing a part time job?  \\\n",
            "0                                      Yes   \n",
            "1                                       No   \n",
            "2                                      Yes   \n",
            "3                                       No   \n",
            "4                                       No   \n",
            "\n",
            "  If yes, how many hours per week do you work?  \\\n",
            "0                          10 hours - 20 hours   \n",
            "1                                          NaN   \n",
            "2                           Less than 10 hours   \n",
            "3                                          NaN   \n",
            "4                                          NaN   \n",
            "\n",
            "  Are you involved in any sports or extracurricular activities(clubs, societies, volunteering, etc.)?  \\\n",
            "0                                       Occasionally                                                    \n",
            "1                                                Yes                                                    \n",
            "2                                                 No                                                    \n",
            "3                                                Yes                                                    \n",
            "4                                                 No                                                    \n",
            "\n",
            "  If yes, how many hours per week do you spend on sports  or extracurricular activities  ?  \n",
            "0                                          1-3 hours                                        \n",
            "1                                          4-6 hours                                        \n",
            "2                                          1-3 hours                                        \n",
            "3                                  More than 6 hours                                        \n",
            "4                                                NaN                                        \n"
          ]
        }
      ],
      "source": [
        "import os\n",
        "\n",
        "filename = 'dataSet.csv'\n",
        "if not os.path.exists(filename):\n",
        "    from google.colab import files\n",
        "    print(f\"{filename} not found: please upload it now.\")\n",
        "    uploaded = files.upload()  # This will prompt upload if needed\n",
        "\n",
        "df = pd.read_csv(filename)\n",
        "print(df.head())\n"
      ]
    },
    {
      "cell_type": "code",
      "execution_count": null,
      "metadata": {
        "colab": {
          "base_uri": "https://localhost:8080/"
        },
        "id": "ilap53Ynd0S8",
        "outputId": "bf2adadf-54b4-4fbd-a15e-e5901b5fa236"
      },
      "outputs": [
        {
          "output_type": "stream",
          "name": "stdout",
          "text": [
            "Columns after drop:\n",
            " Index(['Year of Study', 'Your Average Lecture attendance Rate',\n",
            "       'Recently Released Semester Results [Subject 1]',\n",
            "       'Recently Released Semester Results [Subject 2]',\n",
            "       'Recently Released Semester Results [Subject 3]',\n",
            "       'Recently Released Semester Results [Subject 4]',\n",
            "       'What is your current GPA ? (If you don't know, you can leave this)',\n",
            "       'How many hours do you study per week?',\n",
            "       'How Often do You Complete Assignments on Time',\n",
            "       'Are you currently doing a part time job?',\n",
            "       'If yes, how many hours per week do you work?',\n",
            "       'Are you involved in any sports or extracurricular activities(clubs, societies, volunteering, etc.)?',\n",
            "       'If yes, how many hours per week do you spend on sports  or extracurricular activities  ?'],\n",
            "      dtype='object')\n"
          ]
        }
      ],
      "source": [
        "# Drop unnecessary columns: Timestamp and extra subject columns (Subject 5 to 8)\n",
        "columns_to_drop = [\n",
        "    'Timestamp',\n",
        "    'If you had more than four subjects [Subject 5]',\n",
        "    'If you had more than four subjects [Subject 6]',\n",
        "    'If you had more than four subjects [Subject 7]',\n",
        "    'If you had more than four subjects [Subject 8]'\n",
        "]\n",
        "df = df.drop(columns=columns_to_drop)\n",
        "print(\"Columns after drop:\\n\", df.columns)"
      ]
    },
    {
      "cell_type": "code",
      "execution_count": null,
      "metadata": {
        "id": "7tew_hkrd398"
      },
      "outputs": [],
      "source": [
        "# Handle and encode GPA column\n",
        "\n",
        "gpa_col = \"What is your current GPA ? (If you don't know, you can leave this)\"\n",
        "df[gpa_col] = pd.to_numeric(df[gpa_col], errors='coerce')                 # convert to numeric\n",
        "df[gpa_col] = df[gpa_col].fillna(df[gpa_col].mean())                      # fill missing with mean"
      ]
    },
    {
      "cell_type": "code",
      "execution_count": null,
      "metadata": {
        "colab": {
          "base_uri": "https://localhost:8080/"
        },
        "id": "RYGbDrJLd6yU",
        "outputId": "1585a672-97d4-4632-da6a-a2b64f754031"
      },
      "outputs": [
        {
          "output_type": "stream",
          "name": "stdout",
          "text": [
            "Dataset shape after dropping rows with missing attendance or subject grades: (108, 13)\n"
          ]
        }
      ],
      "source": [
        "# Drop rows with missing critical fields: Attendance and Subject 1 to 4 grades\n",
        "\n",
        "subject_cols = [\n",
        "    'Recently Released Semester Results [Subject 1]',\n",
        "    'Recently Released Semester Results [Subject 2]',\n",
        "    'Recently Released Semester Results [Subject 3]',\n",
        "    'Recently Released Semester Results [Subject 4]'\n",
        "]\n",
        "\n",
        "df = df.dropna(subset=['Your Average Lecture attendance Rate'] + subject_cols)\n",
        "print(f\"Dataset shape after dropping rows with missing attendance or subject grades: {df.shape}\")\n"
      ]
    },
    {
      "cell_type": "code",
      "execution_count": null,
      "metadata": {
        "id": "euUOaNdId-w9"
      },
      "outputs": [],
      "source": [
        "# Encode Categorical Variables\n",
        "\n",
        "# Encode Attendance Rate\n",
        "attendance_map = {\n",
        "    'Above 90%': 0.95,\n",
        "    '75% - 90%': 0.825,\n",
        "    '50% - 74%': 0.62,\n",
        "    'Below 50%': 0.45\n",
        "}\n",
        "df['Attendance_Encoded'] = df['Your Average Lecture attendance Rate'].map(attendance_map)\n",
        "\n",
        "# Encode Study Hours per week\n",
        "study_hours_map = {\n",
        "    'Less than 10 hours': 5,\n",
        "    '10 hours - 20 hours': 15,\n",
        "    'More than 20 hours': 25\n",
        "}\n",
        "df['StudyHours_Encoded'] = df['How many hours do you study per week?'].map(study_hours_map)\n",
        "\n",
        "# Encode Assignment Completion Frequency\n",
        "assignments_map = {\n",
        "    'Always': 3,\n",
        "    'Often': 2,\n",
        "    'Sometimes': 1,\n",
        "    'Rarely': 0\n",
        "}\n",
        "df['Assignments_Encoded'] = df['How Often do You Complete Assignments on Time'].map(assignments_map)\n",
        "\n",
        "# Encode Part-Time Job and Extracurricular activities\n",
        "df['PartTimeJob_Encoded'] = df['Are you currently doing a part time job?'].map({'Yes': 1, 'No': 0})\n",
        "df['Extracurriculars_Encoded'] = df['Are you involved in any sports or extracurricular activities(clubs, societies, volunteering, etc.)?'].map({\n",
        "    'Yes': 1,\n",
        "    'No': 0,\n",
        "    'Occasionally': 0.5\n",
        "})\n",
        "\n",
        "\n",
        "# Encode Grades for Subjects 1 to 4\n",
        "grade_map = {\n",
        "    'A+': 4.0, 'A': 4.0, 'A-': 3.7,\n",
        "    'B+': 3.3, 'B': 3.0, 'B-': 2.7,\n",
        "    'C+': 2.3, 'C': 2.0, 'C-': 1.7,\n",
        "    'D+': 1.3, 'D': 1.0, 'E': 0.0,\n",
        "    'Absent': np.nan, 'Ineligible': np.nan\n",
        "}\n",
        "\n",
        "for subj in subject_cols:\n",
        "    encoded_col = subj.replace(\"Recently Released Semester Results \", \"\") + \"_Encoded\"\n",
        "    df[encoded_col] = df[subj].map(grade_map)\n",
        "\n"
      ]
    },
    {
      "cell_type": "code",
      "execution_count": null,
      "metadata": {
        "id": "HEZ-nol3rn6g"
      },
      "outputs": [],
      "source": [
        "# Normalizing GPA\n",
        "\n",
        "from sklearn.preprocessing import MinMaxScaler\n",
        "\n",
        "gpa_col = \"What is your current GPA ? (If you don't know, you can leave this)\"\n",
        "df[gpa_col] = pd.to_numeric(df[gpa_col], errors='coerce')\n",
        "df[gpa_col] = df[gpa_col].fillna(df[gpa_col].mean())\n",
        "scaler = MinMaxScaler()\n",
        "df['GPA_Normalized'] = scaler.fit_transform(df[[gpa_col]])\n"
      ]
    },
    {
      "cell_type": "code",
      "execution_count": null,
      "metadata": {
        "id": "WPS4ZuIn9DKM"
      },
      "outputs": [],
      "source": [
        "from sklearn.preprocessing import MinMaxScaler\n",
        "\n",
        "# Fit the scaler on raw GPA (not the normalized one)\n",
        "gpa_scaler = MinMaxScaler()\n",
        "df['GPA_Normalized'] = gpa_scaler.fit_transform(df[[gpa_col]])\n"
      ]
    },
    {
      "cell_type": "code",
      "execution_count": null,
      "metadata": {
        "colab": {
          "base_uri": "https://localhost:8080/"
        },
        "id": "XGSQTuE7eFcb",
        "outputId": "726961ba-5298-4909-b4b2-cdadf9c31b6b"
      },
      "outputs": [
        {
          "output_type": "stream",
          "name": "stdout",
          "text": [
            "Data shape after dropping missing Average_Grade: (108, 24)\n"
          ]
        }
      ],
      "source": [
        "# Create Target Variable as Average Grade of Subjects 1 to 4\n",
        "\n",
        "encoded_subject_cols = [col.replace(\"Recently Released Semester Results \", \"\") + \"_Encoded\" for col in subject_cols]\n",
        "\n",
        "df['Average_Grade'] = df[encoded_subject_cols].mean(axis=1)\n",
        "\n",
        "# Drop rows where Average_Grade is NaN (if any subject grade was missing/unmapped)\n",
        "df = df.dropna(subset=['Average_Grade'])\n",
        "print(f\"Data shape after dropping missing Average_Grade: {df.shape}\")\n"
      ]
    },
    {
      "cell_type": "code",
      "execution_count": null,
      "metadata": {
        "colab": {
          "base_uri": "https://localhost:8080/"
        },
        "id": "XxUnusBOeI73",
        "outputId": "3b8ea9ef-c0e5-483e-a635-764f9d2af07e"
      },
      "outputs": [
        {
          "output_type": "stream",
          "name": "stdout",
          "text": [
            "Feature matrix shape: (108, 6)\n",
            "Target vector shape: (108,)\n"
          ]
        }
      ],
      "source": [
        "# Prepare Feature Matrix (X) and Target Vector (y)\n",
        "\n",
        "features = [\n",
        "    'Attendance_Encoded',\n",
        "    'StudyHours_Encoded',\n",
        "    'Assignments_Encoded',\n",
        "    'PartTimeJob_Encoded',\n",
        "    'Extracurriculars_Encoded',\n",
        "    'GPA_Normalized'\n",
        "]\n",
        "\n",
        "target = 'Average_Grade'\n",
        "\n",
        "X = df[features].values\n",
        "y = df[target].values\n",
        "\n",
        "print(f\"Feature matrix shape: {X.shape}\")\n",
        "print(f\"Target vector shape: {y.shape}\")"
      ]
    },
    {
      "cell_type": "code",
      "execution_count": null,
      "metadata": {
        "id": "VnoUwU9SeMCW"
      },
      "outputs": [],
      "source": [
        "# Normalizing Features\n",
        "\n",
        "from sklearn.preprocessing import StandardScaler\n",
        "scaler = StandardScaler()\n",
        "X_scaled = scaler.fit_transform(X)\n"
      ]
    },
    {
      "cell_type": "code",
      "execution_count": null,
      "metadata": {
        "id": "8xJYz_9zSRGh"
      },
      "outputs": [],
      "source": [
        "columns_to_save = features + [target]\n",
        "df[columns_to_save].to_csv('preprocessed_model_data.csv', index=False)\n",
        "\n",
        "#from google.colab import files\n",
        "#files.download('preprocessed_model_data.csv')"
      ]
    },
    {
      "cell_type": "code",
      "execution_count": null,
      "metadata": {
        "id": "JqC6I5H2TpaS"
      },
      "outputs": [],
      "source": [
        "import pandas as pd\n",
        "import numpy as np\n",
        "import tensorflow as tf\n",
        "from tensorflow import keras\n",
        "from sklearn.model_selection import train_test_split\n",
        "import matplotlib.pyplot as plt\n"
      ]
    },
    {
      "cell_type": "code",
      "execution_count": null,
      "metadata": {
        "colab": {
          "base_uri": "https://localhost:8080/"
        },
        "id": "nRJXXVgVTuoy",
        "outputId": "6c508265-ddc5-4da2-de95-f01a2985cb50"
      },
      "outputs": [
        {
          "output_type": "stream",
          "name": "stdout",
          "text": [
            "   Attendance_Encoded  StudyHours_Encoded  Assignments_Encoded  \\\n",
            "0               0.825                15.0                    3   \n",
            "1               0.950                 5.0                    3   \n",
            "2               0.450                 5.0                    1   \n",
            "3               0.620                15.0                    2   \n",
            "4               0.950                 5.0                    3   \n",
            "\n",
            "   PartTimeJob_Encoded  Extracurriculars_Encoded  GPA_Normalized  \\\n",
            "0                    1                       0.5        0.190909   \n",
            "1                    0                       1.0        0.518182   \n",
            "2                    1                       0.0        0.476348   \n",
            "3                    0                       1.0        0.609091   \n",
            "4                    0                       0.0        0.476348   \n",
            "\n",
            "   Average_Grade  \n",
            "0       3.300000  \n",
            "1       2.925000  \n",
            "2       1.233333  \n",
            "3       3.000000  \n",
            "4       1.900000  \n"
          ]
        }
      ],
      "source": [
        "df = pd.read_csv('preprocessed_model_data.csv')\n",
        "print(df.head())\n"
      ]
    },
    {
      "cell_type": "code",
      "execution_count": null,
      "metadata": {
        "id": "b2sEk_NHTwXC"
      },
      "outputs": [],
      "source": [
        "# Feature columns: all columns except the target\n",
        "features = [col for col in df.columns if col != 'Average_Grade']\n",
        "target = 'Average_Grade'\n",
        "\n",
        "X = df[features].values\n",
        "y = df[target].values\n"
      ]
    },
    {
      "cell_type": "code",
      "execution_count": null,
      "metadata": {
        "colab": {
          "base_uri": "https://localhost:8080/"
        },
        "id": "nz15Kk-mWdQ7",
        "outputId": "0dc6b226-7837-4c99-c375-5bc30aeb9720"
      },
      "outputs": [
        {
          "output_type": "stream",
          "name": "stdout",
          "text": [
            "1 0\n"
          ]
        }
      ],
      "source": [
        "print(np.isnan(X).sum(), np.isnan(y).sum())\n"
      ]
    },
    {
      "cell_type": "code",
      "execution_count": null,
      "metadata": {
        "id": "i16r0hodW5k4"
      },
      "outputs": [],
      "source": [
        "import numpy as np\n",
        "\n",
        "# Create DataFrame for features and target to easily drop any NaNs at once\n",
        "data = pd.DataFrame(X, columns=features)\n",
        "data['Average_Grade'] = y\n",
        "data = data.dropna()\n",
        "X = data[features].values\n",
        "y = data['Average_Grade'].values\n"
      ]
    },
    {
      "cell_type": "code",
      "execution_count": null,
      "metadata": {
        "colab": {
          "base_uri": "https://localhost:8080/"
        },
        "id": "dk0mXDeNW6sa",
        "outputId": "d90d8e6b-5b5d-417d-dabb-858235ac05ff"
      },
      "outputs": [
        {
          "output_type": "stream",
          "name": "stdout",
          "text": [
            "True\n",
            "0 0\n"
          ]
        }
      ],
      "source": [
        "print(np.isfinite(X).all())\n",
        "# Should print True\n",
        "\n",
        "print(np.isnan(X).sum(), np.isnan(y).sum())\n",
        "# Should both print 0\n"
      ]
    },
    {
      "cell_type": "code",
      "execution_count": null,
      "metadata": {
        "id": "8RBXWNmKXQT6"
      },
      "outputs": [],
      "source": [
        "df = df.dropna(subset=[target])\n"
      ]
    },
    {
      "cell_type": "code",
      "execution_count": null,
      "metadata": {
        "colab": {
          "base_uri": "https://localhost:8080/"
        },
        "id": "WrmxD1HOXbtM",
        "outputId": "b39e9ef6-1d64-4fde-d7af-886cbf427ff9"
      },
      "outputs": [
        {
          "output_type": "execute_result",
          "data": {
            "text/plain": [
              "<Dense name=dense, built=False>"
            ]
          },
          "metadata": {},
          "execution_count": 20
        }
      ],
      "source": [
        "keras.layers.Dense(1)  # no activation, defaults to 'linear'\n"
      ]
    },
    {
      "cell_type": "code",
      "execution_count": null,
      "metadata": {
        "colab": {
          "base_uri": "https://localhost:8080/"
        },
        "id": "yWiNdCJUT_Ti",
        "outputId": "7e01ddaf-6b73-4a35-c6ae-c0818781ac41"
      },
      "outputs": [
        {
          "output_type": "stream",
          "name": "stdout",
          "text": [
            "Train shape: (90, 6), (90,)\n",
            "Test shape: (17, 6), (17,)\n"
          ]
        }
      ],
      "source": [
        "# 85% training, 15% testing (adjust split if you prefer)\n",
        "X_train, X_test, y_train, y_test = train_test_split(\n",
        "    X, y, test_size=0.15, random_state=42\n",
        ")\n",
        "print(f\"Train shape: {X_train.shape}, {y_train.shape}\")\n",
        "print(f\"Test shape: {X_test.shape}, {y_test.shape}\")\n"
      ]
    },
    {
      "cell_type": "code",
      "execution_count": null,
      "metadata": {
        "colab": {
          "base_uri": "https://localhost:8080/"
        },
        "id": "xzKoAHDCXmfy",
        "outputId": "6a62c300-0c42-4128-f8c3-76eccfa8b111"
      },
      "outputs": [
        {
          "output_type": "stream",
          "name": "stdout",
          "text": [
            "0 0\n",
            "0 0\n"
          ]
        }
      ],
      "source": [
        "print(np.isnan(X_train).sum(), np.isnan(y_train).sum())\n",
        "print(np.isinf(X_train).sum(), np.isinf(y_train).sum())\n",
        "# all should print 0\n"
      ]
    },
    {
      "cell_type": "code",
      "execution_count": null,
      "metadata": {
        "colab": {
          "base_uri": "https://localhost:8080/"
        },
        "id": "_7KpstXrXp8p",
        "outputId": "6e171adf-e223-401c-bf5f-e113a43062a8"
      },
      "outputs": [
        {
          "output_type": "stream",
          "name": "stdout",
          "text": [
            "Attendance_Encoded          0\n",
            "StudyHours_Encoded          1\n",
            "Assignments_Encoded         0\n",
            "PartTimeJob_Encoded         0\n",
            "Extracurriculars_Encoded    0\n",
            "GPA_Normalized              0\n",
            "Average_Grade               0\n",
            "dtype: int64\n"
          ]
        }
      ],
      "source": [
        "print(df[features + [target]].isnull().sum())\n"
      ]
    },
    {
      "cell_type": "code",
      "execution_count": null,
      "metadata": {
        "id": "y4WGoHXBhaY2"
      },
      "outputs": [],
      "source": [
        "df['StudyHours_Encoded'] = df['StudyHours_Encoded'].fillna(df['StudyHours_Encoded'].mean())\n"
      ]
    },
    {
      "cell_type": "code",
      "execution_count": null,
      "metadata": {
        "colab": {
          "base_uri": "https://localhost:8080/"
        },
        "id": "EZdeg7yjhfzr",
        "outputId": "15d3c9f3-104b-4b92-ab57-d1a2ed3018ae"
      },
      "outputs": [
        {
          "output_type": "stream",
          "name": "stdout",
          "text": [
            "Attendance_Encoded          0\n",
            "StudyHours_Encoded          0\n",
            "Assignments_Encoded         0\n",
            "PartTimeJob_Encoded         0\n",
            "Extracurriculars_Encoded    0\n",
            "GPA_Normalized              0\n",
            "Average_Grade               0\n",
            "dtype: int64\n"
          ]
        }
      ],
      "source": [
        "print(df[features + [target]].isnull().sum())"
      ]
    },
    {
      "cell_type": "code",
      "execution_count": null,
      "metadata": {
        "colab": {
          "base_uri": "https://localhost:8080/"
        },
        "id": "S08MP1h8UMwZ",
        "outputId": "c25b056a-ec5d-40a5-b40a-1eac239950de"
      },
      "outputs": [
        {
          "output_type": "stream",
          "name": "stderr",
          "text": [
            "/usr/local/lib/python3.12/dist-packages/keras/src/layers/core/dense.py:93: UserWarning: Do not pass an `input_shape`/`input_dim` argument to a layer. When using Sequential models, prefer using an `Input(shape)` object as the first layer in the model instead.\n",
            "  super().__init__(activity_regularizer=activity_regularizer, **kwargs)\n"
          ]
        }
      ],
      "source": [
        "# Model Architecture2: Deeper MLP\n",
        "model = keras.Sequential([\n",
        "    keras.layers.Dense(128, activation='relu', input_shape=(X_train.shape[1],)),\n",
        "    keras.layers.Dense(64, activation='relu'),\n",
        "    keras.layers.Dense(32, activation='relu'),\n",
        "    keras.layers.Dense(16, activation='relu'),\n",
        "    keras.layers.Dense(8, activation='relu'),\n",
        "    keras.layers.Dense(4, activation='relu'),\n",
        "    keras.layers.Dense(2, activation='relu'),\n",
        "    keras.layers.Dense(1)\n",
        "])"
      ]
    },
    {
      "cell_type": "code",
      "execution_count": null,
      "metadata": {
        "id": "BVlkoqoGUShx"
      },
      "outputs": [],
      "source": [
        "model.compile(optimizer='adam', loss='mse', metrics=['mae'])\n"
      ]
    },
    {
      "cell_type": "code",
      "execution_count": null,
      "metadata": {
        "colab": {
          "base_uri": "https://localhost:8080/"
        },
        "id": "0Wbx3H-p5JFs",
        "outputId": "66366e19-1a12-41d8-ac21-84bf86aef566"
      },
      "outputs": [
        {
          "output_type": "stream",
          "name": "stdout",
          "text": [
            "Epoch 1/200\n",
            "\u001b[1m4/4\u001b[0m \u001b[32m━━━━━━━━━━━━━━━━━━━━\u001b[0m\u001b[37m\u001b[0m \u001b[1m7s\u001b[0m 291ms/step - loss: 8.6358 - mae: 2.8646 - val_loss: 8.2557 - val_mae: 2.7556\n",
            "Epoch 2/200\n",
            "\u001b[1m4/4\u001b[0m \u001b[32m━━━━━━━━━━━━━━━━━━━━\u001b[0m\u001b[37m\u001b[0m \u001b[1m0s\u001b[0m 25ms/step - loss: 7.2116 - mae: 2.6188 - val_loss: 6.8681 - val_mae: 2.4810\n",
            "Epoch 3/200\n",
            "\u001b[1m4/4\u001b[0m \u001b[32m━━━━━━━━━━━━━━━━━━━━\u001b[0m\u001b[37m\u001b[0m \u001b[1m0s\u001b[0m 24ms/step - loss: 6.0881 - mae: 2.3808 - val_loss: 5.3689 - val_mae: 2.1317\n",
            "Epoch 4/200\n",
            "\u001b[1m4/4\u001b[0m \u001b[32m━━━━━━━━━━━━━━━━━━━━\u001b[0m\u001b[37m\u001b[0m \u001b[1m0s\u001b[0m 31ms/step - loss: 4.5012 - mae: 2.0190 - val_loss: 3.9476 - val_mae: 1.7489\n",
            "Epoch 5/200\n",
            "\u001b[1m4/4\u001b[0m \u001b[32m━━━━━━━━━━━━━━━━━━━━\u001b[0m\u001b[37m\u001b[0m \u001b[1m0s\u001b[0m 25ms/step - loss: 3.4138 - mae: 1.7031 - val_loss: 2.7492 - val_mae: 1.3633\n",
            "Epoch 6/200\n",
            "\u001b[1m4/4\u001b[0m \u001b[32m━━━━━━━━━━━━━━━━━━━━\u001b[0m\u001b[37m\u001b[0m \u001b[1m0s\u001b[0m 24ms/step - loss: 2.2748 - mae: 1.3236 - val_loss: 2.2001 - val_mae: 1.2711\n",
            "Epoch 7/200\n",
            "\u001b[1m4/4\u001b[0m \u001b[32m━━━━━━━━━━━━━━━━━━━━\u001b[0m\u001b[37m\u001b[0m \u001b[1m0s\u001b[0m 23ms/step - loss: 1.4704 - mae: 1.0267 - val_loss: 2.7511 - val_mae: 1.3969\n",
            "Epoch 8/200\n",
            "\u001b[1m4/4\u001b[0m \u001b[32m━━━━━━━━━━━━━━━━━━━━\u001b[0m\u001b[37m\u001b[0m \u001b[1m0s\u001b[0m 23ms/step - loss: 1.5321 - mae: 1.0269 - val_loss: 3.3860 - val_mae: 1.5126\n",
            "Epoch 9/200\n",
            "\u001b[1m4/4\u001b[0m \u001b[32m━━━━━━━━━━━━━━━━━━━━\u001b[0m\u001b[37m\u001b[0m \u001b[1m0s\u001b[0m 25ms/step - loss: 1.6526 - mae: 1.0311 - val_loss: 2.8157 - val_mae: 1.4001\n",
            "Epoch 10/200\n",
            "\u001b[1m4/4\u001b[0m \u001b[32m━━━━━━━━━━━━━━━━━━━━\u001b[0m\u001b[37m\u001b[0m \u001b[1m0s\u001b[0m 24ms/step - loss: 1.5856 - mae: 1.0105 - val_loss: 2.1090 - val_mae: 1.2398\n",
            "Epoch 11/200\n",
            "\u001b[1m4/4\u001b[0m \u001b[32m━━━━━━━━━━━━━━━━━━━━\u001b[0m\u001b[37m\u001b[0m \u001b[1m0s\u001b[0m 24ms/step - loss: 1.3170 - mae: 0.9839 - val_loss: 1.8554 - val_mae: 1.1676\n",
            "Epoch 12/200\n",
            "\u001b[1m4/4\u001b[0m \u001b[32m━━━━━━━━━━━━━━━━━━━━\u001b[0m\u001b[37m\u001b[0m \u001b[1m0s\u001b[0m 25ms/step - loss: 1.3721 - mae: 1.0056 - val_loss: 1.7631 - val_mae: 1.1315\n",
            "Epoch 13/200\n",
            "\u001b[1m4/4\u001b[0m \u001b[32m━━━━━━━━━━━━━━━━━━━━\u001b[0m\u001b[37m\u001b[0m \u001b[1m0s\u001b[0m 29ms/step - loss: 1.2373 - mae: 0.9361 - val_loss: 1.7024 - val_mae: 1.1106\n",
            "Epoch 14/200\n",
            "\u001b[1m4/4\u001b[0m \u001b[32m━━━━━━━━━━━━━━━━━━━━\u001b[0m\u001b[37m\u001b[0m \u001b[1m0s\u001b[0m 25ms/step - loss: 1.0652 - mae: 0.8809 - val_loss: 1.6834 - val_mae: 1.1006\n",
            "Epoch 15/200\n",
            "\u001b[1m4/4\u001b[0m \u001b[32m━━━━━━━━━━━━━━━━━━━━\u001b[0m\u001b[37m\u001b[0m \u001b[1m0s\u001b[0m 24ms/step - loss: 1.0931 - mae: 0.8903 - val_loss: 1.6877 - val_mae: 1.1006\n",
            "Epoch 16/200\n",
            "\u001b[1m4/4\u001b[0m \u001b[32m━━━━━━━━━━━━━━━━━━━━\u001b[0m\u001b[37m\u001b[0m \u001b[1m0s\u001b[0m 25ms/step - loss: 1.0093 - mae: 0.8497 - val_loss: 1.6070 - val_mae: 1.0712\n",
            "Epoch 17/200\n",
            "\u001b[1m4/4\u001b[0m \u001b[32m━━━━━━━━━━━━━━━━━━━━\u001b[0m\u001b[37m\u001b[0m \u001b[1m0s\u001b[0m 38ms/step - loss: 0.8765 - mae: 0.7795 - val_loss: 1.4155 - val_mae: 1.0029\n",
            "Epoch 18/200\n",
            "\u001b[1m4/4\u001b[0m \u001b[32m━━━━━━━━━━━━━━━━━━━━\u001b[0m\u001b[37m\u001b[0m \u001b[1m0s\u001b[0m 29ms/step - loss: 0.8978 - mae: 0.8069 - val_loss: 1.2795 - val_mae: 0.9401\n",
            "Epoch 19/200\n",
            "\u001b[1m4/4\u001b[0m \u001b[32m━━━━━━━━━━━━━━━━━━━━\u001b[0m\u001b[37m\u001b[0m \u001b[1m0s\u001b[0m 24ms/step - loss: 0.7618 - mae: 0.7312 - val_loss: 1.2078 - val_mae: 0.9150\n",
            "Epoch 20/200\n",
            "\u001b[1m4/4\u001b[0m \u001b[32m━━━━━━━━━━━━━━━━━━━━\u001b[0m\u001b[37m\u001b[0m \u001b[1m0s\u001b[0m 25ms/step - loss: 0.7013 - mae: 0.7042 - val_loss: 1.1319 - val_mae: 0.8815\n",
            "Epoch 21/200\n",
            "\u001b[1m4/4\u001b[0m \u001b[32m━━━━━━━━━━━━━━━━━━━━\u001b[0m\u001b[37m\u001b[0m \u001b[1m0s\u001b[0m 30ms/step - loss: 0.6684 - mae: 0.6856 - val_loss: 1.0389 - val_mae: 0.8361\n",
            "Epoch 22/200\n",
            "\u001b[1m4/4\u001b[0m \u001b[32m━━━━━━━━━━━━━━━━━━━━\u001b[0m\u001b[37m\u001b[0m \u001b[1m0s\u001b[0m 38ms/step - loss: 0.6122 - mae: 0.6754 - val_loss: 0.9318 - val_mae: 0.7799\n",
            "Epoch 23/200\n",
            "\u001b[1m4/4\u001b[0m \u001b[32m━━━━━━━━━━━━━━━━━━━━\u001b[0m\u001b[37m\u001b[0m \u001b[1m0s\u001b[0m 24ms/step - loss: 0.5874 - mae: 0.6552 - val_loss: 0.8352 - val_mae: 0.7236\n",
            "Epoch 24/200\n",
            "\u001b[1m4/4\u001b[0m \u001b[32m━━━━━━━━━━━━━━━━━━━━\u001b[0m\u001b[37m\u001b[0m \u001b[1m0s\u001b[0m 24ms/step - loss: 0.5615 - mae: 0.6424 - val_loss: 0.7560 - val_mae: 0.6696\n",
            "Epoch 25/200\n",
            "\u001b[1m4/4\u001b[0m \u001b[32m━━━━━━━━━━━━━━━━━━━━\u001b[0m\u001b[37m\u001b[0m \u001b[1m0s\u001b[0m 24ms/step - loss: 0.4989 - mae: 0.5958 - val_loss: 0.6957 - val_mae: 0.6240\n",
            "Epoch 26/200\n",
            "\u001b[1m4/4\u001b[0m \u001b[32m━━━━━━━━━━━━━━━━━━━━\u001b[0m\u001b[37m\u001b[0m \u001b[1m0s\u001b[0m 26ms/step - loss: 0.4257 - mae: 0.5628 - val_loss: 0.6383 - val_mae: 0.5786\n",
            "Epoch 27/200\n",
            "\u001b[1m4/4\u001b[0m \u001b[32m━━━━━━━━━━━━━━━━━━━━\u001b[0m\u001b[37m\u001b[0m \u001b[1m0s\u001b[0m 24ms/step - loss: 0.4408 - mae: 0.5506 - val_loss: 0.5955 - val_mae: 0.5551\n",
            "Epoch 28/200\n",
            "\u001b[1m4/4\u001b[0m \u001b[32m━━━━━━━━━━━━━━━━━━━━\u001b[0m\u001b[37m\u001b[0m \u001b[1m0s\u001b[0m 30ms/step - loss: 0.3978 - mae: 0.5261 - val_loss: 0.5581 - val_mae: 0.5412\n",
            "Epoch 29/200\n",
            "\u001b[1m4/4\u001b[0m \u001b[32m━━━━━━━━━━━━━━━━━━━━\u001b[0m\u001b[37m\u001b[0m \u001b[1m0s\u001b[0m 24ms/step - loss: 0.4265 - mae: 0.5475 - val_loss: 0.5335 - val_mae: 0.5327\n",
            "Epoch 30/200\n",
            "\u001b[1m4/4\u001b[0m \u001b[32m━━━━━━━━━━━━━━━━━━━━\u001b[0m\u001b[37m\u001b[0m \u001b[1m0s\u001b[0m 25ms/step - loss: 0.4076 - mae: 0.5191 - val_loss: 0.5209 - val_mae: 0.5298\n",
            "Epoch 31/200\n",
            "\u001b[1m4/4\u001b[0m \u001b[32m━━━━━━━━━━━━━━━━━━━━\u001b[0m\u001b[37m\u001b[0m \u001b[1m0s\u001b[0m 25ms/step - loss: 0.3257 - mae: 0.4749 - val_loss: 0.5092 - val_mae: 0.5285\n",
            "Epoch 32/200\n",
            "\u001b[1m4/4\u001b[0m \u001b[32m━━━━━━━━━━━━━━━━━━━━\u001b[0m\u001b[37m\u001b[0m \u001b[1m0s\u001b[0m 26ms/step - loss: 0.4204 - mae: 0.5211 - val_loss: 0.5041 - val_mae: 0.5269\n",
            "Epoch 33/200\n",
            "\u001b[1m4/4\u001b[0m \u001b[32m━━━━━━━━━━━━━━━━━━━━\u001b[0m\u001b[37m\u001b[0m \u001b[1m0s\u001b[0m 25ms/step - loss: 0.4429 - mae: 0.5346 - val_loss: 0.5001 - val_mae: 0.5256\n",
            "Epoch 34/200\n",
            "\u001b[1m4/4\u001b[0m \u001b[32m━━━━━━━━━━━━━━━━━━━━\u001b[0m\u001b[37m\u001b[0m \u001b[1m0s\u001b[0m 38ms/step - loss: 0.3992 - mae: 0.5263 - val_loss: 0.5081 - val_mae: 0.5309\n",
            "Epoch 35/200\n",
            "\u001b[1m4/4\u001b[0m \u001b[32m━━━━━━━━━━━━━━━━━━━━\u001b[0m\u001b[37m\u001b[0m \u001b[1m0s\u001b[0m 47ms/step - loss: 0.3682 - mae: 0.5046 - val_loss: 0.4982 - val_mae: 0.5263\n",
            "Epoch 36/200\n",
            "\u001b[1m4/4\u001b[0m \u001b[32m━━━━━━━━━━━━━━━━━━━━\u001b[0m\u001b[37m\u001b[0m \u001b[1m0s\u001b[0m 35ms/step - loss: 0.3861 - mae: 0.5109 - val_loss: 0.4986 - val_mae: 0.5256\n",
            "Epoch 37/200\n",
            "\u001b[1m4/4\u001b[0m \u001b[32m━━━━━━━━━━━━━━━━━━━━\u001b[0m\u001b[37m\u001b[0m \u001b[1m0s\u001b[0m 43ms/step - loss: 0.4452 - mae: 0.5522 - val_loss: 0.5029 - val_mae: 0.5283\n",
            "Epoch 38/200\n",
            "\u001b[1m4/4\u001b[0m \u001b[32m━━━━━━━━━━━━━━━━━━━━\u001b[0m\u001b[37m\u001b[0m \u001b[1m0s\u001b[0m 33ms/step - loss: 0.4534 - mae: 0.5570 - val_loss: 0.5197 - val_mae: 0.5376\n",
            "Epoch 39/200\n",
            "\u001b[1m4/4\u001b[0m \u001b[32m━━━━━━━━━━━━━━━━━━━━\u001b[0m\u001b[37m\u001b[0m \u001b[1m0s\u001b[0m 45ms/step - loss: 0.3736 - mae: 0.5004 - val_loss: 0.5060 - val_mae: 0.5320\n",
            "Epoch 40/200\n",
            "\u001b[1m4/4\u001b[0m \u001b[32m━━━━━━━━━━━━━━━━━━━━\u001b[0m\u001b[37m\u001b[0m \u001b[1m0s\u001b[0m 44ms/step - loss: 0.4332 - mae: 0.5366 - val_loss: 0.4998 - val_mae: 0.5272\n",
            "Epoch 41/200\n",
            "\u001b[1m4/4\u001b[0m \u001b[32m━━━━━━━━━━━━━━━━━━━━\u001b[0m\u001b[37m\u001b[0m \u001b[1m0s\u001b[0m 45ms/step - loss: 0.3566 - mae: 0.5005 - val_loss: 0.5010 - val_mae: 0.5288\n",
            "Epoch 42/200\n",
            "\u001b[1m4/4\u001b[0m \u001b[32m━━━━━━━━━━━━━━━━━━━━\u001b[0m\u001b[37m\u001b[0m \u001b[1m0s\u001b[0m 37ms/step - loss: 0.3954 - mae: 0.5303 - val_loss: 0.5017 - val_mae: 0.5293\n",
            "Epoch 43/200\n",
            "\u001b[1m4/4\u001b[0m \u001b[32m━━━━━━━━━━━━━━━━━━━━\u001b[0m\u001b[37m\u001b[0m \u001b[1m0s\u001b[0m 47ms/step - loss: 0.4127 - mae: 0.5197 - val_loss: 0.5030 - val_mae: 0.5301\n",
            "Epoch 44/200\n",
            "\u001b[1m4/4\u001b[0m \u001b[32m━━━━━━━━━━━━━━━━━━━━\u001b[0m\u001b[37m\u001b[0m \u001b[1m0s\u001b[0m 37ms/step - loss: 0.3616 - mae: 0.5037 - val_loss: 0.4968 - val_mae: 0.5279\n",
            "Epoch 45/200\n",
            "\u001b[1m4/4\u001b[0m \u001b[32m━━━━━━━━━━━━━━━━━━━━\u001b[0m\u001b[37m\u001b[0m \u001b[1m0s\u001b[0m 26ms/step - loss: 0.4245 - mae: 0.5327 - val_loss: 0.4941 - val_mae: 0.5272\n",
            "Epoch 46/200\n",
            "\u001b[1m4/4\u001b[0m \u001b[32m━━━━━━━━━━━━━━━━━━━━\u001b[0m\u001b[37m\u001b[0m \u001b[1m0s\u001b[0m 30ms/step - loss: 0.3575 - mae: 0.5072 - val_loss: 0.4920 - val_mae: 0.5285\n",
            "Epoch 47/200\n",
            "\u001b[1m4/4\u001b[0m \u001b[32m━━━━━━━━━━━━━━━━━━━━\u001b[0m\u001b[37m\u001b[0m \u001b[1m0s\u001b[0m 25ms/step - loss: 0.3798 - mae: 0.5142 - val_loss: 0.4848 - val_mae: 0.5231\n",
            "Epoch 48/200\n",
            "\u001b[1m4/4\u001b[0m \u001b[32m━━━━━━━━━━━━━━━━━━━━\u001b[0m\u001b[37m\u001b[0m \u001b[1m0s\u001b[0m 23ms/step - loss: 0.3845 - mae: 0.5087 - val_loss: 0.4979 - val_mae: 0.5327\n",
            "Epoch 49/200\n",
            "\u001b[1m4/4\u001b[0m \u001b[32m━━━━━━━━━━━━━━━━━━━━\u001b[0m\u001b[37m\u001b[0m \u001b[1m0s\u001b[0m 24ms/step - loss: 0.4300 - mae: 0.5361 - val_loss: 0.4758 - val_mae: 0.5233\n",
            "Epoch 50/200\n",
            "\u001b[1m4/4\u001b[0m \u001b[32m━━━━━━━━━━━━━━━━━━━━\u001b[0m\u001b[37m\u001b[0m \u001b[1m0s\u001b[0m 25ms/step - loss: 0.4542 - mae: 0.5519 - val_loss: 0.4745 - val_mae: 0.5245\n",
            "Epoch 51/200\n",
            "\u001b[1m4/4\u001b[0m \u001b[32m━━━━━━━━━━━━━━━━━━━━\u001b[0m\u001b[37m\u001b[0m \u001b[1m0s\u001b[0m 24ms/step - loss: 0.3899 - mae: 0.5105 - val_loss: 0.4779 - val_mae: 0.5283\n",
            "Epoch 52/200\n",
            "\u001b[1m4/4\u001b[0m \u001b[32m━━━━━━━━━━━━━━━━━━━━\u001b[0m\u001b[37m\u001b[0m \u001b[1m0s\u001b[0m 24ms/step - loss: 0.3567 - mae: 0.4849 - val_loss: 0.5077 - val_mae: 0.5471\n",
            "Epoch 53/200\n",
            "\u001b[1m4/4\u001b[0m \u001b[32m━━━━━━━━━━━━━━━━━━━━\u001b[0m\u001b[37m\u001b[0m \u001b[1m0s\u001b[0m 24ms/step - loss: 0.3685 - mae: 0.5033 - val_loss: 0.4750 - val_mae: 0.5279\n",
            "Epoch 54/200\n",
            "\u001b[1m4/4\u001b[0m \u001b[32m━━━━━━━━━━━━━━━━━━━━\u001b[0m\u001b[37m\u001b[0m \u001b[1m0s\u001b[0m 25ms/step - loss: 0.3632 - mae: 0.4966 - val_loss: 0.4738 - val_mae: 0.5222\n",
            "Epoch 55/200\n",
            "\u001b[1m4/4\u001b[0m \u001b[32m━━━━━━━━━━━━━━━━━━━━\u001b[0m\u001b[37m\u001b[0m \u001b[1m0s\u001b[0m 24ms/step - loss: 0.3586 - mae: 0.4963 - val_loss: 0.4805 - val_mae: 0.5312\n",
            "Epoch 56/200\n",
            "\u001b[1m4/4\u001b[0m \u001b[32m━━━━━━━━━━━━━━━━━━━━\u001b[0m\u001b[37m\u001b[0m \u001b[1m0s\u001b[0m 24ms/step - loss: 0.4100 - mae: 0.5206 - val_loss: 0.5124 - val_mae: 0.5503\n",
            "Epoch 57/200\n",
            "\u001b[1m4/4\u001b[0m \u001b[32m━━━━━━━━━━━━━━━━━━━━\u001b[0m\u001b[37m\u001b[0m \u001b[1m0s\u001b[0m 78ms/step - loss: 0.3673 - mae: 0.5114 - val_loss: 0.4686 - val_mae: 0.5219\n",
            "Epoch 58/200\n",
            "\u001b[1m4/4\u001b[0m \u001b[32m━━━━━━━━━━━━━━━━━━━━\u001b[0m\u001b[37m\u001b[0m \u001b[1m1s\u001b[0m 81ms/step - loss: 0.3644 - mae: 0.4986 - val_loss: 0.4662 - val_mae: 0.5195\n",
            "Epoch 59/200\n",
            "\u001b[1m4/4\u001b[0m \u001b[32m━━━━━━━━━━━━━━━━━━━━\u001b[0m\u001b[37m\u001b[0m \u001b[1m1s\u001b[0m 57ms/step - loss: 0.3993 - mae: 0.5188 - val_loss: 0.4709 - val_mae: 0.5288\n",
            "Epoch 60/200\n",
            "\u001b[1m4/4\u001b[0m \u001b[32m━━━━━━━━━━━━━━━━━━━━\u001b[0m\u001b[37m\u001b[0m \u001b[1m0s\u001b[0m 48ms/step - loss: 0.3991 - mae: 0.5197 - val_loss: 0.4762 - val_mae: 0.5314\n",
            "Epoch 61/200\n",
            "\u001b[1m4/4\u001b[0m \u001b[32m━━━━━━━━━━━━━━━━━━━━\u001b[0m\u001b[37m\u001b[0m \u001b[1m0s\u001b[0m 76ms/step - loss: 0.3165 - mae: 0.4696 - val_loss: 0.4598 - val_mae: 0.5244\n",
            "Epoch 62/200\n",
            "\u001b[1m4/4\u001b[0m \u001b[32m━━━━━━━━━━━━━━━━━━━━\u001b[0m\u001b[37m\u001b[0m \u001b[1m0s\u001b[0m 79ms/step - loss: 0.4005 - mae: 0.5111 - val_loss: 0.4546 - val_mae: 0.5182\n",
            "Epoch 63/200\n",
            "\u001b[1m4/4\u001b[0m \u001b[32m━━━━━━━━━━━━━━━━━━━━\u001b[0m\u001b[37m\u001b[0m \u001b[1m0s\u001b[0m 63ms/step - loss: 0.3446 - mae: 0.4836 - val_loss: 0.4755 - val_mae: 0.5322\n",
            "Epoch 64/200\n",
            "\u001b[1m4/4\u001b[0m \u001b[32m━━━━━━━━━━━━━━━━━━━━\u001b[0m\u001b[37m\u001b[0m \u001b[1m0s\u001b[0m 61ms/step - loss: 0.3710 - mae: 0.5072 - val_loss: 0.5006 - val_mae: 0.5503\n",
            "Epoch 65/200\n",
            "\u001b[1m4/4\u001b[0m \u001b[32m━━━━━━━━━━━━━━━━━━━━\u001b[0m\u001b[37m\u001b[0m \u001b[1m0s\u001b[0m 52ms/step - loss: 0.3266 - mae: 0.4772 - val_loss: 0.4548 - val_mae: 0.5189\n",
            "Epoch 66/200\n",
            "\u001b[1m4/4\u001b[0m \u001b[32m━━━━━━━━━━━━━━━━━━━━\u001b[0m\u001b[37m\u001b[0m \u001b[1m0s\u001b[0m 55ms/step - loss: 0.3471 - mae: 0.4947 - val_loss: 0.4544 - val_mae: 0.5171\n",
            "Epoch 67/200\n",
            "\u001b[1m4/4\u001b[0m \u001b[32m━━━━━━━━━━━━━━━━━━━━\u001b[0m\u001b[37m\u001b[0m \u001b[1m0s\u001b[0m 91ms/step - loss: 0.3576 - mae: 0.5094 - val_loss: 0.4828 - val_mae: 0.5443\n",
            "Epoch 68/200\n",
            "\u001b[1m4/4\u001b[0m \u001b[32m━━━━━━━━━━━━━━━━━━━━\u001b[0m\u001b[37m\u001b[0m \u001b[1m1s\u001b[0m 73ms/step - loss: 0.3485 - mae: 0.4935 - val_loss: 0.4529 - val_mae: 0.5276\n",
            "Epoch 69/200\n",
            "\u001b[1m4/4\u001b[0m \u001b[32m━━━━━━━━━━━━━━━━━━━━\u001b[0m\u001b[37m\u001b[0m \u001b[1m0s\u001b[0m 24ms/step - loss: 0.3292 - mae: 0.4796 - val_loss: 0.4493 - val_mae: 0.5269\n",
            "Epoch 70/200\n",
            "\u001b[1m4/4\u001b[0m \u001b[32m━━━━━━━━━━━━━━━━━━━━\u001b[0m\u001b[37m\u001b[0m \u001b[1m0s\u001b[0m 24ms/step - loss: 0.3314 - mae: 0.4725 - val_loss: 0.4496 - val_mae: 0.5277\n",
            "Epoch 71/200\n",
            "\u001b[1m4/4\u001b[0m \u001b[32m━━━━━━━━━━━━━━━━━━━━\u001b[0m\u001b[37m\u001b[0m \u001b[1m0s\u001b[0m 24ms/step - loss: 0.3121 - mae: 0.4709 - val_loss: 0.4525 - val_mae: 0.5294\n",
            "Epoch 72/200\n",
            "\u001b[1m4/4\u001b[0m \u001b[32m━━━━━━━━━━━━━━━━━━━━\u001b[0m\u001b[37m\u001b[0m \u001b[1m0s\u001b[0m 38ms/step - loss: 0.3620 - mae: 0.5042 - val_loss: 0.4486 - val_mae: 0.5283\n",
            "Epoch 73/200\n",
            "\u001b[1m4/4\u001b[0m \u001b[32m━━━━━━━━━━━━━━━━━━━━\u001b[0m\u001b[37m\u001b[0m \u001b[1m0s\u001b[0m 26ms/step - loss: 0.3500 - mae: 0.4846 - val_loss: 0.4426 - val_mae: 0.5252\n",
            "Epoch 74/200\n",
            "\u001b[1m4/4\u001b[0m \u001b[32m━━━━━━━━━━━━━━━━━━━━\u001b[0m\u001b[37m\u001b[0m \u001b[1m0s\u001b[0m 23ms/step - loss: 0.3028 - mae: 0.4616 - val_loss: 0.4442 - val_mae: 0.5266\n",
            "Epoch 75/200\n",
            "\u001b[1m4/4\u001b[0m \u001b[32m━━━━━━━━━━━━━━━━━━━━\u001b[0m\u001b[37m\u001b[0m \u001b[1m0s\u001b[0m 24ms/step - loss: 0.3781 - mae: 0.5022 - val_loss: 0.4405 - val_mae: 0.5243\n",
            "Epoch 76/200\n",
            "\u001b[1m4/4\u001b[0m \u001b[32m━━━━━━━━━━━━━━━━━━━━\u001b[0m\u001b[37m\u001b[0m \u001b[1m0s\u001b[0m 25ms/step - loss: 0.3073 - mae: 0.4595 - val_loss: 0.4688 - val_mae: 0.5396\n",
            "Epoch 77/200\n",
            "\u001b[1m4/4\u001b[0m \u001b[32m━━━━━━━━━━━━━━━━━━━━\u001b[0m\u001b[37m\u001b[0m \u001b[1m0s\u001b[0m 24ms/step - loss: 0.3747 - mae: 0.5039 - val_loss: 0.4563 - val_mae: 0.5327\n",
            "Epoch 78/200\n",
            "\u001b[1m4/4\u001b[0m \u001b[32m━━━━━━━━━━━━━━━━━━━━\u001b[0m\u001b[37m\u001b[0m \u001b[1m0s\u001b[0m 25ms/step - loss: 0.3170 - mae: 0.4707 - val_loss: 0.4384 - val_mae: 0.5156\n",
            "Epoch 79/200\n",
            "\u001b[1m4/4\u001b[0m \u001b[32m━━━━━━━━━━━━━━━━━━━━\u001b[0m\u001b[37m\u001b[0m \u001b[1m0s\u001b[0m 25ms/step - loss: 0.3593 - mae: 0.4983 - val_loss: 0.4326 - val_mae: 0.5181\n",
            "Epoch 80/200\n",
            "\u001b[1m4/4\u001b[0m \u001b[32m━━━━━━━━━━━━━━━━━━━━\u001b[0m\u001b[37m\u001b[0m \u001b[1m0s\u001b[0m 37ms/step - loss: 0.3301 - mae: 0.4723 - val_loss: 0.4477 - val_mae: 0.5310\n",
            "Epoch 81/200\n",
            "\u001b[1m4/4\u001b[0m \u001b[32m━━━━━━━━━━━━━━━━━━━━\u001b[0m\u001b[37m\u001b[0m \u001b[1m0s\u001b[0m 25ms/step - loss: 0.3337 - mae: 0.4710 - val_loss: 0.4532 - val_mae: 0.5343\n",
            "Epoch 82/200\n",
            "\u001b[1m4/4\u001b[0m \u001b[32m━━━━━━━━━━━━━━━━━━━━\u001b[0m\u001b[37m\u001b[0m \u001b[1m0s\u001b[0m 24ms/step - loss: 0.3288 - mae: 0.4929 - val_loss: 0.4334 - val_mae: 0.5260\n",
            "Epoch 83/200\n",
            "\u001b[1m4/4\u001b[0m \u001b[32m━━━━━━━━━━━━━━━━━━━━\u001b[0m\u001b[37m\u001b[0m \u001b[1m0s\u001b[0m 26ms/step - loss: 0.3587 - mae: 0.4873 - val_loss: 0.4290 - val_mae: 0.5222\n",
            "Epoch 84/200\n",
            "\u001b[1m4/4\u001b[0m \u001b[32m━━━━━━━━━━━━━━━━━━━━\u001b[0m\u001b[37m\u001b[0m \u001b[1m0s\u001b[0m 24ms/step - loss: 0.3001 - mae: 0.4665 - val_loss: 0.4456 - val_mae: 0.5318\n",
            "Epoch 85/200\n",
            "\u001b[1m4/4\u001b[0m \u001b[32m━━━━━━━━━━━━━━━━━━━━\u001b[0m\u001b[37m\u001b[0m \u001b[1m0s\u001b[0m 24ms/step - loss: 0.3405 - mae: 0.4733 - val_loss: 0.4456 - val_mae: 0.5324\n",
            "Epoch 86/200\n",
            "\u001b[1m4/4\u001b[0m \u001b[32m━━━━━━━━━━━━━━━━━━━━\u001b[0m\u001b[37m\u001b[0m \u001b[1m0s\u001b[0m 25ms/step - loss: 0.3133 - mae: 0.4734 - val_loss: 0.4217 - val_mae: 0.5171\n",
            "Epoch 87/200\n",
            "\u001b[1m4/4\u001b[0m \u001b[32m━━━━━━━━━━━━━━━━━━━━\u001b[0m\u001b[37m\u001b[0m \u001b[1m0s\u001b[0m 26ms/step - loss: 0.3798 - mae: 0.5164 - val_loss: 0.4450 - val_mae: 0.5321\n",
            "Epoch 88/200\n",
            "\u001b[1m4/4\u001b[0m \u001b[32m━━━━━━━━━━━━━━━━━━━━\u001b[0m\u001b[37m\u001b[0m \u001b[1m0s\u001b[0m 29ms/step - loss: 0.2846 - mae: 0.4572 - val_loss: 0.4378 - val_mae: 0.5297\n",
            "Epoch 89/200\n",
            "\u001b[1m4/4\u001b[0m \u001b[32m━━━━━━━━━━━━━━━━━━━━\u001b[0m\u001b[37m\u001b[0m \u001b[1m0s\u001b[0m 24ms/step - loss: 0.3033 - mae: 0.4610 - val_loss: 0.4301 - val_mae: 0.5266\n",
            "Epoch 90/200\n",
            "\u001b[1m4/4\u001b[0m \u001b[32m━━━━━━━━━━━━━━━━━━━━\u001b[0m\u001b[37m\u001b[0m \u001b[1m0s\u001b[0m 24ms/step - loss: 0.3180 - mae: 0.4770 - val_loss: 0.4232 - val_mae: 0.5205\n",
            "Epoch 91/200\n",
            "\u001b[1m4/4\u001b[0m \u001b[32m━━━━━━━━━━━━━━━━━━━━\u001b[0m\u001b[37m\u001b[0m \u001b[1m0s\u001b[0m 24ms/step - loss: 0.2714 - mae: 0.4432 - val_loss: 0.4288 - val_mae: 0.5248\n",
            "Epoch 92/200\n",
            "\u001b[1m4/4\u001b[0m \u001b[32m━━━━━━━━━━━━━━━━━━━━\u001b[0m\u001b[37m\u001b[0m \u001b[1m0s\u001b[0m 24ms/step - loss: 0.3004 - mae: 0.4621 - val_loss: 0.4241 - val_mae: 0.5219\n",
            "Epoch 93/200\n",
            "\u001b[1m4/4\u001b[0m \u001b[32m━━━━━━━━━━━━━━━━━━━━\u001b[0m\u001b[37m\u001b[0m \u001b[1m0s\u001b[0m 24ms/step - loss: 0.2754 - mae: 0.4498 - val_loss: 0.4288 - val_mae: 0.5249\n",
            "Epoch 94/200\n",
            "\u001b[1m4/4\u001b[0m \u001b[32m━━━━━━━━━━━━━━━━━━━━\u001b[0m\u001b[37m\u001b[0m \u001b[1m0s\u001b[0m 24ms/step - loss: 0.3403 - mae: 0.4955 - val_loss: 0.4501 - val_mae: 0.5335\n",
            "Epoch 95/200\n",
            "\u001b[1m4/4\u001b[0m \u001b[32m━━━━━━━━━━━━━━━━━━━━\u001b[0m\u001b[37m\u001b[0m \u001b[1m0s\u001b[0m 23ms/step - loss: 0.3344 - mae: 0.4841 - val_loss: 0.4447 - val_mae: 0.5324\n",
            "Epoch 96/200\n",
            "\u001b[1m4/4\u001b[0m \u001b[32m━━━━━━━━━━━━━━━━━━━━\u001b[0m\u001b[37m\u001b[0m \u001b[1m0s\u001b[0m 31ms/step - loss: 0.2812 - mae: 0.4541 - val_loss: 0.4119 - val_mae: 0.5142\n",
            "Epoch 97/200\n",
            "\u001b[1m4/4\u001b[0m \u001b[32m━━━━━━━━━━━━━━━━━━━━\u001b[0m\u001b[37m\u001b[0m \u001b[1m0s\u001b[0m 24ms/step - loss: 0.2979 - mae: 0.4457 - val_loss: 0.4215 - val_mae: 0.5253\n",
            "Epoch 98/200\n",
            "\u001b[1m4/4\u001b[0m \u001b[32m━━━━━━━━━━━━━━━━━━━━\u001b[0m\u001b[37m\u001b[0m \u001b[1m0s\u001b[0m 25ms/step - loss: 0.3147 - mae: 0.4672 - val_loss: 0.4554 - val_mae: 0.5484\n",
            "Epoch 99/200\n",
            "\u001b[1m4/4\u001b[0m \u001b[32m━━━━━━━━━━━━━━━━━━━━\u001b[0m\u001b[37m\u001b[0m \u001b[1m0s\u001b[0m 25ms/step - loss: 0.2874 - mae: 0.4599 - val_loss: 0.4049 - val_mae: 0.5160\n",
            "Epoch 100/200\n",
            "\u001b[1m4/4\u001b[0m \u001b[32m━━━━━━━━━━━━━━━━━━━━\u001b[0m\u001b[37m\u001b[0m \u001b[1m0s\u001b[0m 40ms/step - loss: 0.3305 - mae: 0.4711 - val_loss: 0.4071 - val_mae: 0.5177\n",
            "Epoch 101/200\n",
            "\u001b[1m4/4\u001b[0m \u001b[32m━━━━━━━━━━━━━━━━━━━━\u001b[0m\u001b[37m\u001b[0m \u001b[1m0s\u001b[0m 47ms/step - loss: 0.3034 - mae: 0.4608 - val_loss: 0.4756 - val_mae: 0.5666\n",
            "Epoch 102/200\n",
            "\u001b[1m4/4\u001b[0m \u001b[32m━━━━━━━━━━━━━━━━━━━━\u001b[0m\u001b[37m\u001b[0m \u001b[1m0s\u001b[0m 34ms/step - loss: 0.2725 - mae: 0.4414 - val_loss: 0.4081 - val_mae: 0.5190\n",
            "Epoch 103/200\n",
            "\u001b[1m4/4\u001b[0m \u001b[32m━━━━━━━━━━━━━━━━━━━━\u001b[0m\u001b[37m\u001b[0m \u001b[1m0s\u001b[0m 41ms/step - loss: 0.3338 - mae: 0.4738 - val_loss: 0.4086 - val_mae: 0.5119\n",
            "Epoch 104/200\n",
            "\u001b[1m4/4\u001b[0m \u001b[32m━━━━━━━━━━━━━━━━━━━━\u001b[0m\u001b[37m\u001b[0m \u001b[1m0s\u001b[0m 33ms/step - loss: 0.2935 - mae: 0.4510 - val_loss: 0.4576 - val_mae: 0.5520\n",
            "Epoch 105/200\n",
            "\u001b[1m4/4\u001b[0m \u001b[32m━━━━━━━━━━━━━━━━━━━━\u001b[0m\u001b[37m\u001b[0m \u001b[1m0s\u001b[0m 46ms/step - loss: 0.3096 - mae: 0.4729 - val_loss: 0.4547 - val_mae: 0.5522\n",
            "Epoch 106/200\n",
            "\u001b[1m4/4\u001b[0m \u001b[32m━━━━━━━━━━━━━━━━━━━━\u001b[0m\u001b[37m\u001b[0m \u001b[1m0s\u001b[0m 33ms/step - loss: 0.2691 - mae: 0.4355 - val_loss: 0.4049 - val_mae: 0.5049\n",
            "Epoch 107/200\n",
            "\u001b[1m4/4\u001b[0m \u001b[32m━━━━━━━━━━━━━━━━━━━━\u001b[0m\u001b[37m\u001b[0m \u001b[1m0s\u001b[0m 32ms/step - loss: 0.3345 - mae: 0.4823 - val_loss: 0.4206 - val_mae: 0.5276\n",
            "Epoch 108/200\n",
            "\u001b[1m4/4\u001b[0m \u001b[32m━━━━━━━━━━━━━━━━━━━━\u001b[0m\u001b[37m\u001b[0m \u001b[1m0s\u001b[0m 45ms/step - loss: 0.2683 - mae: 0.4395 - val_loss: 0.4351 - val_mae: 0.5406\n",
            "Epoch 109/200\n",
            "\u001b[1m4/4\u001b[0m \u001b[32m━━━━━━━━━━━━━━━━━━━━\u001b[0m\u001b[37m\u001b[0m \u001b[1m0s\u001b[0m 46ms/step - loss: 0.2927 - mae: 0.4506 - val_loss: 0.3984 - val_mae: 0.5158\n",
            "Epoch 110/200\n",
            "\u001b[1m4/4\u001b[0m \u001b[32m━━━━━━━━━━━━━━━━━━━━\u001b[0m\u001b[37m\u001b[0m \u001b[1m0s\u001b[0m 50ms/step - loss: 0.2703 - mae: 0.4359 - val_loss: 0.4044 - val_mae: 0.5201\n",
            "Epoch 111/200\n",
            "\u001b[1m4/4\u001b[0m \u001b[32m━━━━━━━━━━━━━━━━━━━━\u001b[0m\u001b[37m\u001b[0m \u001b[1m0s\u001b[0m 48ms/step - loss: 0.2556 - mae: 0.4302 - val_loss: 0.4577 - val_mae: 0.5603\n",
            "Epoch 112/200\n",
            "\u001b[1m4/4\u001b[0m \u001b[32m━━━━━━━━━━━━━━━━━━━━\u001b[0m\u001b[37m\u001b[0m \u001b[1m0s\u001b[0m 33ms/step - loss: 0.2764 - mae: 0.4494 - val_loss: 0.4048 - val_mae: 0.5207\n",
            "Epoch 113/200\n",
            "\u001b[1m4/4\u001b[0m \u001b[32m━━━━━━━━━━━━━━━━━━━━\u001b[0m\u001b[37m\u001b[0m \u001b[1m0s\u001b[0m 24ms/step - loss: 0.2508 - mae: 0.4248 - val_loss: 0.4021 - val_mae: 0.5184\n",
            "Epoch 114/200\n",
            "\u001b[1m4/4\u001b[0m \u001b[32m━━━━━━━━━━━━━━━━━━━━\u001b[0m\u001b[37m\u001b[0m \u001b[1m0s\u001b[0m 38ms/step - loss: 0.2866 - mae: 0.4557 - val_loss: 0.4359 - val_mae: 0.5389\n",
            "Epoch 115/200\n",
            "\u001b[1m4/4\u001b[0m \u001b[32m━━━━━━━━━━━━━━━━━━━━\u001b[0m\u001b[37m\u001b[0m \u001b[1m0s\u001b[0m 24ms/step - loss: 0.3053 - mae: 0.4642 - val_loss: 0.4075 - val_mae: 0.5215\n",
            "Epoch 116/200\n",
            "\u001b[1m4/4\u001b[0m \u001b[32m━━━━━━━━━━━━━━━━━━━━\u001b[0m\u001b[37m\u001b[0m \u001b[1m0s\u001b[0m 25ms/step - loss: 0.2333 - mae: 0.4037 - val_loss: 0.4033 - val_mae: 0.5201\n",
            "Epoch 117/200\n",
            "\u001b[1m4/4\u001b[0m \u001b[32m━━━━━━━━━━━━━━━━━━━━\u001b[0m\u001b[37m\u001b[0m \u001b[1m0s\u001b[0m 24ms/step - loss: 0.2732 - mae: 0.4430 - val_loss: 0.4262 - val_mae: 0.5343\n",
            "Epoch 118/200\n",
            "\u001b[1m4/4\u001b[0m \u001b[32m━━━━━━━━━━━━━━━━━━━━\u001b[0m\u001b[37m\u001b[0m \u001b[1m0s\u001b[0m 24ms/step - loss: 0.2743 - mae: 0.4404 - val_loss: 0.4330 - val_mae: 0.5402\n",
            "Epoch 119/200\n",
            "\u001b[1m4/4\u001b[0m \u001b[32m━━━━━━━━━━━━━━━━━━━━\u001b[0m\u001b[37m\u001b[0m \u001b[1m0s\u001b[0m 24ms/step - loss: 0.2709 - mae: 0.4374 - val_loss: 0.4028 - val_mae: 0.5213\n",
            "Epoch 120/200\n",
            "\u001b[1m4/4\u001b[0m \u001b[32m━━━━━━━━━━━━━━━━━━━━\u001b[0m\u001b[37m\u001b[0m \u001b[1m0s\u001b[0m 25ms/step - loss: 0.2822 - mae: 0.4509 - val_loss: 0.4112 - val_mae: 0.5252\n",
            "Epoch 121/200\n",
            "\u001b[1m4/4\u001b[0m \u001b[32m━━━━━━━━━━━━━━━━━━━━\u001b[0m\u001b[37m\u001b[0m \u001b[1m0s\u001b[0m 23ms/step - loss: 0.2609 - mae: 0.4329 - val_loss: 0.4200 - val_mae: 0.5290\n",
            "Epoch 122/200\n",
            "\u001b[1m4/4\u001b[0m \u001b[32m━━━━━━━━━━━━━━━━━━━━\u001b[0m\u001b[37m\u001b[0m \u001b[1m0s\u001b[0m 24ms/step - loss: 0.2398 - mae: 0.4155 - val_loss: 0.4209 - val_mae: 0.5323\n",
            "Epoch 123/200\n",
            "\u001b[1m4/4\u001b[0m \u001b[32m━━━━━━━━━━━━━━━━━━━━\u001b[0m\u001b[37m\u001b[0m \u001b[1m0s\u001b[0m 27ms/step - loss: 0.2451 - mae: 0.4220 - val_loss: 0.3969 - val_mae: 0.5201\n",
            "Epoch 124/200\n",
            "\u001b[1m4/4\u001b[0m \u001b[32m━━━━━━━━━━━━━━━━━━━━\u001b[0m\u001b[37m\u001b[0m \u001b[1m0s\u001b[0m 24ms/step - loss: 0.2761 - mae: 0.4451 - val_loss: 0.4044 - val_mae: 0.5231\n",
            "Epoch 125/200\n",
            "\u001b[1m4/4\u001b[0m \u001b[32m━━━━━━━━━━━━━━━━━━━━\u001b[0m\u001b[37m\u001b[0m \u001b[1m0s\u001b[0m 24ms/step - loss: 0.2726 - mae: 0.4390 - val_loss: 0.4239 - val_mae: 0.5319\n",
            "Epoch 126/200\n",
            "\u001b[1m4/4\u001b[0m \u001b[32m━━━━━━━━━━━━━━━━━━━━\u001b[0m\u001b[37m\u001b[0m \u001b[1m0s\u001b[0m 24ms/step - loss: 0.2802 - mae: 0.4489 - val_loss: 0.4044 - val_mae: 0.5212\n",
            "Epoch 127/200\n",
            "\u001b[1m4/4\u001b[0m \u001b[32m━━━━━━━━━━━━━━━━━━━━\u001b[0m\u001b[37m\u001b[0m \u001b[1m0s\u001b[0m 24ms/step - loss: 0.2679 - mae: 0.4485 - val_loss: 0.4163 - val_mae: 0.5270\n",
            "Epoch 128/200\n",
            "\u001b[1m4/4\u001b[0m \u001b[32m━━━━━━━━━━━━━━━━━━━━\u001b[0m\u001b[37m\u001b[0m \u001b[1m0s\u001b[0m 24ms/step - loss: 0.2582 - mae: 0.4383 - val_loss: 0.4225 - val_mae: 0.5329\n",
            "Epoch 129/200\n",
            "\u001b[1m4/4\u001b[0m \u001b[32m━━━━━━━━━━━━━━━━━━━━\u001b[0m\u001b[37m\u001b[0m \u001b[1m0s\u001b[0m 26ms/step - loss: 0.2554 - mae: 0.4328 - val_loss: 0.4250 - val_mae: 0.5336\n",
            "Epoch 130/200\n",
            "\u001b[1m4/4\u001b[0m \u001b[32m━━━━━━━━━━━━━━━━━━━━\u001b[0m\u001b[37m\u001b[0m \u001b[1m0s\u001b[0m 25ms/step - loss: 0.2778 - mae: 0.4556 - val_loss: 0.4032 - val_mae: 0.5200\n",
            "Epoch 131/200\n",
            "\u001b[1m4/4\u001b[0m \u001b[32m━━━━━━━━━━━━━━━━━━━━\u001b[0m\u001b[37m\u001b[0m \u001b[1m0s\u001b[0m 24ms/step - loss: 0.2618 - mae: 0.4341 - val_loss: 0.4252 - val_mae: 0.5346\n",
            "Epoch 132/200\n",
            "\u001b[1m4/4\u001b[0m \u001b[32m━━━━━━━━━━━━━━━━━━━━\u001b[0m\u001b[37m\u001b[0m \u001b[1m0s\u001b[0m 24ms/step - loss: 0.2759 - mae: 0.4447 - val_loss: 0.3999 - val_mae: 0.5184\n",
            "Epoch 133/200\n",
            "\u001b[1m4/4\u001b[0m \u001b[32m━━━━━━━━━━━━━━━━━━━━\u001b[0m\u001b[37m\u001b[0m \u001b[1m0s\u001b[0m 26ms/step - loss: 0.2674 - mae: 0.4362 - val_loss: 0.4036 - val_mae: 0.5213\n",
            "Epoch 134/200\n",
            "\u001b[1m4/4\u001b[0m \u001b[32m━━━━━━━━━━━━━━━━━━━━\u001b[0m\u001b[37m\u001b[0m \u001b[1m0s\u001b[0m 25ms/step - loss: 0.2640 - mae: 0.4436 - val_loss: 0.4243 - val_mae: 0.5331\n",
            "Epoch 135/200\n",
            "\u001b[1m4/4\u001b[0m \u001b[32m━━━━━━━━━━━━━━━━━━━━\u001b[0m\u001b[37m\u001b[0m \u001b[1m0s\u001b[0m 25ms/step - loss: 0.2561 - mae: 0.4315 - val_loss: 0.4057 - val_mae: 0.5190\n",
            "Epoch 136/200\n",
            "\u001b[1m4/4\u001b[0m \u001b[32m━━━━━━━━━━━━━━━━━━━━\u001b[0m\u001b[37m\u001b[0m \u001b[1m0s\u001b[0m 26ms/step - loss: 0.2304 - mae: 0.4035 - val_loss: 0.4231 - val_mae: 0.5284\n",
            "Epoch 137/200\n",
            "\u001b[1m4/4\u001b[0m \u001b[32m━━━━━━━━━━━━━━━━━━━━\u001b[0m\u001b[37m\u001b[0m \u001b[1m0s\u001b[0m 25ms/step - loss: 0.2781 - mae: 0.4441 - val_loss: 0.4357 - val_mae: 0.5395\n",
            "Epoch 138/200\n",
            "\u001b[1m4/4\u001b[0m \u001b[32m━━━━━━━━━━━━━━━━━━━━\u001b[0m\u001b[37m\u001b[0m \u001b[1m0s\u001b[0m 25ms/step - loss: 0.2554 - mae: 0.4279 - val_loss: 0.4041 - val_mae: 0.5185\n",
            "Epoch 139/200\n",
            "\u001b[1m4/4\u001b[0m \u001b[32m━━━━━━━━━━━━━━━━━━━━\u001b[0m\u001b[37m\u001b[0m \u001b[1m0s\u001b[0m 24ms/step - loss: 0.2405 - mae: 0.4208 - val_loss: 0.4250 - val_mae: 0.5316\n",
            "Epoch 140/200\n",
            "\u001b[1m4/4\u001b[0m \u001b[32m━━━━━━━━━━━━━━━━━━━━\u001b[0m\u001b[37m\u001b[0m \u001b[1m0s\u001b[0m 31ms/step - loss: 0.2535 - mae: 0.4277 - val_loss: 0.4025 - val_mae: 0.5168\n",
            "Epoch 141/200\n",
            "\u001b[1m4/4\u001b[0m \u001b[32m━━━━━━━━━━━━━━━━━━━━\u001b[0m\u001b[37m\u001b[0m \u001b[1m0s\u001b[0m 26ms/step - loss: 0.2581 - mae: 0.4297 - val_loss: 0.4334 - val_mae: 0.5388\n",
            "Epoch 142/200\n",
            "\u001b[1m4/4\u001b[0m \u001b[32m━━━━━━━━━━━━━━━━━━━━\u001b[0m\u001b[37m\u001b[0m \u001b[1m0s\u001b[0m 26ms/step - loss: 0.2443 - mae: 0.4198 - val_loss: 0.4359 - val_mae: 0.5415\n",
            "Epoch 143/200\n",
            "\u001b[1m4/4\u001b[0m \u001b[32m━━━━━━━━━━━━━━━━━━━━\u001b[0m\u001b[37m\u001b[0m \u001b[1m0s\u001b[0m 25ms/step - loss: 0.2583 - mae: 0.4313 - val_loss: 0.4055 - val_mae: 0.5209\n",
            "Epoch 144/200\n",
            "\u001b[1m4/4\u001b[0m \u001b[32m━━━━━━━━━━━━━━━━━━━━\u001b[0m\u001b[37m\u001b[0m \u001b[1m0s\u001b[0m 27ms/step - loss: 0.2298 - mae: 0.4039 - val_loss: 0.4330 - val_mae: 0.5398\n",
            "Epoch 145/200\n",
            "\u001b[1m4/4\u001b[0m \u001b[32m━━━━━━━━━━━━━━━━━━━━\u001b[0m\u001b[37m\u001b[0m \u001b[1m0s\u001b[0m 24ms/step - loss: 0.2557 - mae: 0.4238 - val_loss: 0.4449 - val_mae: 0.5503\n",
            "Epoch 146/200\n",
            "\u001b[1m4/4\u001b[0m \u001b[32m━━━━━━━━━━━━━━━━━━━━\u001b[0m\u001b[37m\u001b[0m \u001b[1m0s\u001b[0m 25ms/step - loss: 0.2571 - mae: 0.4293 - val_loss: 0.4018 - val_mae: 0.5147\n",
            "Epoch 147/200\n",
            "\u001b[1m4/4\u001b[0m \u001b[32m━━━━━━━━━━━━━━━━━━━━\u001b[0m\u001b[37m\u001b[0m \u001b[1m0s\u001b[0m 25ms/step - loss: 0.2510 - mae: 0.4224 - val_loss: 0.4383 - val_mae: 0.5421\n",
            "Epoch 148/200\n",
            "\u001b[1m4/4\u001b[0m \u001b[32m━━━━━━━━━━━━━━━━━━━━\u001b[0m\u001b[37m\u001b[0m \u001b[1m0s\u001b[0m 27ms/step - loss: 0.2283 - mae: 0.3885 - val_loss: 0.4732 - val_mae: 0.5808\n",
            "Epoch 149/200\n",
            "\u001b[1m4/4\u001b[0m \u001b[32m━━━━━━━━━━━━━━━━━━━━\u001b[0m\u001b[37m\u001b[0m \u001b[1m0s\u001b[0m 24ms/step - loss: 0.2357 - mae: 0.4147 - val_loss: 0.3973 - val_mae: 0.5137\n",
            "Epoch 150/200\n",
            "\u001b[1m4/4\u001b[0m \u001b[32m━━━━━━━━━━━━━━━━━━━━\u001b[0m\u001b[37m\u001b[0m \u001b[1m0s\u001b[0m 23ms/step - loss: 0.2293 - mae: 0.3992 - val_loss: 0.4127 - val_mae: 0.5280\n",
            "Epoch 151/200\n",
            "\u001b[1m4/4\u001b[0m \u001b[32m━━━━━━━━━━━━━━━━━━━━\u001b[0m\u001b[37m\u001b[0m \u001b[1m0s\u001b[0m 24ms/step - loss: 0.2361 - mae: 0.4052 - val_loss: 0.4616 - val_mae: 0.5715\n",
            "Epoch 152/200\n",
            "\u001b[1m4/4\u001b[0m \u001b[32m━━━━━━━━━━━━━━━━━━━━\u001b[0m\u001b[37m\u001b[0m \u001b[1m0s\u001b[0m 25ms/step - loss: 0.2330 - mae: 0.3992 - val_loss: 0.4044 - val_mae: 0.5183\n",
            "Epoch 153/200\n",
            "\u001b[1m4/4\u001b[0m \u001b[32m━━━━━━━━━━━━━━━━━━━━\u001b[0m\u001b[37m\u001b[0m \u001b[1m0s\u001b[0m 25ms/step - loss: 0.2263 - mae: 0.3992 - val_loss: 0.4680 - val_mae: 0.5750\n",
            "Epoch 154/200\n",
            "\u001b[1m4/4\u001b[0m \u001b[32m━━━━━━━━━━━━━━━━━━━━\u001b[0m\u001b[37m\u001b[0m \u001b[1m0s\u001b[0m 24ms/step - loss: 0.2483 - mae: 0.4229 - val_loss: 0.4140 - val_mae: 0.5208\n",
            "Epoch 155/200\n",
            "\u001b[1m4/4\u001b[0m \u001b[32m━━━━━━━━━━━━━━━━━━━━\u001b[0m\u001b[37m\u001b[0m \u001b[1m0s\u001b[0m 25ms/step - loss: 0.2151 - mae: 0.3873 - val_loss: 0.4391 - val_mae: 0.5416\n",
            "Epoch 156/200\n",
            "\u001b[1m4/4\u001b[0m \u001b[32m━━━━━━━━━━━━━━━━━━━━\u001b[0m\u001b[37m\u001b[0m \u001b[1m0s\u001b[0m 25ms/step - loss: 0.2263 - mae: 0.4061 - val_loss: 0.4894 - val_mae: 0.5947\n",
            "Epoch 157/200\n",
            "\u001b[1m4/4\u001b[0m \u001b[32m━━━━━━━━━━━━━━━━━━━━\u001b[0m\u001b[37m\u001b[0m \u001b[1m0s\u001b[0m 26ms/step - loss: 0.2524 - mae: 0.4122 - val_loss: 0.4258 - val_mae: 0.5274\n",
            "Epoch 158/200\n",
            "\u001b[1m4/4\u001b[0m \u001b[32m━━━━━━━━━━━━━━━━━━━━\u001b[0m\u001b[37m\u001b[0m \u001b[1m0s\u001b[0m 24ms/step - loss: 0.2573 - mae: 0.4408 - val_loss: 0.4397 - val_mae: 0.5397\n",
            "Epoch 159/200\n",
            "\u001b[1m4/4\u001b[0m \u001b[32m━━━━━━━━━━━━━━━━━━━━\u001b[0m\u001b[37m\u001b[0m \u001b[1m0s\u001b[0m 24ms/step - loss: 0.2200 - mae: 0.3898 - val_loss: 0.4653 - val_mae: 0.5642\n",
            "Epoch 160/200\n",
            "\u001b[1m4/4\u001b[0m \u001b[32m━━━━━━━━━━━━━━━━━━━━\u001b[0m\u001b[37m\u001b[0m \u001b[1m0s\u001b[0m 24ms/step - loss: 0.2209 - mae: 0.3890 - val_loss: 0.4263 - val_mae: 0.5252\n",
            "Epoch 161/200\n",
            "\u001b[1m4/4\u001b[0m \u001b[32m━━━━━━━━━━━━━━━━━━━━\u001b[0m\u001b[37m\u001b[0m \u001b[1m0s\u001b[0m 24ms/step - loss: 0.2708 - mae: 0.4414 - val_loss: 0.4362 - val_mae: 0.5334\n",
            "Epoch 162/200\n",
            "\u001b[1m4/4\u001b[0m \u001b[32m━━━━━━━━━━━━━━━━━━━━\u001b[0m\u001b[37m\u001b[0m \u001b[1m0s\u001b[0m 24ms/step - loss: 0.2578 - mae: 0.4224 - val_loss: 0.5006 - val_mae: 0.6030\n",
            "Epoch 163/200\n",
            "\u001b[1m4/4\u001b[0m \u001b[32m━━━━━━━━━━━━━━━━━━━━\u001b[0m\u001b[37m\u001b[0m \u001b[1m0s\u001b[0m 25ms/step - loss: 0.2327 - mae: 0.3896 - val_loss: 0.4268 - val_mae: 0.5044\n",
            "Epoch 164/200\n",
            "\u001b[1m4/4\u001b[0m \u001b[32m━━━━━━━━━━━━━━━━━━━━\u001b[0m\u001b[37m\u001b[0m \u001b[1m0s\u001b[0m 25ms/step - loss: 0.2747 - mae: 0.4338 - val_loss: 0.4688 - val_mae: 0.5690\n",
            "Epoch 165/200\n",
            "\u001b[1m4/4\u001b[0m \u001b[32m━━━━━━━━━━━━━━━━━━━━\u001b[0m\u001b[37m\u001b[0m \u001b[1m0s\u001b[0m 24ms/step - loss: 0.2319 - mae: 0.3997 - val_loss: 0.5143 - val_mae: 0.6185\n",
            "Epoch 166/200\n",
            "\u001b[1m4/4\u001b[0m \u001b[32m━━━━━━━━━━━━━━━━━━━━\u001b[0m\u001b[37m\u001b[0m \u001b[1m0s\u001b[0m 24ms/step - loss: 0.2262 - mae: 0.3890 - val_loss: 0.4242 - val_mae: 0.5028\n",
            "Epoch 167/200\n",
            "\u001b[1m4/4\u001b[0m \u001b[32m━━━━━━━━━━━━━━━━━━━━\u001b[0m\u001b[37m\u001b[0m \u001b[1m0s\u001b[0m 25ms/step - loss: 0.2797 - mae: 0.4345 - val_loss: 0.4788 - val_mae: 0.5786\n",
            "Epoch 168/200\n",
            "\u001b[1m4/4\u001b[0m \u001b[32m━━━━━━━━━━━━━━━━━━━━\u001b[0m\u001b[37m\u001b[0m \u001b[1m0s\u001b[0m 24ms/step - loss: 0.2496 - mae: 0.4197 - val_loss: 0.4492 - val_mae: 0.5439\n",
            "Epoch 169/200\n",
            "\u001b[1m4/4\u001b[0m \u001b[32m━━━━━━━━━━━━━━━━━━━━\u001b[0m\u001b[37m\u001b[0m \u001b[1m0s\u001b[0m 26ms/step - loss: 0.2278 - mae: 0.3966 - val_loss: 0.4135 - val_mae: 0.5175\n",
            "Epoch 170/200\n",
            "\u001b[1m4/4\u001b[0m \u001b[32m━━━━━━━━━━━━━━━━━━━━\u001b[0m\u001b[37m\u001b[0m \u001b[1m0s\u001b[0m 25ms/step - loss: 0.2367 - mae: 0.4170 - val_loss: 0.4381 - val_mae: 0.5412\n",
            "Epoch 171/200\n",
            "\u001b[1m4/4\u001b[0m \u001b[32m━━━━━━━━━━━━━━━━━━━━\u001b[0m\u001b[37m\u001b[0m \u001b[1m0s\u001b[0m 24ms/step - loss: 0.2088 - mae: 0.3861 - val_loss: 0.4373 - val_mae: 0.5393\n",
            "Epoch 172/200\n",
            "\u001b[1m4/4\u001b[0m \u001b[32m━━━━━━━━━━━━━━━━━━━━\u001b[0m\u001b[37m\u001b[0m \u001b[1m0s\u001b[0m 26ms/step - loss: 0.2559 - mae: 0.4328 - val_loss: 0.4526 - val_mae: 0.5563\n",
            "Epoch 173/200\n",
            "\u001b[1m4/4\u001b[0m \u001b[32m━━━━━━━━━━━━━━━━━━━━\u001b[0m\u001b[37m\u001b[0m \u001b[1m0s\u001b[0m 28ms/step - loss: 0.2471 - mae: 0.4277 - val_loss: 0.4122 - val_mae: 0.5132\n",
            "Epoch 174/200\n",
            "\u001b[1m4/4\u001b[0m \u001b[32m━━━━━━━━━━━━━━━━━━━━\u001b[0m\u001b[37m\u001b[0m \u001b[1m0s\u001b[0m 26ms/step - loss: 0.2302 - mae: 0.4070 - val_loss: 0.5022 - val_mae: 0.6079\n",
            "Epoch 175/200\n",
            "\u001b[1m4/4\u001b[0m \u001b[32m━━━━━━━━━━━━━━━━━━━━\u001b[0m\u001b[37m\u001b[0m \u001b[1m0s\u001b[0m 24ms/step - loss: 0.2521 - mae: 0.4268 - val_loss: 0.4458 - val_mae: 0.5442\n",
            "Epoch 176/200\n",
            "\u001b[1m4/4\u001b[0m \u001b[32m━━━━━━━━━━━━━━━━━━━━\u001b[0m\u001b[37m\u001b[0m \u001b[1m0s\u001b[0m 25ms/step - loss: 0.2403 - mae: 0.4218 - val_loss: 0.4137 - val_mae: 0.5164\n",
            "Epoch 177/200\n",
            "\u001b[1m4/4\u001b[0m \u001b[32m━━━━━━━━━━━━━━━━━━━━\u001b[0m\u001b[37m\u001b[0m \u001b[1m0s\u001b[0m 23ms/step - loss: 0.2205 - mae: 0.3914 - val_loss: 0.4863 - val_mae: 0.5904\n",
            "Epoch 178/200\n",
            "\u001b[1m4/4\u001b[0m \u001b[32m━━━━━━━━━━━━━━━━━━━━\u001b[0m\u001b[37m\u001b[0m \u001b[1m0s\u001b[0m 24ms/step - loss: 0.2504 - mae: 0.4175 - val_loss: 0.4360 - val_mae: 0.5367\n",
            "Epoch 179/200\n",
            "\u001b[1m4/4\u001b[0m \u001b[32m━━━━━━━━━━━━━━━━━━━━\u001b[0m\u001b[37m\u001b[0m \u001b[1m0s\u001b[0m 25ms/step - loss: 0.2138 - mae: 0.3851 - val_loss: 0.4492 - val_mae: 0.5505\n",
            "Epoch 180/200\n",
            "\u001b[1m4/4\u001b[0m \u001b[32m━━━━━━━━━━━━━━━━━━━━\u001b[0m\u001b[37m\u001b[0m \u001b[1m0s\u001b[0m 24ms/step - loss: 0.2344 - mae: 0.4000 - val_loss: 0.4618 - val_mae: 0.5668\n",
            "Epoch 181/200\n",
            "\u001b[1m4/4\u001b[0m \u001b[32m━━━━━━━━━━━━━━━━━━━━\u001b[0m\u001b[37m\u001b[0m \u001b[1m0s\u001b[0m 31ms/step - loss: 0.2214 - mae: 0.3915 - val_loss: 0.4261 - val_mae: 0.5310\n",
            "Epoch 182/200\n",
            "\u001b[1m4/4\u001b[0m \u001b[32m━━━━━━━━━━━━━━━━━━━━\u001b[0m\u001b[37m\u001b[0m \u001b[1m0s\u001b[0m 25ms/step - loss: 0.2588 - mae: 0.4241 - val_loss: 0.5055 - val_mae: 0.6121\n",
            "Epoch 183/200\n",
            "\u001b[1m4/4\u001b[0m \u001b[32m━━━━━━━━━━━━━━━━━━━━\u001b[0m\u001b[37m\u001b[0m \u001b[1m0s\u001b[0m 24ms/step - loss: 0.2230 - mae: 0.3995 - val_loss: 0.4241 - val_mae: 0.5283\n"
          ]
        }
      ],
      "source": [
        "from tensorflow.keras.callbacks import EarlyStopping\n",
        "\n",
        "# Create EarlyStopping callback\n",
        "early_stop = EarlyStopping(\n",
        "    monitor='val_loss',        # What to monitor (validation loss)\n",
        "    patience=60,               # Number of epochs with no improvement after which training stops\n",
        "    restore_best_weights=True  # Keeps the best weights (lowest val_loss)\n",
        ")\n",
        "\n",
        "# Then pass to model.fit() like this:\n",
        "history = model.fit(\n",
        "    X_train, y_train,\n",
        "    epochs=200,                # Or any large number, training will usually stop earlier\n",
        "    batch_size=20,\n",
        "    validation_split=0.2,\n",
        "    callbacks=[early_stop],    # Add the callback here\n",
        "    verbose=1\n",
        ")\n"
      ]
    },
    {
      "cell_type": "code",
      "execution_count": null,
      "metadata": {
        "colab": {
          "base_uri": "https://localhost:8080/"
        },
        "id": "WGHQbR9lqm9I",
        "outputId": "c5ea56d3-ea7a-4782-951d-230570d285b8"
      },
      "outputs": [
        {
          "output_type": "stream",
          "name": "stdout",
          "text": [
            "\u001b[1m3/3\u001b[0m \u001b[32m━━━━━━━━━━━━━━━━━━━━\u001b[0m\u001b[37m\u001b[0m \u001b[1m0s\u001b[0m 44ms/step\n",
            "Train MSE: 0.2844\n",
            "Train MAE: 0.4458\n",
            "Train R2: 0.3517\n"
          ]
        }
      ],
      "source": [
        "from sklearn.metrics import mean_squared_error, mean_absolute_error, r2_score\n",
        "\n",
        "# Make predictions on the training data\n",
        "y_pred_train = model.predict(X_train).flatten()\n",
        "\n",
        "\n",
        "mse = mean_squared_error(y_train, y_pred_train)\n",
        "mae = mean_absolute_error(y_train, y_pred_train)\n",
        "r2 = r2_score(y_train, y_pred_train)\n",
        "\n",
        "print(f\"Train MSE: {mse:.4f}\")\n",
        "print(f\"Train MAE: {mae:.4f}\")\n",
        "print(f\"Train R2: {r2:.4f}\")"
      ]
    },
    {
      "cell_type": "code",
      "execution_count": null,
      "metadata": {
        "colab": {
          "base_uri": "https://localhost:8080/"
        },
        "id": "ZuyRYgC9sS04",
        "outputId": "8c061498-0c6f-47d7-b781-e70b9cf7ecfc"
      },
      "outputs": [
        {
          "output_type": "stream",
          "name": "stdout",
          "text": [
            "\u001b[1m1/1\u001b[0m \u001b[32m━━━━━━━━━━━━━━━━━━━━\u001b[0m\u001b[37m\u001b[0m \u001b[1m0s\u001b[0m 37ms/step\n",
            "Test MSE: 0.3601\n",
            "Test MAE: 0.5061\n",
            "Test R2: 0.1346\n"
          ]
        }
      ],
      "source": [
        "from sklearn.metrics import mean_squared_error, mean_absolute_error, r2_score\n",
        "\n",
        "y_pred = model.predict(X_test).flatten()  # Make predictions on the test data\n",
        "\n",
        "mse = mean_squared_error(y_test, y_pred)\n",
        "mae = mean_absolute_error(y_test, y_pred)\n",
        "r2 = r2_score(y_test, y_pred)\n",
        "\n",
        "print(f\"Test MSE: {mse:.4f}\")\n",
        "print(f\"Test MAE: {mae:.4f}\")\n",
        "print(f\"Test R2: {r2:.4f}\")"
      ]
    },
    {
      "cell_type": "code",
      "execution_count": null,
      "metadata": {
        "colab": {
          "base_uri": "https://localhost:8080/",
          "height": 472
        },
        "id": "aJmJCc1SZgjQ",
        "outputId": "8dafdc2f-dd47-46fb-e08f-54a7cb135983"
      },
      "outputs": [
        {
          "output_type": "display_data",
          "data": {
            "text/plain": [
              "<Figure size 640x480 with 1 Axes>"
            ],
            "image/png": "[encoded data removed]"
          },
          "metadata": {}
        }
      ],
      "source": [
        "plt.plot(history.history['loss'], label='Train Loss (MSE)')\n",
        "plt.plot(history.history['val_loss'], label='Validation Loss (MSE)')\n",
        "plt.xlabel('Epoch')\n",
        "plt.ylabel('Loss')\n",
        "plt.legend()\n",
        "plt.title('Loss Curve')\n",
        "plt.show()\n"
      ]
    },
    {
      "cell_type": "code",
      "execution_count": null,
      "metadata": {
        "colab": {
          "base_uri": "https://localhost:8080/",
          "height": 489
        },
        "id": "_iK-0cxpZomZ",
        "outputId": "63a50dc8-8a8b-4421-8239-d2c3667e5280"
      },
      "outputs": [
        {
          "output_type": "stream",
          "name": "stdout",
          "text": [
            "\u001b[1m1/1\u001b[0m \u001b[32m━━━━━━━━━━━━━━━━━━━━\u001b[0m\u001b[37m\u001b[0m \u001b[1m0s\u001b[0m 36ms/step\n"
          ]
        },
        {
          "output_type": "display_data",
          "data": {
            "text/plain": [
              "<Figure size 640x480 with 1 Axes>"
            ],
            "image/png": "[encoded data removed]"
          },
          "metadata": {}
        }
      ],
      "source": [
        "y_pred = model.predict(X_test).flatten()\n",
        "plt.scatter(y_test, y_pred, alpha=0.7)\n",
        "plt.xlabel('True Average Grade')\n",
        "plt.ylabel('Predicted Average Grade')\n",
        "plt.title('Predicted vs Actual Grades on Seen Data')\n",
        "plt.plot([min(y_test), max(y_test)], [min(y_test), max(y_test)], 'r--')\n",
        "plt.show()\n"
      ]
    },
    {
      "cell_type": "code",
      "execution_count": null,
      "metadata": {
        "colab": {
          "base_uri": "https://localhost:8080/"
        },
        "id": "ehvl2-Ro0AxZ",
        "outputId": "09afbd59-4969-47c8-9f64-d99c8cfcbe97"
      },
      "outputs": [
        {
          "output_type": "stream",
          "name": "stdout",
          "text": [
            "   Attendance_Encoded  StudyHours_Encoded  Assignments_Encoded  \\\n",
            "0               0.825                15.0                    3   \n",
            "1               0.950                 5.0                    3   \n",
            "2               0.450                 5.0                    1   \n",
            "3               0.620                15.0                    2   \n",
            "4               0.950                 5.0                    3   \n",
            "\n",
            "   PartTimeJob_Encoded  Extracurriculars_Encoded  GPA_Normalized  \\\n",
            "0                    1                       0.5        0.190909   \n",
            "1                    0                       1.0        0.518182   \n",
            "2                    1                       0.0        0.476348   \n",
            "3                    0                       1.0        0.609091   \n",
            "4                    0                       0.0        0.476348   \n",
            "\n",
            "   Average_Grade  \n",
            "0       3.300000  \n",
            "1       2.925000  \n",
            "2       1.233333  \n",
            "3       3.000000  \n",
            "4       1.900000  \n"
          ]
        }
      ],
      "source": [
        "df = pd.read_csv('preprocessed_model_data.csv')\n",
        "print(df.head())"
      ]
    },
    {
      "cell_type": "code",
      "execution_count": null,
      "metadata": {
        "id": "YEdwPqvT0ERZ"
      },
      "outputs": [],
      "source": [
        "features = [col for col in df.columns if col != 'Average_Grade']\n",
        "target = 'Average_Grade'\n",
        "\n",
        "X = df[features].values\n",
        "y = df[target].values"
      ]
    },
    {
      "cell_type": "code",
      "execution_count": null,
      "metadata": {
        "id": "6oe32eGE0IBh"
      },
      "outputs": [],
      "source": [
        "X_train, X_test, y_train, y_test = train_test_split(\n",
        "    X, y, test_size=0.15, random_state=42\n",
        ")"
      ]
    },
    {
      "cell_type": "code",
      "execution_count": null,
      "metadata": {
        "colab": {
          "base_uri": "https://localhost:8080/"
        },
        "id": "Gm7L_YaG0NOR",
        "outputId": "18c3f9ea-ca4a-416f-e2f7-31220462b727"
      },
      "outputs": [
        {
          "output_type": "stream",
          "name": "stdout",
          "text": [
            "\u001b[1m1/1\u001b[0m \u001b[32m━━━━━━━━━━━━━━━━━━━━\u001b[0m\u001b[37m\u001b[0m \u001b[1m0s\u001b[0m 36ms/step\n"
          ]
        }
      ],
      "source": [
        "y_pred = model.predict(X_test).flatten()  # Makes prediction for each test sample\n"
      ]
    },
    {
      "cell_type": "code",
      "execution_count": null,
      "metadata": {
        "colab": {
          "base_uri": "https://localhost:8080/"
        },
        "id": "DR0xd047_9cD",
        "outputId": "55d3cd2c-fd1a-4bca-c59e-5183a49ae412"
      },
      "outputs": [
        {
          "output_type": "stream",
          "name": "stdout",
          "text": [
            "   Actual (Num) Actual (Letter)  Predicted (Num) Predicted (Letter)\n",
            "0         3.325              A-         2.900894                  B\n",
            "1         3.575              A-         2.872011                  B\n",
            "2         1.900               C         2.906307                  B\n",
            "3         3.500              A-         3.182900                 B+\n",
            "4         3.075              B+         2.741379                  B\n"
          ]
        }
      ],
      "source": [
        "# Define the numeric-to-letter grade conversion function\n",
        "def numeric_to_letter_grade(avg_grade):\n",
        "    if avg_grade >= 3.7:\n",
        "        return 'A'\n",
        "    elif avg_grade >= 3.3:\n",
        "        return 'A-'\n",
        "    elif avg_grade >= 3.0:\n",
        "        return 'B+'\n",
        "    elif avg_grade >= 2.7:\n",
        "        return 'B'\n",
        "    elif avg_grade >= 2.3:\n",
        "        return 'B-'\n",
        "    elif avg_grade >= 2.0:\n",
        "        return 'C+'\n",
        "    elif avg_grade >= 1.7:\n",
        "        return 'C'\n",
        "    elif avg_grade >= 1.3:\n",
        "        return 'C-'\n",
        "    elif avg_grade >= 1.0:\n",
        "        return 'D+'\n",
        "    elif avg_grade >= 0.7:\n",
        "        return 'D'\n",
        "    else:\n",
        "        return 'E'\n",
        "\n",
        "# Convert both actual and predicted numeric grades to letter grades\n",
        "letter_preds = [numeric_to_letter_grade(x) for x in y_pred]\n",
        "letter_actuals = [numeric_to_letter_grade(x) for x in y_test]\n",
        "\n",
        "# Build and display/save the comparison table\n",
        "import pandas as pd\n",
        "\n",
        "results = pd.DataFrame({\n",
        "    'Actual (Num)': y_test,\n",
        "    'Actual (Letter)': letter_actuals,\n",
        "    'Predicted (Num)': y_pred,\n",
        "    'Predicted (Letter)': letter_preds\n",
        "})\n",
        "\n",
        "print(results.head())"
      ]
    },
    {
      "cell_type": "code",
      "execution_count": null,
      "metadata": {
        "colab": {
          "base_uri": "https://localhost:8080/",
          "height": 564
        },
        "id": "C4Y5r3Wr0qrh",
        "outputId": "aa7c6589-d5eb-42c5-8585-33b6c8864adb"
      },
      "outputs": [
        {
          "output_type": "display_data",
          "data": {
            "text/plain": [
              "<Figure size 600x600 with 1 Axes>"
            ],
            "image/png": "[encoded data removed]"
          },
          "metadata": {}
        }
      ],
      "source": [
        "plt.figure(figsize=(6,6))\n",
        "plt.scatter(y_test, y_pred, alpha=0.7)\n",
        "plt.xlabel('Actual Average Grade')\n",
        "plt.ylabel('Predicted Average Grade')\n",
        "plt.title('Predicted vs Actual Grades on Unseen Data')\n",
        "plt.plot([min(y_test), max(y_test)], [min(y_test), max(y_test)], 'r--')  # reference line y=x\n",
        "plt.grid(True)\n",
        "plt.show()\n"
      ]
    },
    {
      "cell_type": "code",
      "execution_count": null,
      "metadata": {
        "colab": {
          "base_uri": "https://localhost:8080/",
          "height": 472
        },
        "id": "x-qUl5tW0szh",
        "outputId": "e1caa9f9-ea85-4321-b1d2-a5873e04e6a4"
      },
      "outputs": [
        {
          "output_type": "display_data",
          "data": {
            "text/plain": [
              "<Figure size 640x480 with 1 Axes>"
            ],
            "image/png": "[encoded data removed]"
          },
          "metadata": {}
        }
      ],
      "source": [
        "residuals = y_test - y_pred\n",
        "plt.figure()\n",
        "plt.hist(residuals, bins=20, color='red', edgecolor='black')\n",
        "plt.xlabel('Prediction Error (Residual)')\n",
        "plt.ylabel('Count')\n",
        "plt.title('Distribution of Prediction Errors on Test Data')\n",
        "plt.show()\n"
      ]
    },
    {
      "cell_type": "code",
      "execution_count": null,
      "metadata": {
        "id": "wZnVK3xq0xnK"
      },
      "outputs": [],
      "source": [
        "# Save true and predicted values for further analysis\n",
        "results = pd.DataFrame({'Actual': y_test, 'Predicted': y_pred})\n",
        "results.to_csv('model_test_results.csv', index=False)\n"
      ]
    },
    {
      "cell_type": "code",
      "execution_count": null,
      "metadata": {
        "id": "cva4oIBDESDT"
      },
      "outputs": [],
      "source": [
        "import numpy as np\n",
        "\n",
        "def predict_manual(model, gpa_scaler):\n",
        "    # Prompt for specific attendance percentage\n",
        "    while True:\n",
        "        try:\n",
        "            attendance_val = float(input(\"Enter your attendance percentage (e.g., 87.5 for 87.5%): \"))\n",
        "            break\n",
        "        except ValueError:\n",
        "            print(\"Please enter a valid number.\\n\")\n",
        "    # Normalize attendance to the scale used for training, if needed\n",
        "    # If you used percentage/100 as feature, then just divide by 100 here\n",
        "    attendance_encoded = attendance_val / 100\n",
        "\n",
        "    # Prompt for study hours\n",
        "    while True:\n",
        "        try:\n",
        "            study_hours = float(input(\"Enter the number of study hours per week (e.g., 16): \"))\n",
        "            break\n",
        "        except ValueError:\n",
        "            print(\"Please enter a valid number.\\n\")\n",
        "\n",
        "    # Prompt for assignment completion (as a number or percentage)\n",
        "    while True:\n",
        "        try:\n",
        "            assignments = float(input(\"On average, what fraction of assignments do you submit on time? (e.g., 1 = 100%, 0.8 = 80%): \"))\n",
        "            break\n",
        "        except ValueError:\n",
        "            print(\"Please enter a value between 0 and 1, e.g., 0.8 for 80%.\\n\")\n",
        "\n",
        "    # Part time job (yes/no)\n",
        "    while True:\n",
        "        job_raw = input(\"Are you currently doing a part time job? (yes/no): \").strip().lower()\n",
        "        if job_raw == 'yes':\n",
        "            job = 1\n",
        "            break\n",
        "        elif job_raw == 'no':\n",
        "            job = 0\n",
        "            break\n",
        "        else:\n",
        "            print(\"Please enter 'yes' or 'no'.\\n\")\n",
        "\n",
        "    # Extracurricular activities\n",
        "    while True:\n",
        "        extra_raw = input(\"Are you involved in extracurricular activities? (yes/no/occasionally): \").strip().lower()\n",
        "        if extra_raw == 'yes':\n",
        "            extra = 1\n",
        "            break\n",
        "        elif extra_raw == 'no':\n",
        "            extra = 0\n",
        "            break\n",
        "        elif extra_raw == 'occasionally':\n",
        "            extra = 0.5\n",
        "            break\n",
        "        else:\n",
        "            print(\"Please enter 'yes', 'no', or 'occasionally'.\\n\")\n",
        "\n",
        "    # GPA (raw, then normalize)\n",
        "    while True:\n",
        "        try:\n",
        "            gpa_raw = float(input(\"Enter your GPA (e.g., 3.25): \").strip())\n",
        "            break\n",
        "        except ValueError:\n",
        "            print(\"Please enter a valid GPA number (e.g., 2.85, 3.14).\\n\")\n",
        "    gpa_norm = gpa_scaler.transform([[gpa_raw]])[0][0]\n",
        "\n",
        "    # Build feature array\n",
        "    features_input = np.array([[attendance_encoded, study_hours, assignments, job, extra, gpa_norm]])\n",
        "\n",
        "    pred = model.predict(features_input)[0][0]\n",
        "\n",
        "    # Numeric to letter grade mapping\n",
        "    def numeric_to_letter_grade(avg_grade):\n",
        "        if avg_grade >= 3.7: return 'A'\n",
        "        elif avg_grade >= 3.3: return 'A-'\n",
        "        elif avg_grade >= 3.0: return 'B+'\n",
        "        elif avg_grade >= 2.7: return 'B'\n",
        "        elif avg_grade >= 2.3: return 'B-'\n",
        "        elif avg_grade >= 2.0: return 'C+'\n",
        "        elif avg_grade >= 1.7: return 'C'\n",
        "        elif avg_grade >= 1.3: return 'C-'\n",
        "        elif avg_grade >= 1.0: return 'D+'\n",
        "        elif avg_grade >= 0.7: return 'D'\n",
        "        else: return 'E'\n",
        "\n",
        "    letter_grade = numeric_to_letter_grade(pred)\n",
        "    print(f\"\\nPredicted Average Grade (numeric): {pred:.2f}\")\n",
        "    print(f\"Predicted Average Grade (as letter): **{letter_grade}**\")\n",
        "\n",
        "\n"
      ]
    },
    {
      "cell_type": "code",
      "execution_count": null,
      "metadata": {
        "id": "fcF6Qs-mEWOJ"
      },
      "outputs": [],
      "source": [
        "predict_manual(model, gpa_scaler)"
      ]
    },
    {
      "cell_type": "markdown",
      "metadata": {
        "id": "V9PwVkAGWmR-"
      },
      "source": []
    },
    {
      "cell_type": "markdown",
      "metadata": {
        "id": "w93ZWTlDWlqf"
      },
      "source": []
    }
  ],
  "metadata": {
    "colab": {
      "provenance": []
    },
    "kernelspec": {
      "display_name": "Python 3",
      "name": "python3"
    },
    "language_info": {
      "name": "python"
    }
  },
  "nbformat": 4,
  "nbformat_minor": 0
}