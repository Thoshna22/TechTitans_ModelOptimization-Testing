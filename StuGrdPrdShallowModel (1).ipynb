{
  "cells": [
    {
      "cell_type": "code",
      "execution_count": null,
      "metadata": {
        "id": "9qdLF01sWtua"
      },
      "outputs": [],
      "source": [
        "import pandas as pd\n",
        "import numpy as np"
      ]
    },
    {
      "cell_type": "code",
      "execution_count": null,
      "metadata": {
        "colab": {
          "base_uri": "https://localhost:8080/"
        },
        "id": "B_BI-ECZdt33",
        "outputId": "e31fbc9a-e8ec-4784-8171-7e2922f5f0b9"
      },
      "outputs": [
        {
          "output_type": "stream",
          "name": "stdout",
          "text": [
            "             Timestamp Year of Study Your Average Lecture attendance Rate  \\\n",
            "0  12/07/2025 16:50:00      3rd Year                            75% - 90%   \n",
            "1  12/07/2025 16:50:29      3rd Year                            Above 90%   \n",
            "2  12/07/2025 16:51:44      3rd Year                            Below 50%   \n",
            "3  12/07/2025 16:51:49      3rd Year                            50% - 74%   \n",
            "4  12/07/2025 16:55:43      2nd Year                            Above 90%   \n",
            "\n",
            "  Recently Released Semester Results [Subject 1]  \\\n",
            "0                                             B+   \n",
            "1                                             A-   \n",
            "2                                             C-   \n",
            "3                                              A   \n",
            "4                                             B-   \n",
            "\n",
            "  Recently Released Semester Results [Subject 2]  \\\n",
            "0                                             B+   \n",
            "1                                             B+   \n",
            "2                                              C   \n",
            "3                                              B   \n",
            "4                                              D   \n",
            "\n",
            "  Recently Released Semester Results [Subject 3]  \\\n",
            "0                                             B+   \n",
            "1                                             B-   \n",
            "2                                         Absent   \n",
            "3                                             B-   \n",
            "4                                              C   \n",
            "\n",
            "  Recently Released Semester Results [Subject 4]  \\\n",
            "0                                             B+   \n",
            "1                                              C   \n",
            "2                                              E   \n",
            "3                                             C+   \n",
            "4                                         Absent   \n",
            "\n",
            "  If you had more than four subjects [Subject 5]  \\\n",
            "0                                             B+   \n",
            "1                                             B+   \n",
            "2                                            NaN   \n",
            "3                                              C   \n",
            "4                                            NaN   \n",
            "\n",
            "  If you had more than four subjects [Subject 6]  \\\n",
            "0                                             B+   \n",
            "1                                            NaN   \n",
            "2                                            NaN   \n",
            "3                                            NaN   \n",
            "4                                            NaN   \n",
            "\n",
            "  If you had more than four subjects [Subject 7]  \\\n",
            "0                                             B+   \n",
            "1                                            NaN   \n",
            "2                                            NaN   \n",
            "3                                            NaN   \n",
            "4                                            NaN   \n",
            "\n",
            "  If you had more than four subjects [Subject 8]  \\\n",
            "0                                             B+   \n",
            "1                                            NaN   \n",
            "2                                            NaN   \n",
            "3                                            NaN   \n",
            "4                                            NaN   \n",
            "\n",
            "   What is your current GPA ? (If you don't know, you can leave this)  \\\n",
            "0                                               2.22                    \n",
            "1                                               2.94                    \n",
            "2                                                NaN                    \n",
            "3                                               3.14                    \n",
            "4                                                NaN                    \n",
            "\n",
            "  How many hours do you study per week?  \\\n",
            "0                   10 hours - 20 hours   \n",
            "1                    Less than 10 hours   \n",
            "2                    Less than 10 hours   \n",
            "3                   10 hours - 20 hours   \n",
            "4                    Less than 10 hours   \n",
            "\n",
            "  How Often do You Complete Assignments on Time  \\\n",
            "0                                        Always   \n",
            "1                                        Always   \n",
            "2                                     Sometimes   \n",
            "3                                         Often   \n",
            "4                                        Always   \n",
            "\n",
            "  Are you currently doing a part time job?  \\\n",
            "0                                      Yes   \n",
            "1                                       No   \n",
            "2                                      Yes   \n",
            "3                                       No   \n",
            "4                                       No   \n",
            "\n",
            "  If yes, how many hours per week do you work?  \\\n",
            "0                          10 hours - 20 hours   \n",
            "1                                          NaN   \n",
            "2                           Less than 10 hours   \n",
            "3                                          NaN   \n",
            "4                                          NaN   \n",
            "\n",
            "  Are you involved in any sports or extracurricular activities(clubs, societies, volunteering, etc.)?  \\\n",
            "0                                       Occasionally                                                    \n",
            "1                                                Yes                                                    \n",
            "2                                                 No                                                    \n",
            "3                                                Yes                                                    \n",
            "4                                                 No                                                    \n",
            "\n",
            "  If yes, how many hours per week do you spend on sports  or extracurricular activities  ?  \n",
            "0                                          1-3 hours                                        \n",
            "1                                          4-6 hours                                        \n",
            "2                                          1-3 hours                                        \n",
            "3                                  More than 6 hours                                        \n",
            "4                                                NaN                                        \n"
          ]
        }
      ],
      "source": [
        "import os\n",
        "\n",
        "filename = 'dataSet.csv'\n",
        "if not os.path.exists(filename):\n",
        "    from google.colab import files\n",
        "    print(f\"{filename} not found: please upload it now.\")\n",
        "    uploaded = files.upload()  # This will prompt upload if needed\n",
        "\n",
        "df = pd.read_csv(filename)\n",
        "print(df.head())\n"
      ]
    },
    {
      "cell_type": "code",
      "execution_count": null,
      "metadata": {
        "colab": {
          "base_uri": "https://localhost:8080/"
        },
        "id": "ilap53Ynd0S8",
        "outputId": "4fbbfc60-87e9-4e05-d5e1-f96f747baa4b"
      },
      "outputs": [
        {
          "output_type": "stream",
          "name": "stdout",
          "text": [
            "Columns after drop:\n",
            " Index(['Year of Study', 'Your Average Lecture attendance Rate',\n",
            "       'Recently Released Semester Results [Subject 1]',\n",
            "       'Recently Released Semester Results [Subject 2]',\n",
            "       'Recently Released Semester Results [Subject 3]',\n",
            "       'Recently Released Semester Results [Subject 4]',\n",
            "       'What is your current GPA ? (If you don't know, you can leave this)',\n",
            "       'How many hours do you study per week?',\n",
            "       'How Often do You Complete Assignments on Time',\n",
            "       'Are you currently doing a part time job?',\n",
            "       'If yes, how many hours per week do you work?',\n",
            "       'Are you involved in any sports or extracurricular activities(clubs, societies, volunteering, etc.)?',\n",
            "       'If yes, how many hours per week do you spend on sports  or extracurricular activities  ?'],\n",
            "      dtype='object')\n"
          ]
        }
      ],
      "source": [
        "# Drop unnecessary columns: Timestamp and extra subject columns (Subject 5 to 8)\n",
        "columns_to_drop = [\n",
        "    'Timestamp',\n",
        "    'If you had more than four subjects [Subject 5]',\n",
        "    'If you had more than four subjects [Subject 6]',\n",
        "    'If you had more than four subjects [Subject 7]',\n",
        "    'If you had more than four subjects [Subject 8]'\n",
        "]\n",
        "df = df.drop(columns=columns_to_drop)\n",
        "print(\"Columns after drop:\\n\", df.columns)"
      ]
    },
    {
      "cell_type": "code",
      "execution_count": null,
      "metadata": {
        "id": "7tew_hkrd398"
      },
      "outputs": [],
      "source": [
        "# Handle and encode GPA column\n",
        "\n",
        "gpa_col = \"What is your current GPA ? (If you don't know, you can leave this)\"\n",
        "df[gpa_col] = pd.to_numeric(df[gpa_col], errors='coerce')                 # convert to numeric\n",
        "df[gpa_col] = df[gpa_col].fillna(df[gpa_col].mean())                      # fill missing with mean"
      ]
    },
    {
      "cell_type": "code",
      "execution_count": null,
      "metadata": {
        "colab": {
          "base_uri": "https://localhost:8080/"
        },
        "id": "RYGbDrJLd6yU",
        "outputId": "8b2a3060-2d97-48b9-8f30-8cf477f271e7"
      },
      "outputs": [
        {
          "output_type": "stream",
          "name": "stdout",
          "text": [
            "Dataset shape after dropping rows with missing attendance or subject grades: (108, 13)\n"
          ]
        }
      ],
      "source": [
        "# Drop rows with missing critical fields: Attendance and Subject 1 to 4 grades\n",
        "\n",
        "subject_cols = [\n",
        "    'Recently Released Semester Results [Subject 1]',\n",
        "    'Recently Released Semester Results [Subject 2]',\n",
        "    'Recently Released Semester Results [Subject 3]',\n",
        "    'Recently Released Semester Results [Subject 4]'\n",
        "]\n",
        "\n",
        "df = df.dropna(subset=['Your Average Lecture attendance Rate'] + subject_cols)\n",
        "print(f\"Dataset shape after dropping rows with missing attendance or subject grades: {df.shape}\")\n"
      ]
    },
    {
      "cell_type": "code",
      "execution_count": null,
      "metadata": {
        "id": "euUOaNdId-w9"
      },
      "outputs": [],
      "source": [
        "# Encode Categorical Variables\n",
        "\n",
        "# Encode Attendance Rate\n",
        "attendance_map = {\n",
        "    'Above 90%': 0.95,\n",
        "    '75% - 90%': 0.825,\n",
        "    '50% - 74%': 0.62,\n",
        "    'Below 50%': 0.45\n",
        "}\n",
        "df['Attendance_Encoded'] = df['Your Average Lecture attendance Rate'].map(attendance_map)\n",
        "\n",
        "# Encode Study Hours per week\n",
        "study_hours_map = {\n",
        "    'Less than 10 hours': 5,\n",
        "    '10 hours - 20 hours': 15,\n",
        "    'More than 20 hours': 25\n",
        "}\n",
        "df['StudyHours_Encoded'] = df['How many hours do you study per week?'].map(study_hours_map)\n",
        "\n",
        "# Encode Assignment Completion Frequency\n",
        "assignments_map = {\n",
        "    'Always': 3,\n",
        "    'Often': 2,\n",
        "    'Sometimes': 1,\n",
        "    'Rarely': 0\n",
        "}\n",
        "df['Assignments_Encoded'] = df['How Often do You Complete Assignments on Time'].map(assignments_map)\n",
        "\n",
        "# Encode Part-Time Job and Extracurricular activities\n",
        "df['PartTimeJob_Encoded'] = df['Are you currently doing a part time job?'].map({'Yes': 1, 'No': 0})\n",
        "df['Extracurriculars_Encoded'] = df['Are you involved in any sports or extracurricular activities(clubs, societies, volunteering, etc.)?'].map({\n",
        "    'Yes': 1,\n",
        "    'No': 0,\n",
        "    'Occasionally': 0.5\n",
        "})\n",
        "\n",
        "\n",
        "# Encode Grades for Subjects 1 to 4\n",
        "grade_map = {\n",
        "    'A+': 4.0, 'A': 4.0, 'A-': 3.7,\n",
        "    'B+': 3.3, 'B': 3.0, 'B-': 2.7,\n",
        "    'C+': 2.3, 'C': 2.0, 'C-': 1.7,\n",
        "    'D+': 1.3, 'D': 1.0, 'E': 0.0,\n",
        "    'Absent': np.nan, 'Ineligible': np.nan\n",
        "}\n",
        "\n",
        "for subj in subject_cols:\n",
        "    encoded_col = subj.replace(\"Recently Released Semester Results \", \"\") + \"_Encoded\"\n",
        "    df[encoded_col] = df[subj].map(grade_map)\n",
        "\n"
      ]
    },
    {
      "cell_type": "code",
      "execution_count": null,
      "metadata": {
        "id": "HEZ-nol3rn6g"
      },
      "outputs": [],
      "source": [
        "# Normalizing GPA\n",
        "\n",
        "from sklearn.preprocessing import MinMaxScaler\n",
        "\n",
        "gpa_col = \"What is your current GPA ? (If you don't know, you can leave this)\"\n",
        "df[gpa_col] = pd.to_numeric(df[gpa_col], errors='coerce')\n",
        "df[gpa_col] = df[gpa_col].fillna(df[gpa_col].mean())\n",
        "scaler = MinMaxScaler()\n",
        "df['GPA_Normalized'] = scaler.fit_transform(df[[gpa_col]])\n"
      ]
    },
    {
      "cell_type": "code",
      "execution_count": null,
      "metadata": {
        "id": "WPS4ZuIn9DKM"
      },
      "outputs": [],
      "source": [
        "from sklearn.preprocessing import MinMaxScaler\n",
        "\n",
        "# Fit the scaler on raw GPA (not the normalized one)\n",
        "gpa_scaler = MinMaxScaler()\n",
        "df['GPA_Normalized'] = gpa_scaler.fit_transform(df[[gpa_col]])\n"
      ]
    },
    {
      "cell_type": "code",
      "execution_count": null,
      "metadata": {
        "colab": {
          "base_uri": "https://localhost:8080/"
        },
        "id": "XGSQTuE7eFcb",
        "outputId": "19ee3465-e746-49ab-a92e-1b69d7f2b79c"
      },
      "outputs": [
        {
          "output_type": "stream",
          "name": "stdout",
          "text": [
            "Data shape after dropping missing Average_Grade: (108, 24)\n"
          ]
        }
      ],
      "source": [
        "# Create Target Variable as Average Grade of Subjects 1 to 4\n",
        "\n",
        "encoded_subject_cols = [col.replace(\"Recently Released Semester Results \", \"\") + \"_Encoded\" for col in subject_cols]\n",
        "\n",
        "df['Average_Grade'] = df[encoded_subject_cols].mean(axis=1)\n",
        "\n",
        "# Drop rows where Average_Grade is NaN (if any subject grade was missing/unmapped)\n",
        "df = df.dropna(subset=['Average_Grade'])\n",
        "print(f\"Data shape after dropping missing Average_Grade: {df.shape}\")\n"
      ]
    },
    {
      "cell_type": "code",
      "execution_count": null,
      "metadata": {
        "colab": {
          "base_uri": "https://localhost:8080/"
        },
        "id": "XxUnusBOeI73",
        "outputId": "aaf5d493-3d26-460e-cf68-309f693a8a21"
      },
      "outputs": [
        {
          "output_type": "stream",
          "name": "stdout",
          "text": [
            "Feature matrix shape: (108, 6)\n",
            "Target vector shape: (108,)\n"
          ]
        }
      ],
      "source": [
        "# Prepare Feature Matrix (X) and Target Vector (y)\n",
        "\n",
        "features = [\n",
        "    'Attendance_Encoded',\n",
        "    'StudyHours_Encoded',\n",
        "    'Assignments_Encoded',\n",
        "    'PartTimeJob_Encoded',\n",
        "    'Extracurriculars_Encoded',\n",
        "    'GPA_Normalized'\n",
        "]\n",
        "\n",
        "target = 'Average_Grade'\n",
        "\n",
        "X = df[features].values\n",
        "y = df[target].values\n",
        "\n",
        "print(f\"Feature matrix shape: {X.shape}\")\n",
        "print(f\"Target vector shape: {y.shape}\")"
      ]
    },
    {
      "cell_type": "code",
      "execution_count": null,
      "metadata": {
        "id": "VnoUwU9SeMCW"
      },
      "outputs": [],
      "source": [
        "# Normalizing Features\n",
        "\n",
        "from sklearn.preprocessing import StandardScaler\n",
        "scaler = StandardScaler()\n",
        "X_scaled = scaler.fit_transform(X)\n"
      ]
    },
    {
      "cell_type": "code",
      "execution_count": null,
      "metadata": {
        "id": "8xJYz_9zSRGh"
      },
      "outputs": [],
      "source": [
        "columns_to_save = features + [target]\n",
        "df[columns_to_save].to_csv('preprocessed_model_data.csv', index=False)\n",
        "\n",
        "#from google.colab import files\n",
        "#files.download('preprocessed_model_data.csv')"
      ]
    },
    {
      "cell_type": "code",
      "execution_count": null,
      "metadata": {
        "id": "JqC6I5H2TpaS"
      },
      "outputs": [],
      "source": [
        "import pandas as pd\n",
        "import numpy as np\n",
        "import tensorflow as tf\n",
        "from tensorflow import keras\n",
        "from sklearn.model_selection import train_test_split\n",
        "import matplotlib.pyplot as plt\n"
      ]
    },
    {
      "cell_type": "code",
      "execution_count": null,
      "metadata": {
        "colab": {
          "base_uri": "https://localhost:8080/"
        },
        "id": "nRJXXVgVTuoy",
        "outputId": "78668316-887b-411f-d03e-d89a6d9983ab"
      },
      "outputs": [
        {
          "output_type": "stream",
          "name": "stdout",
          "text": [
            "   Attendance_Encoded  StudyHours_Encoded  Assignments_Encoded  \\\n",
            "0               0.825                15.0                    3   \n",
            "1               0.950                 5.0                    3   \n",
            "2               0.450                 5.0                    1   \n",
            "3               0.620                15.0                    2   \n",
            "4               0.950                 5.0                    3   \n",
            "\n",
            "   PartTimeJob_Encoded  Extracurriculars_Encoded  GPA_Normalized  \\\n",
            "0                    1                       0.5        0.190909   \n",
            "1                    0                       1.0        0.518182   \n",
            "2                    1                       0.0        0.476348   \n",
            "3                    0                       1.0        0.609091   \n",
            "4                    0                       0.0        0.476348   \n",
            "\n",
            "   Average_Grade  \n",
            "0       3.300000  \n",
            "1       2.925000  \n",
            "2       1.233333  \n",
            "3       3.000000  \n",
            "4       1.900000  \n"
          ]
        }
      ],
      "source": [
        "df = pd.read_csv('preprocessed_model_data.csv')\n",
        "print(df.head())\n"
      ]
    },
    {
      "cell_type": "code",
      "execution_count": null,
      "metadata": {
        "id": "b2sEk_NHTwXC"
      },
      "outputs": [],
      "source": [
        "# Feature columns: all columns except the target\n",
        "features = [col for col in df.columns if col != 'Average_Grade']\n",
        "target = 'Average_Grade'\n",
        "\n",
        "X = df[features].values\n",
        "y = df[target].values\n"
      ]
    },
    {
      "cell_type": "code",
      "execution_count": null,
      "metadata": {
        "colab": {
          "base_uri": "https://localhost:8080/"
        },
        "id": "nz15Kk-mWdQ7",
        "outputId": "2cf915de-2932-4537-bb5d-60ee489db78a"
      },
      "outputs": [
        {
          "output_type": "stream",
          "name": "stdout",
          "text": [
            "1 0\n"
          ]
        }
      ],
      "source": [
        "print(np.isnan(X).sum(), np.isnan(y).sum())\n"
      ]
    },
    {
      "cell_type": "code",
      "execution_count": null,
      "metadata": {
        "id": "i16r0hodW5k4"
      },
      "outputs": [],
      "source": [
        "import numpy as np\n",
        "\n",
        "# Create DataFrame for features and target to easily drop any NaNs at once\n",
        "data = pd.DataFrame(X, columns=features)\n",
        "data['Average_Grade'] = y\n",
        "data = data.dropna()\n",
        "X = data[features].values\n",
        "y = data['Average_Grade'].values\n"
      ]
    },
    {
      "cell_type": "code",
      "execution_count": null,
      "metadata": {
        "colab": {
          "base_uri": "https://localhost:8080/"
        },
        "id": "dk0mXDeNW6sa",
        "outputId": "5051886f-64e3-4e16-824a-80258501043a"
      },
      "outputs": [
        {
          "output_type": "stream",
          "name": "stdout",
          "text": [
            "True\n",
            "0 0\n"
          ]
        }
      ],
      "source": [
        "print(np.isfinite(X).all())\n",
        "# Should print True\n",
        "\n",
        "print(np.isnan(X).sum(), np.isnan(y).sum())\n",
        "# Should both print 0\n"
      ]
    },
    {
      "cell_type": "code",
      "execution_count": null,
      "metadata": {
        "id": "8RBXWNmKXQT6"
      },
      "outputs": [],
      "source": [
        "df = df.dropna(subset=[target])\n"
      ]
    },
    {
      "cell_type": "code",
      "execution_count": null,
      "metadata": {
        "colab": {
          "base_uri": "https://localhost:8080/"
        },
        "id": "WrmxD1HOXbtM",
        "outputId": "87c6ba5d-2153-4656-c35a-f9a6a91079ca"
      },
      "outputs": [
        {
          "output_type": "execute_result",
          "data": {
            "text/plain": [
              "<Dense name=dense, built=False>"
            ]
          },
          "metadata": {},
          "execution_count": 20
        }
      ],
      "source": [
        "keras.layers.Dense(1)  # no activation, defaults to 'linear'\n"
      ]
    },
    {
      "cell_type": "code",
      "execution_count": null,
      "metadata": {
        "colab": {
          "base_uri": "https://localhost:8080/"
        },
        "id": "yWiNdCJUT_Ti",
        "outputId": "f074273d-53c6-47db-9e80-ca1cd91b17e3"
      },
      "outputs": [
        {
          "output_type": "stream",
          "name": "stdout",
          "text": [
            "Train shape: (90, 6), (90,)\n",
            "Test shape: (17, 6), (17,)\n"
          ]
        }
      ],
      "source": [
        "# 85% training, 15% testing (adjust split if you prefer)\n",
        "X_train, X_test, y_train, y_test = train_test_split(\n",
        "    X, y, test_size=0.15, random_state=42\n",
        ")\n",
        "print(f\"Train shape: {X_train.shape}, {y_train.shape}\")\n",
        "print(f\"Test shape: {X_test.shape}, {y_test.shape}\")\n"
      ]
    },
    {
      "cell_type": "code",
      "execution_count": null,
      "metadata": {
        "colab": {
          "base_uri": "https://localhost:8080/"
        },
        "id": "xzKoAHDCXmfy",
        "outputId": "622c1065-687c-4e5c-febd-f2e7c2a3ceac"
      },
      "outputs": [
        {
          "output_type": "stream",
          "name": "stdout",
          "text": [
            "0 0\n",
            "0 0\n"
          ]
        }
      ],
      "source": [
        "print(np.isnan(X_train).sum(), np.isnan(y_train).sum())\n",
        "print(np.isinf(X_train).sum(), np.isinf(y_train).sum())\n",
        "# all should print 0\n"
      ]
    },
    {
      "cell_type": "code",
      "execution_count": null,
      "metadata": {
        "colab": {
          "base_uri": "https://localhost:8080/"
        },
        "id": "_7KpstXrXp8p",
        "outputId": "f0b69f40-3420-44d8-addd-93f383e04f78"
      },
      "outputs": [
        {
          "output_type": "stream",
          "name": "stdout",
          "text": [
            "Attendance_Encoded          0\n",
            "StudyHours_Encoded          1\n",
            "Assignments_Encoded         0\n",
            "PartTimeJob_Encoded         0\n",
            "Extracurriculars_Encoded    0\n",
            "GPA_Normalized              0\n",
            "Average_Grade               0\n",
            "dtype: int64\n"
          ]
        }
      ],
      "source": [
        "print(df[features + [target]].isnull().sum())\n"
      ]
    },
    {
      "cell_type": "code",
      "execution_count": null,
      "metadata": {
        "id": "y4WGoHXBhaY2"
      },
      "outputs": [],
      "source": [
        "df['StudyHours_Encoded'] = df['StudyHours_Encoded'].fillna(df['StudyHours_Encoded'].mean())\n"
      ]
    },
    {
      "cell_type": "code",
      "execution_count": null,
      "metadata": {
        "colab": {
          "base_uri": "https://localhost:8080/"
        },
        "id": "EZdeg7yjhfzr",
        "outputId": "b8c2c03d-3c49-4222-b747-b213a589002e"
      },
      "outputs": [
        {
          "output_type": "stream",
          "name": "stdout",
          "text": [
            "Attendance_Encoded          0\n",
            "StudyHours_Encoded          0\n",
            "Assignments_Encoded         0\n",
            "PartTimeJob_Encoded         0\n",
            "Extracurriculars_Encoded    0\n",
            "GPA_Normalized              0\n",
            "Average_Grade               0\n",
            "dtype: int64\n"
          ]
        }
      ],
      "source": [
        "print(df[features + [target]].isnull().sum())"
      ]
    },
    {
      "cell_type": "code",
      "execution_count": null,
      "metadata": {
        "colab": {
          "base_uri": "https://localhost:8080/"
        },
        "id": "S08MP1h8UMwZ",
        "outputId": "eeaf6d0f-2bf6-4b1f-e2c5-05a203fa57f8"
      },
      "outputs": [
        {
          "output_type": "stream",
          "name": "stderr",
          "text": [
            "/usr/local/lib/python3.12/dist-packages/keras/src/layers/core/dense.py:93: UserWarning: Do not pass an `input_shape`/`input_dim` argument to a layer. When using Sequential models, prefer using an `Input(shape)` object as the first layer in the model instead.\n",
            "  super().__init__(activity_regularizer=activity_regularizer, **kwargs)\n"
          ]
        }
      ],
      "source": [
        "# Model Architecture1: Shallow MLP\n",
        "\n",
        "model = keras.Sequential([\n",
        "    keras.layers.Dense(32, activation='relu', input_shape=(X_train.shape[1],)),\n",
        "    keras.layers.Dense(16, activation='relu'),\n",
        "    keras.layers.Dense(8, activation='relu'),\n",
        "    keras.layers.Dense(1)\n",
        "])\n"
      ]
    },
    {
      "cell_type": "code",
      "execution_count": null,
      "metadata": {
        "id": "BVlkoqoGUShx"
      },
      "outputs": [],
      "source": [
        "model.compile(optimizer='adam', loss='mse', metrics=['mae'])\n"
      ]
    },
    {
      "cell_type": "code",
      "execution_count": null,
      "metadata": {
        "colab": {
          "base_uri": "https://localhost:8080/"
        },
        "id": "0Wbx3H-p5JFs",
        "outputId": "cb04fb68-f328-4585-a55b-4d3f2bcafb7c"
      },
      "outputs": [
        {
          "output_type": "stream",
          "name": "stdout",
          "text": [
            "Epoch 1/200\n",
            "\u001b[1m4/4\u001b[0m \u001b[32m━━━━━━━━━━━━━━━━━━━━\u001b[0m\u001b[37m\u001b[0m \u001b[1m3s\u001b[0m 85ms/step - loss: 25.3327 - mae: 4.8751 - val_loss: 26.3718 - val_mae: 4.9598\n",
            "Epoch 2/200\n",
            "\u001b[1m4/4\u001b[0m \u001b[32m━━━━━━━━━━━━━━━━━━━━\u001b[0m\u001b[37m\u001b[0m \u001b[1m0s\u001b[0m 39ms/step - loss: 19.9567 - mae: 4.3237 - val_loss: 21.5578 - val_mae: 4.4892\n",
            "Epoch 3/200\n",
            "\u001b[1m4/4\u001b[0m \u001b[32m━━━━━━━━━━━━━━━━━━━━\u001b[0m\u001b[37m\u001b[0m \u001b[1m0s\u001b[0m 38ms/step - loss: 15.7848 - mae: 3.8852 - val_loss: 18.2785 - val_mae: 4.1389\n",
            "Epoch 4/200\n",
            "\u001b[1m4/4\u001b[0m \u001b[32m━━━━━━━━━━━━━━━━━━━━\u001b[0m\u001b[37m\u001b[0m \u001b[1m0s\u001b[0m 25ms/step - loss: 13.9963 - mae: 3.6400 - val_loss: 15.3417 - val_mae: 3.7858\n",
            "Epoch 5/200\n",
            "\u001b[1m4/4\u001b[0m \u001b[32m━━━━━━━━━━━━━━━━━━━━\u001b[0m\u001b[37m\u001b[0m \u001b[1m0s\u001b[0m 25ms/step - loss: 12.3475 - mae: 3.4300 - val_loss: 11.4357 - val_mae: 3.2638\n",
            "Epoch 6/200\n",
            "\u001b[1m4/4\u001b[0m \u001b[32m━━━━━━━━━━━━━━━━━━━━\u001b[0m\u001b[37m\u001b[0m \u001b[1m0s\u001b[0m 26ms/step - loss: 9.4778 - mae: 3.0183 - val_loss: 8.4260 - val_mae: 2.7734\n",
            "Epoch 7/200\n",
            "\u001b[1m4/4\u001b[0m \u001b[32m━━━━━━━━━━━━━━━━━━━━\u001b[0m\u001b[37m\u001b[0m \u001b[1m0s\u001b[0m 25ms/step - loss: 7.0207 - mae: 2.5750 - val_loss: 6.2168 - val_mae: 2.3192\n",
            "Epoch 8/200\n",
            "\u001b[1m4/4\u001b[0m \u001b[32m━━━━━━━━━━━━━━━━━━━━\u001b[0m\u001b[37m\u001b[0m \u001b[1m0s\u001b[0m 24ms/step - loss: 5.4468 - mae: 2.2309 - val_loss: 4.6518 - val_mae: 1.9175\n",
            "Epoch 9/200\n",
            "\u001b[1m4/4\u001b[0m \u001b[32m━━━━━━━━━━━━━━━━━━━━\u001b[0m\u001b[37m\u001b[0m \u001b[1m0s\u001b[0m 24ms/step - loss: 4.2939 - mae: 1.9151 - val_loss: 3.7415 - val_mae: 1.6654\n",
            "Epoch 10/200\n",
            "\u001b[1m4/4\u001b[0m \u001b[32m━━━━━━━━━━━━━━━━━━━━\u001b[0m\u001b[37m\u001b[0m \u001b[1m0s\u001b[0m 29ms/step - loss: 3.0766 - mae: 1.5666 - val_loss: 3.1851 - val_mae: 1.4725\n",
            "Epoch 11/200\n",
            "\u001b[1m4/4\u001b[0m \u001b[32m━━━━━━━━━━━━━━━━━━━━\u001b[0m\u001b[37m\u001b[0m \u001b[1m0s\u001b[0m 24ms/step - loss: 3.1793 - mae: 1.5922 - val_loss: 2.8196 - val_mae: 1.3284\n",
            "Epoch 12/200\n",
            "\u001b[1m4/4\u001b[0m \u001b[32m━━━━━━━━━━━━━━━━━━━━\u001b[0m\u001b[37m\u001b[0m \u001b[1m0s\u001b[0m 26ms/step - loss: 2.3088 - mae: 1.3285 - val_loss: 2.6155 - val_mae: 1.3250\n",
            "Epoch 13/200\n",
            "\u001b[1m4/4\u001b[0m \u001b[32m━━━━━━━━━━━━━━━━━━━━\u001b[0m\u001b[37m\u001b[0m \u001b[1m0s\u001b[0m 25ms/step - loss: 2.1900 - mae: 1.2595 - val_loss: 2.5324 - val_mae: 1.3536\n",
            "Epoch 14/200\n",
            "\u001b[1m4/4\u001b[0m \u001b[32m━━━━━━━━━━━━━━━━━━━━\u001b[0m\u001b[37m\u001b[0m \u001b[1m0s\u001b[0m 25ms/step - loss: 2.0013 - mae: 1.2113 - val_loss: 2.5301 - val_mae: 1.3756\n",
            "Epoch 15/200\n",
            "\u001b[1m4/4\u001b[0m \u001b[32m━━━━━━━━━━━━━━━━━━━━\u001b[0m\u001b[37m\u001b[0m \u001b[1m0s\u001b[0m 26ms/step - loss: 1.7856 - mae: 1.1350 - val_loss: 2.5642 - val_mae: 1.3898\n",
            "Epoch 16/200\n",
            "\u001b[1m4/4\u001b[0m \u001b[32m━━━━━━━━━━━━━━━━━━━━\u001b[0m\u001b[37m\u001b[0m \u001b[1m0s\u001b[0m 37ms/step - loss: 1.7134 - mae: 1.0975 - val_loss: 2.5936 - val_mae: 1.3956\n",
            "Epoch 17/200\n",
            "\u001b[1m4/4\u001b[0m \u001b[32m━━━━━━━━━━━━━━━━━━━━\u001b[0m\u001b[37m\u001b[0m \u001b[1m0s\u001b[0m 23ms/step - loss: 1.7935 - mae: 1.1376 - val_loss: 2.6145 - val_mae: 1.3969\n",
            "Epoch 18/200\n",
            "\u001b[1m4/4\u001b[0m \u001b[32m━━━━━━━━━━━━━━━━━━━━\u001b[0m\u001b[37m\u001b[0m \u001b[1m0s\u001b[0m 24ms/step - loss: 1.5927 - mae: 1.0643 - val_loss: 2.6233 - val_mae: 1.3953\n",
            "Epoch 19/200\n",
            "\u001b[1m4/4\u001b[0m \u001b[32m━━━━━━━━━━━━━━━━━━━━\u001b[0m\u001b[37m\u001b[0m \u001b[1m0s\u001b[0m 25ms/step - loss: 1.6627 - mae: 1.0894 - val_loss: 2.6003 - val_mae: 1.3881\n",
            "Epoch 20/200\n",
            "\u001b[1m4/4\u001b[0m \u001b[32m━━━━━━━━━━━━━━━━━━━━\u001b[0m\u001b[37m\u001b[0m \u001b[1m0s\u001b[0m 26ms/step - loss: 1.6254 - mae: 1.0764 - val_loss: 2.5707 - val_mae: 1.3798\n",
            "Epoch 21/200\n",
            "\u001b[1m4/4\u001b[0m \u001b[32m━━━━━━━━━━━━━━━━━━━━\u001b[0m\u001b[37m\u001b[0m \u001b[1m0s\u001b[0m 28ms/step - loss: 1.5061 - mae: 1.0245 - val_loss: 2.5325 - val_mae: 1.3699\n",
            "Epoch 22/200\n",
            "\u001b[1m4/4\u001b[0m \u001b[32m━━━━━━━━━━━━━━━━━━━━\u001b[0m\u001b[37m\u001b[0m \u001b[1m0s\u001b[0m 25ms/step - loss: 1.7015 - mae: 1.0917 - val_loss: 2.4918 - val_mae: 1.3593\n",
            "Epoch 23/200\n",
            "\u001b[1m4/4\u001b[0m \u001b[32m━━━━━━━━━━━━━━━━━━━━\u001b[0m\u001b[37m\u001b[0m \u001b[1m0s\u001b[0m 26ms/step - loss: 1.6019 - mae: 1.0710 - val_loss: 2.4399 - val_mae: 1.3469\n",
            "Epoch 24/200\n",
            "\u001b[1m4/4\u001b[0m \u001b[32m━━━━━━━━━━━━━━━━━━━━\u001b[0m\u001b[37m\u001b[0m \u001b[1m0s\u001b[0m 24ms/step - loss: 1.7469 - mae: 1.1406 - val_loss: 2.3927 - val_mae: 1.3348\n",
            "Epoch 25/200\n",
            "\u001b[1m4/4\u001b[0m \u001b[32m━━━━━━━━━━━━━━━━━━━━\u001b[0m\u001b[37m\u001b[0m \u001b[1m0s\u001b[0m 24ms/step - loss: 1.5741 - mae: 1.0883 - val_loss: 2.3430 - val_mae: 1.3214\n",
            "Epoch 26/200\n",
            "\u001b[1m4/4\u001b[0m \u001b[32m━━━━━━━━━━━━━━━━━━━━\u001b[0m\u001b[37m\u001b[0m \u001b[1m0s\u001b[0m 26ms/step - loss: 1.5180 - mae: 1.0433 - val_loss: 2.2986 - val_mae: 1.3083\n",
            "Epoch 27/200\n",
            "\u001b[1m4/4\u001b[0m \u001b[32m━━━━━━━━━━━━━━━━━━━━\u001b[0m\u001b[37m\u001b[0m \u001b[1m0s\u001b[0m 24ms/step - loss: 1.4970 - mae: 1.0204 - val_loss: 2.2507 - val_mae: 1.2942\n",
            "Epoch 28/200\n",
            "\u001b[1m4/4\u001b[0m \u001b[32m━━━━━━━━━━━━━━━━━━━━\u001b[0m\u001b[37m\u001b[0m \u001b[1m0s\u001b[0m 24ms/step - loss: 1.3882 - mae: 1.0112 - val_loss: 2.1956 - val_mae: 1.2776\n",
            "Epoch 29/200\n",
            "\u001b[1m4/4\u001b[0m \u001b[32m━━━━━━━━━━━━━━━━━━━━\u001b[0m\u001b[37m\u001b[0m \u001b[1m0s\u001b[0m 38ms/step - loss: 1.3359 - mae: 0.9912 - val_loss: 2.1521 - val_mae: 1.2632\n",
            "Epoch 30/200\n",
            "\u001b[1m4/4\u001b[0m \u001b[32m━━━━━━━━━━━━━━━━━━━━\u001b[0m\u001b[37m\u001b[0m \u001b[1m0s\u001b[0m 36ms/step - loss: 1.2467 - mae: 0.9389 - val_loss: 2.1006 - val_mae: 1.2465\n",
            "Epoch 31/200\n",
            "\u001b[1m4/4\u001b[0m \u001b[32m━━━━━━━━━━━━━━━━━━━━\u001b[0m\u001b[37m\u001b[0m \u001b[1m0s\u001b[0m 45ms/step - loss: 1.3698 - mae: 0.9967 - val_loss: 2.0491 - val_mae: 1.2297\n",
            "Epoch 32/200\n",
            "\u001b[1m4/4\u001b[0m \u001b[32m━━━━━━━━━━━━━━━━━━━━\u001b[0m\u001b[37m\u001b[0m \u001b[1m0s\u001b[0m 36ms/step - loss: 1.2502 - mae: 0.9373 - val_loss: 2.0189 - val_mae: 1.2196\n",
            "Epoch 33/200\n",
            "\u001b[1m4/4\u001b[0m \u001b[32m━━━━━━━━━━━━━━━━━━━━\u001b[0m\u001b[37m\u001b[0m \u001b[1m0s\u001b[0m 45ms/step - loss: 1.2995 - mae: 0.9655 - val_loss: 1.9773 - val_mae: 1.2064\n",
            "Epoch 34/200\n",
            "\u001b[1m4/4\u001b[0m \u001b[32m━━━━━━━━━━━━━━━━━━━━\u001b[0m\u001b[37m\u001b[0m \u001b[1m0s\u001b[0m 35ms/step - loss: 1.2068 - mae: 0.9287 - val_loss: 1.9433 - val_mae: 1.1950\n",
            "Epoch 35/200\n",
            "\u001b[1m4/4\u001b[0m \u001b[32m━━━━━━━━━━━━━━━━━━━━\u001b[0m\u001b[37m\u001b[0m \u001b[1m0s\u001b[0m 47ms/step - loss: 0.9860 - mae: 0.8382 - val_loss: 1.8989 - val_mae: 1.1808\n",
            "Epoch 36/200\n",
            "\u001b[1m4/4\u001b[0m \u001b[32m━━━━━━━━━━━━━━━━━━━━\u001b[0m\u001b[37m\u001b[0m \u001b[1m0s\u001b[0m 46ms/step - loss: 1.1988 - mae: 0.9471 - val_loss: 1.8533 - val_mae: 1.1657\n",
            "Epoch 37/200\n",
            "\u001b[1m4/4\u001b[0m \u001b[32m━━━━━━━━━━━━━━━━━━━━\u001b[0m\u001b[37m\u001b[0m \u001b[1m0s\u001b[0m 45ms/step - loss: 1.2907 - mae: 0.9791 - val_loss: 1.7935 - val_mae: 1.1462\n",
            "Epoch 38/200\n",
            "\u001b[1m4/4\u001b[0m \u001b[32m━━━━━━━━━━━━━━━━━━━━\u001b[0m\u001b[37m\u001b[0m \u001b[1m0s\u001b[0m 38ms/step - loss: 1.2219 - mae: 0.9442 - val_loss: 1.7495 - val_mae: 1.1308\n",
            "Epoch 39/200\n",
            "\u001b[1m4/4\u001b[0m \u001b[32m━━━━━━━━━━━━━━━━━━━━\u001b[0m\u001b[37m\u001b[0m \u001b[1m0s\u001b[0m 25ms/step - loss: 1.1238 - mae: 0.9039 - val_loss: 1.7134 - val_mae: 1.1182\n",
            "Epoch 40/200\n",
            "\u001b[1m4/4\u001b[0m \u001b[32m━━━━━━━━━━━━━━━━━━━━\u001b[0m\u001b[37m\u001b[0m \u001b[1m0s\u001b[0m 27ms/step - loss: 1.0655 - mae: 0.8871 - val_loss: 1.6833 - val_mae: 1.1073\n",
            "Epoch 41/200\n",
            "\u001b[1m4/4\u001b[0m \u001b[32m━━━━━━━━━━━━━━━━━━━━\u001b[0m\u001b[37m\u001b[0m \u001b[1m0s\u001b[0m 25ms/step - loss: 0.9945 - mae: 0.8486 - val_loss: 1.6420 - val_mae: 1.0926\n",
            "Epoch 42/200\n",
            "\u001b[1m4/4\u001b[0m \u001b[32m━━━━━━━━━━━━━━━━━━━━\u001b[0m\u001b[37m\u001b[0m \u001b[1m0s\u001b[0m 24ms/step - loss: 1.0678 - mae: 0.8904 - val_loss: 1.6033 - val_mae: 1.0785\n",
            "Epoch 43/200\n",
            "\u001b[1m4/4\u001b[0m \u001b[32m━━━━━━━━━━━━━━━━━━━━\u001b[0m\u001b[37m\u001b[0m \u001b[1m0s\u001b[0m 26ms/step - loss: 0.8952 - mae: 0.8090 - val_loss: 1.5649 - val_mae: 1.0645\n",
            "Epoch 44/200\n",
            "\u001b[1m4/4\u001b[0m \u001b[32m━━━━━━━━━━━━━━━━━━━━\u001b[0m\u001b[37m\u001b[0m \u001b[1m0s\u001b[0m 26ms/step - loss: 0.9792 - mae: 0.8583 - val_loss: 1.5351 - val_mae: 1.0555\n",
            "Epoch 45/200\n",
            "\u001b[1m4/4\u001b[0m \u001b[32m━━━━━━━━━━━━━━━━━━━━\u001b[0m\u001b[37m\u001b[0m \u001b[1m0s\u001b[0m 25ms/step - loss: 0.9348 - mae: 0.8425 - val_loss: 1.4970 - val_mae: 1.0417\n",
            "Epoch 46/200\n",
            "\u001b[1m4/4\u001b[0m \u001b[32m━━━━━━━━━━━━━━━━━━━━\u001b[0m\u001b[37m\u001b[0m \u001b[1m0s\u001b[0m 24ms/step - loss: 1.0906 - mae: 0.8941 - val_loss: 1.4597 - val_mae: 1.0280\n",
            "Epoch 47/200\n",
            "\u001b[1m4/4\u001b[0m \u001b[32m━━━━━━━━━━━━━━━━━━━━\u001b[0m\u001b[37m\u001b[0m \u001b[1m0s\u001b[0m 26ms/step - loss: 0.8465 - mae: 0.7840 - val_loss: 1.4285 - val_mae: 1.0172\n",
            "Epoch 48/200\n",
            "\u001b[1m4/4\u001b[0m \u001b[32m━━━━━━━━━━━━━━━━━━━━\u001b[0m\u001b[37m\u001b[0m \u001b[1m0s\u001b[0m 24ms/step - loss: 0.8327 - mae: 0.7749 - val_loss: 1.3953 - val_mae: 1.0050\n",
            "Epoch 49/200\n",
            "\u001b[1m4/4\u001b[0m \u001b[32m━━━━━━━━━━━━━━━━━━━━\u001b[0m\u001b[37m\u001b[0m \u001b[1m0s\u001b[0m 24ms/step - loss: 0.9043 - mae: 0.8235 - val_loss: 1.3610 - val_mae: 0.9919\n",
            "Epoch 50/200\n",
            "\u001b[1m4/4\u001b[0m \u001b[32m━━━━━━━━━━━━━━━━━━━━\u001b[0m\u001b[37m\u001b[0m \u001b[1m0s\u001b[0m 25ms/step - loss: 0.7501 - mae: 0.7320 - val_loss: 1.3274 - val_mae: 0.9788\n",
            "Epoch 51/200\n",
            "\u001b[1m4/4\u001b[0m \u001b[32m━━━━━━━━━━━━━━━━━━━━\u001b[0m\u001b[37m\u001b[0m \u001b[1m0s\u001b[0m 24ms/step - loss: 0.7758 - mae: 0.7439 - val_loss: 1.2951 - val_mae: 0.9667\n",
            "Epoch 52/200\n",
            "\u001b[1m4/4\u001b[0m \u001b[32m━━━━━━━━━━━━━━━━━━━━\u001b[0m\u001b[37m\u001b[0m \u001b[1m0s\u001b[0m 27ms/step - loss: 0.8474 - mae: 0.7941 - val_loss: 1.2550 - val_mae: 0.9500\n",
            "Epoch 53/200\n",
            "\u001b[1m4/4\u001b[0m \u001b[32m━━━━━━━━━━━━━━━━━━━━\u001b[0m\u001b[37m\u001b[0m \u001b[1m0s\u001b[0m 25ms/step - loss: 0.7473 - mae: 0.7507 - val_loss: 1.2163 - val_mae: 0.9333\n",
            "Epoch 54/200\n",
            "\u001b[1m4/4\u001b[0m \u001b[32m━━━━━━━━━━━━━━━━━━━━\u001b[0m\u001b[37m\u001b[0m \u001b[1m0s\u001b[0m 25ms/step - loss: 0.6820 - mae: 0.7018 - val_loss: 1.1798 - val_mae: 0.9174\n",
            "Epoch 55/200\n",
            "\u001b[1m4/4\u001b[0m \u001b[32m━━━━━━━━━━━━━━━━━━━━\u001b[0m\u001b[37m\u001b[0m \u001b[1m0s\u001b[0m 24ms/step - loss: 0.7160 - mae: 0.7202 - val_loss: 1.1481 - val_mae: 0.9042\n",
            "Epoch 56/200\n",
            "\u001b[1m4/4\u001b[0m \u001b[32m━━━━━━━━━━━━━━━━━━━━\u001b[0m\u001b[37m\u001b[0m \u001b[1m0s\u001b[0m 26ms/step - loss: 0.7122 - mae: 0.7172 - val_loss: 1.1178 - val_mae: 0.8916\n",
            "Epoch 57/200\n",
            "\u001b[1m4/4\u001b[0m \u001b[32m━━━━━━━━━━━━━━━━━━━━\u001b[0m\u001b[37m\u001b[0m \u001b[1m0s\u001b[0m 24ms/step - loss: 0.7110 - mae: 0.7174 - val_loss: 1.0813 - val_mae: 0.8738\n",
            "Epoch 58/200\n",
            "\u001b[1m4/4\u001b[0m \u001b[32m━━━━━━━━━━━━━━━━━━━━\u001b[0m\u001b[37m\u001b[0m \u001b[1m0s\u001b[0m 28ms/step - loss: 0.6518 - mae: 0.6840 - val_loss: 1.0502 - val_mae: 0.8589\n",
            "Epoch 59/200\n",
            "\u001b[1m4/4\u001b[0m \u001b[32m━━━━━━━━━━━━━━━━━━━━\u001b[0m\u001b[37m\u001b[0m \u001b[1m0s\u001b[0m 38ms/step - loss: 0.5663 - mae: 0.6318 - val_loss: 1.0170 - val_mae: 0.8419\n",
            "Epoch 60/200\n",
            "\u001b[1m4/4\u001b[0m \u001b[32m━━━━━━━━━━━━━━━━━━━━\u001b[0m\u001b[37m\u001b[0m \u001b[1m0s\u001b[0m 26ms/step - loss: 0.6079 - mae: 0.6784 - val_loss: 0.9889 - val_mae: 0.8292\n",
            "Epoch 61/200\n",
            "\u001b[1m4/4\u001b[0m \u001b[32m━━━━━━━━━━━━━━━━━━━━\u001b[0m\u001b[37m\u001b[0m \u001b[1m0s\u001b[0m 24ms/step - loss: 0.5744 - mae: 0.6325 - val_loss: 0.9591 - val_mae: 0.8140\n",
            "Epoch 62/200\n",
            "\u001b[1m4/4\u001b[0m \u001b[32m━━━━━━━━━━━━━━━━━━━━\u001b[0m\u001b[37m\u001b[0m \u001b[1m0s\u001b[0m 25ms/step - loss: 0.5559 - mae: 0.6433 - val_loss: 0.9264 - val_mae: 0.7944\n",
            "Epoch 63/200\n",
            "\u001b[1m4/4\u001b[0m \u001b[32m━━━━━━━━━━━━━━━━━━━━\u001b[0m\u001b[37m\u001b[0m \u001b[1m0s\u001b[0m 24ms/step - loss: 0.6061 - mae: 0.6704 - val_loss: 0.8954 - val_mae: 0.7740\n",
            "Epoch 64/200\n",
            "\u001b[1m4/4\u001b[0m \u001b[32m━━━━━━━━━━━━━━━━━━━━\u001b[0m\u001b[37m\u001b[0m \u001b[1m0s\u001b[0m 24ms/step - loss: 0.6103 - mae: 0.6760 - val_loss: 0.8703 - val_mae: 0.7614\n",
            "Epoch 65/200\n",
            "\u001b[1m4/4\u001b[0m \u001b[32m━━━━━━━━━━━━━━━━━━━━\u001b[0m\u001b[37m\u001b[0m \u001b[1m0s\u001b[0m 24ms/step - loss: 0.4731 - mae: 0.5919 - val_loss: 0.8437 - val_mae: 0.7443\n",
            "Epoch 66/200\n",
            "\u001b[1m4/4\u001b[0m \u001b[32m━━━━━━━━━━━━━━━━━━━━\u001b[0m\u001b[37m\u001b[0m \u001b[1m0s\u001b[0m 25ms/step - loss: 0.4842 - mae: 0.5896 - val_loss: 0.8182 - val_mae: 0.7218\n",
            "Epoch 67/200\n",
            "\u001b[1m4/4\u001b[0m \u001b[32m━━━━━━━━━━━━━━━━━━━━\u001b[0m\u001b[37m\u001b[0m \u001b[1m0s\u001b[0m 28ms/step - loss: 0.4941 - mae: 0.6006 - val_loss: 0.7939 - val_mae: 0.7082\n",
            "Epoch 68/200\n",
            "\u001b[1m4/4\u001b[0m \u001b[32m━━━━━━━━━━━━━━━━━━━━\u001b[0m\u001b[37m\u001b[0m \u001b[1m0s\u001b[0m 25ms/step - loss: 0.4541 - mae: 0.5714 - val_loss: 0.7712 - val_mae: 0.6960\n",
            "Epoch 69/200\n",
            "\u001b[1m4/4\u001b[0m \u001b[32m━━━━━━━━━━━━━━━━━━━━\u001b[0m\u001b[37m\u001b[0m \u001b[1m0s\u001b[0m 24ms/step - loss: 0.4298 - mae: 0.5551 - val_loss: 0.7498 - val_mae: 0.6820\n",
            "Epoch 70/200\n",
            "\u001b[1m4/4\u001b[0m \u001b[32m━━━━━━━━━━━━━━━━━━━━\u001b[0m\u001b[37m\u001b[0m \u001b[1m0s\u001b[0m 26ms/step - loss: 0.4567 - mae: 0.5867 - val_loss: 0.7286 - val_mae: 0.6701\n",
            "Epoch 71/200\n",
            "\u001b[1m4/4\u001b[0m \u001b[32m━━━━━━━━━━━━━━━━━━━━\u001b[0m\u001b[37m\u001b[0m \u001b[1m0s\u001b[0m 25ms/step - loss: 0.4843 - mae: 0.5921 - val_loss: 0.7090 - val_mae: 0.6608\n",
            "Epoch 72/200\n",
            "\u001b[1m4/4\u001b[0m \u001b[32m━━━━━━━━━━━━━━━━━━━━\u001b[0m\u001b[37m\u001b[0m \u001b[1m0s\u001b[0m 27ms/step - loss: 0.4333 - mae: 0.5626 - val_loss: 0.6907 - val_mae: 0.6499\n",
            "Epoch 73/200\n",
            "\u001b[1m4/4\u001b[0m \u001b[32m━━━━━━━━━━━━━━━━━━━━\u001b[0m\u001b[37m\u001b[0m \u001b[1m0s\u001b[0m 24ms/step - loss: 0.4767 - mae: 0.5940 - val_loss: 0.6740 - val_mae: 0.6421\n",
            "Epoch 74/200\n",
            "\u001b[1m4/4\u001b[0m \u001b[32m━━━━━━━━━━━━━━━━━━━━\u001b[0m\u001b[37m\u001b[0m \u001b[1m0s\u001b[0m 26ms/step - loss: 0.4012 - mae: 0.5477 - val_loss: 0.6581 - val_mae: 0.6320\n",
            "Epoch 75/200\n",
            "\u001b[1m4/4\u001b[0m \u001b[32m━━━━━━━━━━━━━━━━━━━━\u001b[0m\u001b[37m\u001b[0m \u001b[1m0s\u001b[0m 24ms/step - loss: 0.3983 - mae: 0.5471 - val_loss: 0.6424 - val_mae: 0.6207\n",
            "Epoch 76/200\n",
            "\u001b[1m4/4\u001b[0m \u001b[32m━━━━━━━━━━━━━━━━━━━━\u001b[0m\u001b[37m\u001b[0m \u001b[1m0s\u001b[0m 31ms/step - loss: 0.4083 - mae: 0.5376 - val_loss: 0.6279 - val_mae: 0.6159\n",
            "Epoch 77/200\n",
            "\u001b[1m4/4\u001b[0m \u001b[32m━━━━━━━━━━━━━━━━━━━━\u001b[0m\u001b[37m\u001b[0m \u001b[1m0s\u001b[0m 25ms/step - loss: 0.4104 - mae: 0.5522 - val_loss: 0.6141 - val_mae: 0.6085\n",
            "Epoch 78/200\n",
            "\u001b[1m4/4\u001b[0m \u001b[32m━━━━━━━━━━━━━━━━━━━━\u001b[0m\u001b[37m\u001b[0m \u001b[1m0s\u001b[0m 25ms/step - loss: 0.3527 - mae: 0.5107 - val_loss: 0.6019 - val_mae: 0.5970\n",
            "Epoch 79/200\n",
            "\u001b[1m4/4\u001b[0m \u001b[32m━━━━━━━━━━━━━━━━━━━━\u001b[0m\u001b[37m\u001b[0m \u001b[1m0s\u001b[0m 25ms/step - loss: 0.3851 - mae: 0.5289 - val_loss: 0.5910 - val_mae: 0.5908\n",
            "Epoch 80/200\n",
            "\u001b[1m4/4\u001b[0m \u001b[32m━━━━━━━━━━━━━━━━━━━━\u001b[0m\u001b[37m\u001b[0m \u001b[1m0s\u001b[0m 24ms/step - loss: 0.3795 - mae: 0.5384 - val_loss: 0.5812 - val_mae: 0.5849\n",
            "Epoch 81/200\n",
            "\u001b[1m4/4\u001b[0m \u001b[32m━━━━━━━━━━━━━━━━━━━━\u001b[0m\u001b[37m\u001b[0m \u001b[1m0s\u001b[0m 37ms/step - loss: 0.3581 - mae: 0.5188 - val_loss: 0.5684 - val_mae: 0.5778\n",
            "Epoch 82/200\n",
            "\u001b[1m4/4\u001b[0m \u001b[32m━━━━━━━━━━━━━━━━━━━━\u001b[0m\u001b[37m\u001b[0m \u001b[1m0s\u001b[0m 26ms/step - loss: 0.4258 - mae: 0.5511 - val_loss: 0.5579 - val_mae: 0.5716\n",
            "Epoch 83/200\n",
            "\u001b[1m4/4\u001b[0m \u001b[32m━━━━━━━━━━━━━━━━━━━━\u001b[0m\u001b[37m\u001b[0m \u001b[1m0s\u001b[0m 38ms/step - loss: 0.3761 - mae: 0.5169 - val_loss: 0.5491 - val_mae: 0.5663\n",
            "Epoch 84/200\n",
            "\u001b[1m4/4\u001b[0m \u001b[32m━━━━━━━━━━━━━━━━━━━━\u001b[0m\u001b[37m\u001b[0m \u001b[1m0s\u001b[0m 38ms/step - loss: 0.3628 - mae: 0.5235 - val_loss: 0.5421 - val_mae: 0.5622\n",
            "Epoch 85/200\n",
            "\u001b[1m4/4\u001b[0m \u001b[32m━━━━━━━━━━━━━━━━━━━━\u001b[0m\u001b[37m\u001b[0m \u001b[1m0s\u001b[0m 26ms/step - loss: 0.3323 - mae: 0.4850 - val_loss: 0.5360 - val_mae: 0.5581\n",
            "Epoch 86/200\n",
            "\u001b[1m4/4\u001b[0m \u001b[32m━━━━━━━━━━━━━━━━━━━━\u001b[0m\u001b[37m\u001b[0m \u001b[1m0s\u001b[0m 25ms/step - loss: 0.3825 - mae: 0.5344 - val_loss: 0.5291 - val_mae: 0.5550\n",
            "Epoch 87/200\n",
            "\u001b[1m4/4\u001b[0m \u001b[32m━━━━━━━━━━━━━━━━━━━━\u001b[0m\u001b[37m\u001b[0m \u001b[1m0s\u001b[0m 25ms/step - loss: 0.3970 - mae: 0.5294 - val_loss: 0.5212 - val_mae: 0.5522\n",
            "Epoch 88/200\n",
            "\u001b[1m4/4\u001b[0m \u001b[32m━━━━━━━━━━━━━━━━━━━━\u001b[0m\u001b[37m\u001b[0m \u001b[1m0s\u001b[0m 25ms/step - loss: 0.3191 - mae: 0.4745 - val_loss: 0.5155 - val_mae: 0.5496\n",
            "Epoch 89/200\n",
            "\u001b[1m4/4\u001b[0m \u001b[32m━━━━━━━━━━━━━━━━━━━━\u001b[0m\u001b[37m\u001b[0m \u001b[1m0s\u001b[0m 24ms/step - loss: 0.3969 - mae: 0.5268 - val_loss: 0.5092 - val_mae: 0.5481\n",
            "Epoch 90/200\n",
            "\u001b[1m4/4\u001b[0m \u001b[32m━━━━━━━━━━━━━━━━━━━━\u001b[0m\u001b[37m\u001b[0m \u001b[1m0s\u001b[0m 24ms/step - loss: 0.3621 - mae: 0.5109 - val_loss: 0.5050 - val_mae: 0.5453\n",
            "Epoch 91/200\n",
            "\u001b[1m4/4\u001b[0m \u001b[32m━━━━━━━━━━━━━━━━━━━━\u001b[0m\u001b[37m\u001b[0m \u001b[1m0s\u001b[0m 25ms/step - loss: 0.3288 - mae: 0.4932 - val_loss: 0.4990 - val_mae: 0.5431\n",
            "Epoch 92/200\n",
            "\u001b[1m4/4\u001b[0m \u001b[32m━━━━━━━━━━━━━━━━━━━━\u001b[0m\u001b[37m\u001b[0m \u001b[1m0s\u001b[0m 24ms/step - loss: 0.3306 - mae: 0.4919 - val_loss: 0.4971 - val_mae: 0.5424\n",
            "Epoch 93/200\n",
            "\u001b[1m4/4\u001b[0m \u001b[32m━━━━━━━━━━━━━━━━━━━━\u001b[0m\u001b[37m\u001b[0m \u001b[1m0s\u001b[0m 32ms/step - loss: 0.3401 - mae: 0.4977 - val_loss: 0.4932 - val_mae: 0.5416\n",
            "Epoch 94/200\n",
            "\u001b[1m4/4\u001b[0m \u001b[32m━━━━━━━━━━━━━━━━━━━━\u001b[0m\u001b[37m\u001b[0m \u001b[1m0s\u001b[0m 25ms/step - loss: 0.3312 - mae: 0.4818 - val_loss: 0.4955 - val_mae: 0.5451\n",
            "Epoch 95/200\n",
            "\u001b[1m4/4\u001b[0m \u001b[32m━━━━━━━━━━━━━━━━━━━━\u001b[0m\u001b[37m\u001b[0m \u001b[1m0s\u001b[0m 24ms/step - loss: 0.3102 - mae: 0.4680 - val_loss: 0.4950 - val_mae: 0.5457\n",
            "Epoch 96/200\n",
            "\u001b[1m4/4\u001b[0m \u001b[32m━━━━━━━━━━━━━━━━━━━━\u001b[0m\u001b[37m\u001b[0m \u001b[1m0s\u001b[0m 24ms/step - loss: 0.3721 - mae: 0.5048 - val_loss: 0.4863 - val_mae: 0.5412\n",
            "Epoch 97/200\n",
            "\u001b[1m4/4\u001b[0m \u001b[32m━━━━━━━━━━━━━━━━━━━━\u001b[0m\u001b[37m\u001b[0m \u001b[1m0s\u001b[0m 47ms/step - loss: 0.3050 - mae: 0.4606 - val_loss: 0.4790 - val_mae: 0.5363\n",
            "Epoch 98/200\n",
            "\u001b[1m4/4\u001b[0m \u001b[32m━━━━━━━━━━━━━━━━━━━━\u001b[0m\u001b[37m\u001b[0m \u001b[1m0s\u001b[0m 35ms/step - loss: 0.3424 - mae: 0.4994 - val_loss: 0.4746 - val_mae: 0.5341\n",
            "Epoch 99/200\n",
            "\u001b[1m4/4\u001b[0m \u001b[32m━━━━━━━━━━━━━━━━━━━━\u001b[0m\u001b[37m\u001b[0m \u001b[1m0s\u001b[0m 47ms/step - loss: 0.3169 - mae: 0.4587 - val_loss: 0.4740 - val_mae: 0.5352\n",
            "Epoch 100/200\n",
            "\u001b[1m4/4\u001b[0m \u001b[32m━━━━━━━━━━━━━━━━━━━━\u001b[0m\u001b[37m\u001b[0m \u001b[1m0s\u001b[0m 26ms/step - loss: 0.3323 - mae: 0.4867 - val_loss: 0.4724 - val_mae: 0.5353\n",
            "Epoch 101/200\n",
            "\u001b[1m4/4\u001b[0m \u001b[32m━━━━━━━━━━━━━━━━━━━━\u001b[0m\u001b[37m\u001b[0m \u001b[1m0s\u001b[0m 24ms/step - loss: 0.3091 - mae: 0.4605 - val_loss: 0.4691 - val_mae: 0.5338\n",
            "Epoch 102/200\n",
            "\u001b[1m4/4\u001b[0m \u001b[32m━━━━━━━━━━━━━━━━━━━━\u001b[0m\u001b[37m\u001b[0m \u001b[1m0s\u001b[0m 25ms/step - loss: 0.3272 - mae: 0.4896 - val_loss: 0.4741 - val_mae: 0.5377\n",
            "Epoch 103/200\n",
            "\u001b[1m4/4\u001b[0m \u001b[32m━━━━━━━━━━━━━━━━━━━━\u001b[0m\u001b[37m\u001b[0m \u001b[1m0s\u001b[0m 24ms/step - loss: 0.3443 - mae: 0.4855 - val_loss: 0.4678 - val_mae: 0.5352\n",
            "Epoch 104/200\n",
            "\u001b[1m4/4\u001b[0m \u001b[32m━━━━━━━━━━━━━━━━━━━━\u001b[0m\u001b[37m\u001b[0m \u001b[1m0s\u001b[0m 24ms/step - loss: 0.3174 - mae: 0.4805 - val_loss: 0.4642 - val_mae: 0.5338\n",
            "Epoch 105/200\n",
            "\u001b[1m4/4\u001b[0m \u001b[32m━━━━━━━━━━━━━━━━━━━━\u001b[0m\u001b[37m\u001b[0m \u001b[1m0s\u001b[0m 24ms/step - loss: 0.3525 - mae: 0.4994 - val_loss: 0.4628 - val_mae: 0.5332\n",
            "Epoch 106/200\n",
            "\u001b[1m4/4\u001b[0m \u001b[32m━━━━━━━━━━━━━━━━━━━━\u001b[0m\u001b[37m\u001b[0m \u001b[1m0s\u001b[0m 24ms/step - loss: 0.3286 - mae: 0.4830 - val_loss: 0.4638 - val_mae: 0.5344\n",
            "Epoch 107/200\n",
            "\u001b[1m4/4\u001b[0m \u001b[32m━━━━━━━━━━━━━━━━━━━━\u001b[0m\u001b[37m\u001b[0m \u001b[1m0s\u001b[0m 30ms/step - loss: 0.3407 - mae: 0.4903 - val_loss: 0.4614 - val_mae: 0.5332\n",
            "Epoch 108/200\n",
            "\u001b[1m4/4\u001b[0m \u001b[32m━━━━━━━━━━━━━━━━━━━━\u001b[0m\u001b[37m\u001b[0m \u001b[1m0s\u001b[0m 23ms/step - loss: 0.3363 - mae: 0.4940 - val_loss: 0.4644 - val_mae: 0.5355\n",
            "Epoch 109/200\n",
            "\u001b[1m4/4\u001b[0m \u001b[32m━━━━━━━━━━━━━━━━━━━━\u001b[0m\u001b[37m\u001b[0m \u001b[1m0s\u001b[0m 24ms/step - loss: 0.3207 - mae: 0.4755 - val_loss: 0.4621 - val_mae: 0.5345\n",
            "Epoch 110/200\n",
            "\u001b[1m4/4\u001b[0m \u001b[32m━━━━━━━━━━━━━━━━━━━━\u001b[0m\u001b[37m\u001b[0m \u001b[1m0s\u001b[0m 25ms/step - loss: 0.2869 - mae: 0.4446 - val_loss: 0.4583 - val_mae: 0.5327\n",
            "Epoch 111/200\n",
            "\u001b[1m4/4\u001b[0m \u001b[32m━━━━━━━━━━━━━━━━━━━━\u001b[0m\u001b[37m\u001b[0m \u001b[1m0s\u001b[0m 26ms/step - loss: 0.3357 - mae: 0.4921 - val_loss: 0.4602 - val_mae: 0.5341\n",
            "Epoch 112/200\n",
            "\u001b[1m4/4\u001b[0m \u001b[32m━━━━━━━━━━━━━━━━━━━━\u001b[0m\u001b[37m\u001b[0m \u001b[1m0s\u001b[0m 25ms/step - loss: 0.3638 - mae: 0.4927 - val_loss: 0.4582 - val_mae: 0.5334\n",
            "Epoch 113/200\n",
            "\u001b[1m4/4\u001b[0m \u001b[32m━━━━━━━━━━━━━━━━━━━━\u001b[0m\u001b[37m\u001b[0m \u001b[1m0s\u001b[0m 25ms/step - loss: 0.3477 - mae: 0.4747 - val_loss: 0.4565 - val_mae: 0.5327\n",
            "Epoch 114/200\n",
            "\u001b[1m4/4\u001b[0m \u001b[32m━━━━━━━━━━━━━━━━━━━━\u001b[0m\u001b[37m\u001b[0m \u001b[1m0s\u001b[0m 25ms/step - loss: 0.2854 - mae: 0.4556 - val_loss: 0.4574 - val_mae: 0.5337\n",
            "Epoch 115/200\n",
            "\u001b[1m4/4\u001b[0m \u001b[32m━━━━━━━━━━━━━━━━━━━━\u001b[0m\u001b[37m\u001b[0m \u001b[1m0s\u001b[0m 29ms/step - loss: 0.3890 - mae: 0.5046 - val_loss: 0.4528 - val_mae: 0.5307\n",
            "Epoch 116/200\n",
            "\u001b[1m4/4\u001b[0m \u001b[32m━━━━━━━━━━━━━━━━━━━━\u001b[0m\u001b[37m\u001b[0m \u001b[1m0s\u001b[0m 39ms/step - loss: 0.3241 - mae: 0.4696 - val_loss: 0.4521 - val_mae: 0.5310\n",
            "Epoch 117/200\n",
            "\u001b[1m4/4\u001b[0m \u001b[32m━━━━━━━━━━━━━━━━━━━━\u001b[0m\u001b[37m\u001b[0m \u001b[1m0s\u001b[0m 46ms/step - loss: 0.3182 - mae: 0.4783 - val_loss: 0.4542 - val_mae: 0.5330\n",
            "Epoch 118/200\n",
            "\u001b[1m4/4\u001b[0m \u001b[32m━━━━━━━━━━━━━━━━━━━━\u001b[0m\u001b[37m\u001b[0m \u001b[1m0s\u001b[0m 34ms/step - loss: 0.3799 - mae: 0.5087 - val_loss: 0.4546 - val_mae: 0.5332\n",
            "Epoch 119/200\n",
            "\u001b[1m4/4\u001b[0m \u001b[32m━━━━━━━━━━━━━━━━━━━━\u001b[0m\u001b[37m\u001b[0m \u001b[1m0s\u001b[0m 34ms/step - loss: 0.3820 - mae: 0.5164 - val_loss: 0.4578 - val_mae: 0.5348\n",
            "Epoch 120/200\n",
            "\u001b[1m4/4\u001b[0m \u001b[32m━━━━━━━━━━━━━━━━━━━━\u001b[0m\u001b[37m\u001b[0m \u001b[1m0s\u001b[0m 42ms/step - loss: 0.3757 - mae: 0.5073 - val_loss: 0.4519 - val_mae: 0.5321\n",
            "Epoch 121/200\n",
            "\u001b[1m4/4\u001b[0m \u001b[32m━━━━━━━━━━━━━━━━━━━━\u001b[0m\u001b[37m\u001b[0m \u001b[1m0s\u001b[0m 33ms/step - loss: 0.3125 - mae: 0.4776 - val_loss: 0.4489 - val_mae: 0.5306\n",
            "Epoch 122/200\n",
            "\u001b[1m4/4\u001b[0m \u001b[32m━━━━━━━━━━━━━━━━━━━━\u001b[0m\u001b[37m\u001b[0m \u001b[1m0s\u001b[0m 34ms/step - loss: 0.3284 - mae: 0.4713 - val_loss: 0.4464 - val_mae: 0.5292\n",
            "Epoch 123/200\n",
            "\u001b[1m4/4\u001b[0m \u001b[32m━━━━━━━━━━━━━━━━━━━━\u001b[0m\u001b[37m\u001b[0m \u001b[1m0s\u001b[0m 32ms/step - loss: 0.3130 - mae: 0.4736 - val_loss: 0.4466 - val_mae: 0.5296\n",
            "Epoch 124/200\n",
            "\u001b[1m4/4\u001b[0m \u001b[32m━━━━━━━━━━━━━━━━━━━━\u001b[0m\u001b[37m\u001b[0m \u001b[1m0s\u001b[0m 47ms/step - loss: 0.3001 - mae: 0.4565 - val_loss: 0.4467 - val_mae: 0.5297\n",
            "Epoch 125/200\n",
            "\u001b[1m4/4\u001b[0m \u001b[32m━━━━━━━━━━━━━━━━━━━━\u001b[0m\u001b[37m\u001b[0m \u001b[1m0s\u001b[0m 53ms/step - loss: 0.2778 - mae: 0.4414 - val_loss: 0.4468 - val_mae: 0.5296\n",
            "Epoch 126/200\n",
            "\u001b[1m4/4\u001b[0m \u001b[32m━━━━━━━━━━━━━━━━━━━━\u001b[0m\u001b[37m\u001b[0m \u001b[1m0s\u001b[0m 25ms/step - loss: 0.3287 - mae: 0.4797 - val_loss: 0.4467 - val_mae: 0.5298\n",
            "Epoch 127/200\n",
            "\u001b[1m4/4\u001b[0m \u001b[32m━━━━━━━━━━━━━━━━━━━━\u001b[0m\u001b[37m\u001b[0m \u001b[1m0s\u001b[0m 27ms/step - loss: 0.2862 - mae: 0.4414 - val_loss: 0.4471 - val_mae: 0.5298\n",
            "Epoch 128/200\n",
            "\u001b[1m4/4\u001b[0m \u001b[32m━━━━━━━━━━━━━━━━━━━━\u001b[0m\u001b[37m\u001b[0m \u001b[1m0s\u001b[0m 26ms/step - loss: 0.3571 - mae: 0.4995 - val_loss: 0.4446 - val_mae: 0.5282\n",
            "Epoch 129/200\n",
            "\u001b[1m4/4\u001b[0m \u001b[32m━━━━━━━━━━━━━━━━━━━━\u001b[0m\u001b[37m\u001b[0m \u001b[1m0s\u001b[0m 27ms/step - loss: 0.2959 - mae: 0.4427 - val_loss: 0.4441 - val_mae: 0.5278\n",
            "Epoch 130/200\n",
            "\u001b[1m4/4\u001b[0m \u001b[32m━━━━━━━━━━━━━━━━━━━━\u001b[0m\u001b[37m\u001b[0m \u001b[1m0s\u001b[0m 24ms/step - loss: 0.3247 - mae: 0.4833 - val_loss: 0.4489 - val_mae: 0.5319\n",
            "Epoch 131/200\n",
            "\u001b[1m4/4\u001b[0m \u001b[32m━━━━━━━━━━━━━━━━━━━━\u001b[0m\u001b[37m\u001b[0m \u001b[1m0s\u001b[0m 24ms/step - loss: 0.3020 - mae: 0.4715 - val_loss: 0.4508 - val_mae: 0.5331\n",
            "Epoch 132/200\n",
            "\u001b[1m4/4\u001b[0m \u001b[32m━━━━━━━━━━━━━━━━━━━━\u001b[0m\u001b[37m\u001b[0m \u001b[1m0s\u001b[0m 37ms/step - loss: 0.3193 - mae: 0.4591 - val_loss: 0.4477 - val_mae: 0.5316\n",
            "Epoch 133/200\n",
            "\u001b[1m4/4\u001b[0m \u001b[32m━━━━━━━━━━━━━━━━━━━━\u001b[0m\u001b[37m\u001b[0m \u001b[1m0s\u001b[0m 23ms/step - loss: 0.3102 - mae: 0.4643 - val_loss: 0.4440 - val_mae: 0.5292\n",
            "Epoch 134/200\n",
            "\u001b[1m4/4\u001b[0m \u001b[32m━━━━━━━━━━━━━━━━━━━━\u001b[0m\u001b[37m\u001b[0m \u001b[1m0s\u001b[0m 24ms/step - loss: 0.3119 - mae: 0.4666 - val_loss: 0.4427 - val_mae: 0.5283\n",
            "Epoch 135/200\n",
            "\u001b[1m4/4\u001b[0m \u001b[32m━━━━━━━━━━━━━━━━━━━━\u001b[0m\u001b[37m\u001b[0m \u001b[1m0s\u001b[0m 23ms/step - loss: 0.3564 - mae: 0.4961 - val_loss: 0.4456 - val_mae: 0.5304\n",
            "Epoch 136/200\n",
            "\u001b[1m4/4\u001b[0m \u001b[32m━━━━━━━━━━━━━━━━━━━━\u001b[0m\u001b[37m\u001b[0m \u001b[1m0s\u001b[0m 25ms/step - loss: 0.3504 - mae: 0.4938 - val_loss: 0.4481 - val_mae: 0.5321\n",
            "Epoch 137/200\n",
            "\u001b[1m4/4\u001b[0m \u001b[32m━━━━━━━━━━━━━━━━━━━━\u001b[0m\u001b[37m\u001b[0m \u001b[1m0s\u001b[0m 24ms/step - loss: 0.3184 - mae: 0.4788 - val_loss: 0.4486 - val_mae: 0.5325\n",
            "Epoch 138/200\n",
            "\u001b[1m4/4\u001b[0m \u001b[32m━━━━━━━━━━━━━━━━━━━━\u001b[0m\u001b[37m\u001b[0m \u001b[1m0s\u001b[0m 25ms/step - loss: 0.3343 - mae: 0.4992 - val_loss: 0.4477 - val_mae: 0.5321\n",
            "Epoch 139/200\n",
            "\u001b[1m4/4\u001b[0m \u001b[32m━━━━━━━━━━━━━━━━━━━━\u001b[0m\u001b[37m\u001b[0m \u001b[1m0s\u001b[0m 23ms/step - loss: 0.3402 - mae: 0.4873 - val_loss: 0.4446 - val_mae: 0.5302\n",
            "Epoch 140/200\n",
            "\u001b[1m4/4\u001b[0m \u001b[32m━━━━━━━━━━━━━━━━━━━━\u001b[0m\u001b[37m\u001b[0m \u001b[1m0s\u001b[0m 26ms/step - loss: 0.3107 - mae: 0.4785 - val_loss: 0.4481 - val_mae: 0.5323\n",
            "Epoch 141/200\n",
            "\u001b[1m4/4\u001b[0m \u001b[32m━━━━━━━━━━━━━━━━━━━━\u001b[0m\u001b[37m\u001b[0m \u001b[1m0s\u001b[0m 24ms/step - loss: 0.3339 - mae: 0.4857 - val_loss: 0.4450 - val_mae: 0.5307\n",
            "Epoch 142/200\n",
            "\u001b[1m4/4\u001b[0m \u001b[32m━━━━━━━━━━━━━━━━━━━━\u001b[0m\u001b[37m\u001b[0m \u001b[1m0s\u001b[0m 25ms/step - loss: 0.3332 - mae: 0.4835 - val_loss: 0.4417 - val_mae: 0.5290\n",
            "Epoch 143/200\n",
            "\u001b[1m4/4\u001b[0m \u001b[32m━━━━━━━━━━━━━━━━━━━━\u001b[0m\u001b[37m\u001b[0m \u001b[1m0s\u001b[0m 24ms/step - loss: 0.3353 - mae: 0.4809 - val_loss: 0.4468 - val_mae: 0.5321\n",
            "Epoch 144/200\n",
            "\u001b[1m4/4\u001b[0m \u001b[32m━━━━━━━━━━━━━━━━━━━━\u001b[0m\u001b[37m\u001b[0m \u001b[1m0s\u001b[0m 24ms/step - loss: 0.3363 - mae: 0.4772 - val_loss: 0.4496 - val_mae: 0.5334\n",
            "Epoch 145/200\n",
            "\u001b[1m4/4\u001b[0m \u001b[32m━━━━━━━━━━━━━━━━━━━━\u001b[0m\u001b[37m\u001b[0m \u001b[1m0s\u001b[0m 24ms/step - loss: 0.2833 - mae: 0.4402 - val_loss: 0.4450 - val_mae: 0.5313\n",
            "Epoch 146/200\n",
            "\u001b[1m4/4\u001b[0m \u001b[32m━━━━━━━━━━━━━━━━━━━━\u001b[0m\u001b[37m\u001b[0m \u001b[1m0s\u001b[0m 24ms/step - loss: 0.2896 - mae: 0.4562 - val_loss: 0.4483 - val_mae: 0.5329\n",
            "Epoch 147/200\n",
            "\u001b[1m4/4\u001b[0m \u001b[32m━━━━━━━━━━━━━━━━━━━━\u001b[0m\u001b[37m\u001b[0m \u001b[1m0s\u001b[0m 24ms/step - loss: 0.3307 - mae: 0.4743 - val_loss: 0.4450 - val_mae: 0.5311\n",
            "Epoch 148/200\n",
            "\u001b[1m4/4\u001b[0m \u001b[32m━━━━━━━━━━━━━━━━━━━━\u001b[0m\u001b[37m\u001b[0m \u001b[1m0s\u001b[0m 24ms/step - loss: 0.2915 - mae: 0.4580 - val_loss: 0.4424 - val_mae: 0.5297\n",
            "Epoch 149/200\n",
            "\u001b[1m4/4\u001b[0m \u001b[32m━━━━━━━━━━━━━━━━━━━━\u001b[0m\u001b[37m\u001b[0m \u001b[1m0s\u001b[0m 25ms/step - loss: 0.3033 - mae: 0.4763 - val_loss: 0.4412 - val_mae: 0.5286\n",
            "Epoch 150/200\n",
            "\u001b[1m4/4\u001b[0m \u001b[32m━━━━━━━━━━━━━━━━━━━━\u001b[0m\u001b[37m\u001b[0m \u001b[1m0s\u001b[0m 38ms/step - loss: 0.3117 - mae: 0.4594 - val_loss: 0.4398 - val_mae: 0.5272\n",
            "Epoch 151/200\n",
            "\u001b[1m4/4\u001b[0m \u001b[32m━━━━━━━━━━━━━━━━━━━━\u001b[0m\u001b[37m\u001b[0m \u001b[1m0s\u001b[0m 24ms/step - loss: 0.3175 - mae: 0.4716 - val_loss: 0.4434 - val_mae: 0.5300\n",
            "Epoch 152/200\n",
            "\u001b[1m4/4\u001b[0m \u001b[32m━━━━━━━━━━━━━━━━━━━━\u001b[0m\u001b[37m\u001b[0m \u001b[1m0s\u001b[0m 24ms/step - loss: 0.3286 - mae: 0.4860 - val_loss: 0.4524 - val_mae: 0.5362\n",
            "Epoch 153/200\n",
            "\u001b[1m4/4\u001b[0m \u001b[32m━━━━━━━━━━━━━━━━━━━━\u001b[0m\u001b[37m\u001b[0m \u001b[1m0s\u001b[0m 27ms/step - loss: 0.3099 - mae: 0.4733 - val_loss: 0.4523 - val_mae: 0.5367\n",
            "Epoch 154/200\n",
            "\u001b[1m4/4\u001b[0m \u001b[32m━━━━━━━━━━━━━━━━━━━━\u001b[0m\u001b[37m\u001b[0m \u001b[1m0s\u001b[0m 25ms/step - loss: 0.3179 - mae: 0.4683 - val_loss: 0.4442 - val_mae: 0.5309\n",
            "Epoch 155/200\n",
            "\u001b[1m4/4\u001b[0m \u001b[32m━━━━━━━━━━━━━━━━━━━━\u001b[0m\u001b[37m\u001b[0m \u001b[1m0s\u001b[0m 24ms/step - loss: 0.3238 - mae: 0.4923 - val_loss: 0.4403 - val_mae: 0.5284\n",
            "Epoch 156/200\n",
            "\u001b[1m4/4\u001b[0m \u001b[32m━━━━━━━━━━━━━━━━━━━━\u001b[0m\u001b[37m\u001b[0m \u001b[1m0s\u001b[0m 26ms/step - loss: 0.2933 - mae: 0.4544 - val_loss: 0.4370 - val_mae: 0.5251\n",
            "Epoch 157/200\n",
            "\u001b[1m4/4\u001b[0m \u001b[32m━━━━━━━━━━━━━━━━━━━━\u001b[0m\u001b[37m\u001b[0m \u001b[1m0s\u001b[0m 23ms/step - loss: 0.3044 - mae: 0.4515 - val_loss: 0.4394 - val_mae: 0.5277\n",
            "Epoch 158/200\n",
            "\u001b[1m4/4\u001b[0m \u001b[32m━━━━━━━━━━━━━━━━━━━━\u001b[0m\u001b[37m\u001b[0m \u001b[1m0s\u001b[0m 26ms/step - loss: 0.3009 - mae: 0.4683 - val_loss: 0.4451 - val_mae: 0.5315\n",
            "Epoch 159/200\n",
            "\u001b[1m4/4\u001b[0m \u001b[32m━━━━━━━━━━━━━━━━━━━━\u001b[0m\u001b[37m\u001b[0m \u001b[1m0s\u001b[0m 24ms/step - loss: 0.3166 - mae: 0.4703 - val_loss: 0.4503 - val_mae: 0.5348\n",
            "Epoch 160/200\n",
            "\u001b[1m4/4\u001b[0m \u001b[32m━━━━━━━━━━━━━━━━━━━━\u001b[0m\u001b[37m\u001b[0m \u001b[1m0s\u001b[0m 25ms/step - loss: 0.3266 - mae: 0.4849 - val_loss: 0.4512 - val_mae: 0.5364\n",
            "Epoch 161/200\n",
            "\u001b[1m4/4\u001b[0m \u001b[32m━━━━━━━━━━━━━━━━━━━━\u001b[0m\u001b[37m\u001b[0m \u001b[1m0s\u001b[0m 23ms/step - loss: 0.3027 - mae: 0.4693 - val_loss: 0.4474 - val_mae: 0.5327\n",
            "Epoch 162/200\n",
            "\u001b[1m4/4\u001b[0m \u001b[32m━━━━━━━━━━━━━━━━━━━━\u001b[0m\u001b[37m\u001b[0m \u001b[1m0s\u001b[0m 24ms/step - loss: 0.2819 - mae: 0.4550 - val_loss: 0.4433 - val_mae: 0.5308\n",
            "Epoch 163/200\n",
            "\u001b[1m4/4\u001b[0m \u001b[32m━━━━━━━━━━━━━━━━━━━━\u001b[0m\u001b[37m\u001b[0m \u001b[1m0s\u001b[0m 25ms/step - loss: 0.3022 - mae: 0.4731 - val_loss: 0.4396 - val_mae: 0.5284\n",
            "Epoch 164/200\n",
            "\u001b[1m4/4\u001b[0m \u001b[32m━━━━━━━━━━━━━━━━━━━━\u001b[0m\u001b[37m\u001b[0m \u001b[1m0s\u001b[0m 23ms/step - loss: 0.2958 - mae: 0.4692 - val_loss: 0.4399 - val_mae: 0.5289\n",
            "Epoch 165/200\n",
            "\u001b[1m4/4\u001b[0m \u001b[32m━━━━━━━━━━━━━━━━━━━━\u001b[0m\u001b[37m\u001b[0m \u001b[1m0s\u001b[0m 29ms/step - loss: 0.2952 - mae: 0.4594 - val_loss: 0.4431 - val_mae: 0.5308\n",
            "Epoch 166/200\n",
            "\u001b[1m4/4\u001b[0m \u001b[32m━━━━━━━━━━━━━━━━━━━━\u001b[0m\u001b[37m\u001b[0m \u001b[1m0s\u001b[0m 24ms/step - loss: 0.2792 - mae: 0.4559 - val_loss: 0.4457 - val_mae: 0.5322\n",
            "Epoch 167/200\n",
            "\u001b[1m4/4\u001b[0m \u001b[32m━━━━━━━━━━━━━━━━━━━━\u001b[0m\u001b[37m\u001b[0m \u001b[1m0s\u001b[0m 24ms/step - loss: 0.2535 - mae: 0.4229 - val_loss: 0.4486 - val_mae: 0.5345\n",
            "Epoch 168/200\n",
            "\u001b[1m4/4\u001b[0m \u001b[32m━━━━━━━━━━━━━━━━━━━━\u001b[0m\u001b[37m\u001b[0m \u001b[1m0s\u001b[0m 24ms/step - loss: 0.3112 - mae: 0.4682 - val_loss: 0.4437 - val_mae: 0.5305\n",
            "Epoch 169/200\n",
            "\u001b[1m4/4\u001b[0m \u001b[32m━━━━━━━━━━━━━━━━━━━━\u001b[0m\u001b[37m\u001b[0m \u001b[1m0s\u001b[0m 25ms/step - loss: 0.3055 - mae: 0.4658 - val_loss: 0.4393 - val_mae: 0.5274\n",
            "Epoch 170/200\n",
            "\u001b[1m4/4\u001b[0m \u001b[32m━━━━━━━━━━━━━━━━━━━━\u001b[0m\u001b[37m\u001b[0m \u001b[1m0s\u001b[0m 25ms/step - loss: 0.2863 - mae: 0.4575 - val_loss: 0.4382 - val_mae: 0.5263\n",
            "Epoch 171/200\n",
            "\u001b[1m4/4\u001b[0m \u001b[32m━━━━━━━━━━━━━━━━━━━━\u001b[0m\u001b[37m\u001b[0m \u001b[1m0s\u001b[0m 24ms/step - loss: 0.2913 - mae: 0.4575 - val_loss: 0.4418 - val_mae: 0.5296\n",
            "Epoch 172/200\n",
            "\u001b[1m4/4\u001b[0m \u001b[32m━━━━━━━━━━━━━━━━━━━━\u001b[0m\u001b[37m\u001b[0m \u001b[1m0s\u001b[0m 24ms/step - loss: 0.2996 - mae: 0.4603 - val_loss: 0.4445 - val_mae: 0.5314\n",
            "Epoch 173/200\n",
            "\u001b[1m4/4\u001b[0m \u001b[32m━━━━━━━━━━━━━━━━━━━━\u001b[0m\u001b[37m\u001b[0m \u001b[1m0s\u001b[0m 24ms/step - loss: 0.2718 - mae: 0.4403 - val_loss: 0.4476 - val_mae: 0.5354\n",
            "Epoch 174/200\n",
            "\u001b[1m4/4\u001b[0m \u001b[32m━━━━━━━━━━━━━━━━━━━━\u001b[0m\u001b[37m\u001b[0m \u001b[1m0s\u001b[0m 31ms/step - loss: 0.2853 - mae: 0.4554 - val_loss: 0.4507 - val_mae: 0.5392\n",
            "Epoch 175/200\n",
            "\u001b[1m4/4\u001b[0m \u001b[32m━━━━━━━━━━━━━━━━━━━━\u001b[0m\u001b[37m\u001b[0m \u001b[1m0s\u001b[0m 23ms/step - loss: 0.2974 - mae: 0.4686 - val_loss: 0.4467 - val_mae: 0.5341\n",
            "Epoch 176/200\n",
            "\u001b[1m4/4\u001b[0m \u001b[32m━━━━━━━━━━━━━━━━━━━━\u001b[0m\u001b[37m\u001b[0m \u001b[1m0s\u001b[0m 24ms/step - loss: 0.2745 - mae: 0.4453 - val_loss: 0.4392 - val_mae: 0.5290\n"
          ]
        }
      ],
      "source": [
        "from tensorflow.keras.callbacks import EarlyStopping\n",
        "\n",
        "# Create EarlyStopping callback\n",
        "early_stop = EarlyStopping(\n",
        "    monitor='val_loss',        # What to monitor (validation loss)\n",
        "    patience=20,               # Number of epochs with no improvement after which training stops\n",
        "    restore_best_weights=True  # Keeps the best weights (lowest val_loss)\n",
        ")\n",
        "\n",
        "# Then pass to model.fit() like this:\n",
        "history = model.fit(\n",
        "    X_train, y_train,\n",
        "    epochs=200,                # Or any large number, training will usually stop earlier\n",
        "    batch_size=20,\n",
        "    validation_split=0.2,\n",
        "    callbacks=[early_stop],    # Add the callback here\n",
        "    verbose=1\n",
        ")\n"
      ]
    },
    {
      "cell_type": "code",
      "execution_count": null,
      "metadata": {
        "colab": {
          "base_uri": "https://localhost:8080/"
        },
        "id": "WGHQbR9lqm9I",
        "outputId": "8aa4ef49-ee31-43ed-ab43-17f2458abd83"
      },
      "outputs": [
        {
          "output_type": "stream",
          "name": "stdout",
          "text": [
            "\u001b[1m3/3\u001b[0m \u001b[32m━━━━━━━━━━━━━━━━━━━━\u001b[0m\u001b[37m\u001b[0m \u001b[1m0s\u001b[0m 31ms/step\n",
            "Train MSE: 0.3320\n",
            "Train MAE: 0.4789\n",
            "Train R2: 0.2431\n"
          ]
        }
      ],
      "source": [
        "from sklearn.metrics import mean_squared_error, mean_absolute_error, r2_score\n",
        "\n",
        "# Make predictions on the training data\n",
        "y_pred_train = model.predict(X_train).flatten()\n",
        "\n",
        "\n",
        "mse = mean_squared_error(y_train, y_pred_train)\n",
        "mae = mean_absolute_error(y_train, y_pred_train)\n",
        "r2 = r2_score(y_train, y_pred_train)\n",
        "\n",
        "print(f\"Train MSE: {mse:.4f}\")\n",
        "print(f\"Train MAE: {mae:.4f}\")\n",
        "print(f\"Train R2: {r2:.4f}\")"
      ]
    },
    {
      "cell_type": "code",
      "execution_count": null,
      "metadata": {
        "colab": {
          "base_uri": "https://localhost:8080/"
        },
        "id": "ZuyRYgC9sS04",
        "outputId": "12fc4b6e-d329-4310-a53a-b883b7bc391a"
      },
      "outputs": [
        {
          "output_type": "stream",
          "name": "stdout",
          "text": [
            "\u001b[1m1/1\u001b[0m \u001b[32m━━━━━━━━━━━━━━━━━━━━\u001b[0m\u001b[37m\u001b[0m \u001b[1m0s\u001b[0m 37ms/step\n",
            "Test MSE: 0.4197\n",
            "Test MAE: 0.5609\n",
            "Test R2: -0.0087\n"
          ]
        }
      ],
      "source": [
        "from sklearn.metrics import mean_squared_error, mean_absolute_error, r2_score\n",
        "\n",
        "y_pred = model.predict(X_test).flatten()  # Make predictions on the test data\n",
        "\n",
        "mse = mean_squared_error(y_test, y_pred)\n",
        "mae = mean_absolute_error(y_test, y_pred)\n",
        "r2 = r2_score(y_test, y_pred)\n",
        "\n",
        "print(f\"Test MSE: {mse:.4f}\")\n",
        "print(f\"Test MAE: {mae:.4f}\")\n",
        "print(f\"Test R2: {r2:.4f}\")"
      ]
    },
    {
      "cell_type": "code",
      "execution_count": null,
      "metadata": {
        "colab": {
          "base_uri": "https://localhost:8080/",
          "height": 472
        },
        "id": "aJmJCc1SZgjQ",
        "outputId": "5b68ecef-e557-4b28-d3e2-9067371d5868"
      },
      "outputs": [
        {
          "output_type": "display_data",
          "data": {
            "text/plain": [
              "<Figure size 640x480 with 1 Axes>"
            ],
            "image/png": "[encoded data removed]"
          },
          "metadata": {}
        }
      ],
      "source": [
        "plt.plot(history.history['loss'], label='Train Loss (MSE)')\n",
        "plt.plot(history.history['val_loss'], label='Validation Loss (MSE)')\n",
        "plt.xlabel('Epoch')\n",
        "plt.ylabel('Loss')\n",
        "plt.legend()\n",
        "plt.title('Loss Curve')\n",
        "plt.show()\n"
      ]
    },
    {
      "cell_type": "code",
      "execution_count": null,
      "metadata": {
        "colab": {
          "base_uri": "https://localhost:8080/",
          "height": 489
        },
        "id": "_iK-0cxpZomZ",
        "outputId": "6cbf155e-2cdc-4e3a-95d7-6f2ddc0ead86"
      },
      "outputs": [
        {
          "output_type": "stream",
          "name": "stdout",
          "text": [
            "\u001b[1m1/1\u001b[0m \u001b[32m━━━━━━━━━━━━━━━━━━━━\u001b[0m\u001b[37m\u001b[0m \u001b[1m0s\u001b[0m 37ms/step\n"
          ]
        },
        {
          "output_type": "display_data",
          "data": {
            "text/plain": [
              "<Figure size 640x480 with 1 Axes>"
            ],
            "image/png": "[encoded data removed]"
          },
          "metadata": {}
        }
      ],
      "source": [
        "y_pred = model.predict(X_test).flatten()\n",
        "plt.scatter(y_test, y_pred, alpha=0.7)\n",
        "plt.xlabel('True Average Grade')\n",
        "plt.ylabel('Predicted Average Grade')\n",
        "plt.title('Predicted vs Actual Grades on Seen Data')\n",
        "plt.plot([min(y_test), max(y_test)], [min(y_test), max(y_test)], 'r--')\n",
        "plt.show()\n"
      ]
    },
    {
      "cell_type": "code",
      "execution_count": null,
      "metadata": {
        "colab": {
          "base_uri": "https://localhost:8080/"
        },
        "id": "ehvl2-Ro0AxZ",
        "outputId": "884ca2d9-ed56-4d52-c69d-cecd14d4bcd4"
      },
      "outputs": [
        {
          "output_type": "stream",
          "name": "stdout",
          "text": [
            "   Attendance_Encoded  StudyHours_Encoded  Assignments_Encoded  \\\n",
            "0               0.825                15.0                    3   \n",
            "1               0.950                 5.0                    3   \n",
            "2               0.450                 5.0                    1   \n",
            "3               0.620                15.0                    2   \n",
            "4               0.950                 5.0                    3   \n",
            "\n",
            "   PartTimeJob_Encoded  Extracurriculars_Encoded  GPA_Normalized  \\\n",
            "0                    1                       0.5        0.190909   \n",
            "1                    0                       1.0        0.518182   \n",
            "2                    1                       0.0        0.476348   \n",
            "3                    0                       1.0        0.609091   \n",
            "4                    0                       0.0        0.476348   \n",
            "\n",
            "   Average_Grade  \n",
            "0       3.300000  \n",
            "1       2.925000  \n",
            "2       1.233333  \n",
            "3       3.000000  \n",
            "4       1.900000  \n"
          ]
        }
      ],
      "source": [
        "df = pd.read_csv('preprocessed_model_data.csv')\n",
        "print(df.head())"
      ]
    },
    {
      "cell_type": "code",
      "execution_count": null,
      "metadata": {
        "id": "YEdwPqvT0ERZ"
      },
      "outputs": [],
      "source": [
        "features = [col for col in df.columns if col != 'Average_Grade']\n",
        "target = 'Average_Grade'\n",
        "\n",
        "X = df[features].values\n",
        "y = df[target].values"
      ]
    },
    {
      "cell_type": "code",
      "execution_count": null,
      "metadata": {
        "id": "6oe32eGE0IBh"
      },
      "outputs": [],
      "source": [
        "X_train, X_test, y_train, y_test = train_test_split(\n",
        "    X, y, test_size=0.15, random_state=42\n",
        ")"
      ]
    },
    {
      "cell_type": "code",
      "execution_count": null,
      "metadata": {
        "colab": {
          "base_uri": "https://localhost:8080/"
        },
        "id": "Gm7L_YaG0NOR",
        "outputId": "92f4b7b9-e8f9-40ed-8b60-540c50d95d8f"
      },
      "outputs": [
        {
          "output_type": "stream",
          "name": "stdout",
          "text": [
            "\u001b[1m1/1\u001b[0m \u001b[32m━━━━━━━━━━━━━━━━━━━━\u001b[0m\u001b[37m\u001b[0m \u001b[1m0s\u001b[0m 38ms/step\n"
          ]
        }
      ],
      "source": [
        "y_pred = model.predict(X_test).flatten()  # Makes prediction for each test sample\n"
      ]
    },
    {
      "cell_type": "code",
      "execution_count": null,
      "metadata": {
        "colab": {
          "base_uri": "https://localhost:8080/"
        },
        "id": "DR0xd047_9cD",
        "outputId": "3a4dac83-6533-45e8-e13d-9130ae7b52b0"
      },
      "outputs": [
        {
          "output_type": "stream",
          "name": "stdout",
          "text": [
            "   Actual (Num) Actual (Letter)  Predicted (Num) Predicted (Letter)\n",
            "0         3.325              A-         2.867963                  B\n",
            "1         3.575              A-         2.788435                  B\n",
            "2         1.900               C         2.951446                  B\n",
            "3         3.500              A-         3.376161                 A-\n",
            "4         3.075              B+         2.518322                 B-\n"
          ]
        }
      ],
      "source": [
        "# Define the numeric-to-letter grade conversion function\n",
        "def numeric_to_letter_grade(avg_grade):\n",
        "    if avg_grade >= 3.7:\n",
        "        return 'A'\n",
        "    elif avg_grade >= 3.3:\n",
        "        return 'A-'\n",
        "    elif avg_grade >= 3.0:\n",
        "        return 'B+'\n",
        "    elif avg_grade >= 2.7:\n",
        "        return 'B'\n",
        "    elif avg_grade >= 2.3:\n",
        "        return 'B-'\n",
        "    elif avg_grade >= 2.0:\n",
        "        return 'C+'\n",
        "    elif avg_grade >= 1.7:\n",
        "        return 'C'\n",
        "    elif avg_grade >= 1.3:\n",
        "        return 'C-'\n",
        "    elif avg_grade >= 1.0:\n",
        "        return 'D+'\n",
        "    elif avg_grade >= 0.7:\n",
        "        return 'D'\n",
        "    else:\n",
        "        return 'E'\n",
        "\n",
        "# Convert both actual and predicted numeric grades to letter grades\n",
        "letter_preds = [numeric_to_letter_grade(x) for x in y_pred]\n",
        "letter_actuals = [numeric_to_letter_grade(x) for x in y_test]\n",
        "\n",
        "# Build and display/save the comparison table\n",
        "import pandas as pd\n",
        "\n",
        "results = pd.DataFrame({\n",
        "    'Actual (Num)': y_test,\n",
        "    'Actual (Letter)': letter_actuals,\n",
        "    'Predicted (Num)': y_pred,\n",
        "    'Predicted (Letter)': letter_preds\n",
        "})\n",
        "\n",
        "print(results.head())"
      ]
    },
    {
      "cell_type": "code",
      "execution_count": null,
      "metadata": {
        "colab": {
          "base_uri": "https://localhost:8080/",
          "height": 564
        },
        "id": "C4Y5r3Wr0qrh",
        "outputId": "b33727b3-1c86-4cc9-8013-0b2f10c012b5"
      },
      "outputs": [
        {
          "output_type": "display_data",
          "data": {
            "text/plain": [
              "<Figure size 600x600 with 1 Axes>"
            ],
            "image/png": "[encoded data removed]"
          },
          "metadata": {}
        }
      ],
      "source": [
        "plt.figure(figsize=(6,6))\n",
        "plt.scatter(y_test, y_pred, alpha=0.7)\n",
        "plt.xlabel('Actual Average Grade')\n",
        "plt.ylabel('Predicted Average Grade')\n",
        "plt.title('Predicted vs Actual Grades on Unseen Data')\n",
        "plt.plot([min(y_test), max(y_test)], [min(y_test), max(y_test)], 'r--')  # reference line y=x\n",
        "plt.grid(True)\n",
        "plt.show()\n"
      ]
    },
    {
      "cell_type": "code",
      "execution_count": null,
      "metadata": {
        "colab": {
          "base_uri": "https://localhost:8080/",
          "height": 472
        },
        "id": "x-qUl5tW0szh",
        "outputId": "a79c4d7f-c126-4264-abfe-7ad95f161569"
      },
      "outputs": [
        {
          "output_type": "display_data",
          "data": {
            "text/plain": [
              "<Figure size 640x480 with 1 Axes>"
            ],
            "image/png": "[encoded data removed]"
          },
          "metadata": {}
        }
      ],
      "source": [
        "residuals = y_test - y_pred\n",
        "plt.figure()\n",
        "plt.hist(residuals, bins=20, color='red', edgecolor='black')\n",
        "plt.xlabel('Prediction Error (Residual)')\n",
        "plt.ylabel('Count')\n",
        "plt.title('Distribution of Prediction Errors on Test Data')\n",
        "plt.show()\n"
      ]
    },
    {
      "cell_type": "code",
      "execution_count": null,
      "metadata": {
        "id": "wZnVK3xq0xnK"
      },
      "outputs": [],
      "source": [
        "# Save true and predicted values for further analysis\n",
        "results = pd.DataFrame({'Actual': y_test, 'Predicted': y_pred})\n",
        "results.to_csv('model_test_results.csv', index=False)\n"
      ]
    },
    {
      "cell_type": "code",
      "execution_count": null,
      "metadata": {
        "id": "cva4oIBDESDT"
      },
      "outputs": [],
      "source": [
        "import numpy as np\n",
        "\n",
        "def predict_manual(model, gpa_scaler):\n",
        "    # Prompt for specific attendance percentage\n",
        "    while True:\n",
        "        try:\n",
        "            attendance_val = float(input(\"Enter your attendance percentage (e.g., 87.5 for 87.5%): \"))\n",
        "            break\n",
        "        except ValueError:\n",
        "            print(\"Please enter a valid number.\\n\")\n",
        "    # Normalize attendance to the scale used for training, if needed\n",
        "    # If you used percentage/100 as feature, then just divide by 100 here\n",
        "    attendance_encoded = attendance_val / 100\n",
        "\n",
        "    # Prompt for study hours\n",
        "    while True:\n",
        "        try:\n",
        "            study_hours = float(input(\"Enter the number of study hours per week (e.g., 16): \"))\n",
        "            break\n",
        "        except ValueError:\n",
        "            print(\"Please enter a valid number.\\n\")\n",
        "\n",
        "    # Prompt for assignment completion (as a number or percentage)\n",
        "    while True:\n",
        "        try:\n",
        "            assignments = float(input(\"On average, what fraction of assignments do you submit on time? (e.g., 1 = 100%, 0.8 = 80%): \"))\n",
        "            break\n",
        "        except ValueError:\n",
        "            print(\"Please enter a value between 0 and 1, e.g., 0.8 for 80%.\\n\")\n",
        "\n",
        "    # Part time job (yes/no)\n",
        "    while True:\n",
        "        job_raw = input(\"Are you currently doing a part time job? (yes/no): \").strip().lower()\n",
        "        if job_raw == 'yes':\n",
        "            job = 1\n",
        "            break\n",
        "        elif job_raw == 'no':\n",
        "            job = 0\n",
        "            break\n",
        "        else:\n",
        "            print(\"Please enter 'yes' or 'no'.\\n\")\n",
        "\n",
        "    # Extracurricular activities\n",
        "    while True:\n",
        "        extra_raw = input(\"Are you involved in extracurricular activities? (yes/no/occasionally): \").strip().lower()\n",
        "        if extra_raw == 'yes':\n",
        "            extra = 1\n",
        "            break\n",
        "        elif extra_raw == 'no':\n",
        "            extra = 0\n",
        "            break\n",
        "        elif extra_raw == 'occasionally':\n",
        "            extra = 0.5\n",
        "            break\n",
        "        else:\n",
        "            print(\"Please enter 'yes', 'no', or 'occasionally'.\\n\")\n",
        "\n",
        "    # GPA (raw, then normalize)\n",
        "    while True:\n",
        "        try:\n",
        "            gpa_raw = float(input(\"Enter your GPA (e.g., 3.25): \").strip())\n",
        "            break\n",
        "        except ValueError:\n",
        "            print(\"Please enter a valid GPA number (e.g., 2.85, 3.14).\\n\")\n",
        "    gpa_norm = gpa_scaler.transform([[gpa_raw]])[0][0]\n",
        "\n",
        "    # Build feature array\n",
        "    features_input = np.array([[attendance_encoded, study_hours, assignments, job, extra, gpa_norm]])\n",
        "\n",
        "    pred = model.predict(features_input)[0][0]\n",
        "\n",
        "    # Numeric to letter grade mapping\n",
        "    def numeric_to_letter_grade(avg_grade):\n",
        "        if avg_grade >= 3.7: return 'A'\n",
        "        elif avg_grade >= 3.3: return 'A-'\n",
        "        elif avg_grade >= 3.0: return 'B+'\n",
        "        elif avg_grade >= 2.7: return 'B'\n",
        "        elif avg_grade >= 2.3: return 'B-'\n",
        "        elif avg_grade >= 2.0: return 'C+'\n",
        "        elif avg_grade >= 1.7: return 'C'\n",
        "        elif avg_grade >= 1.3: return 'C-'\n",
        "        elif avg_grade >= 1.0: return 'D+'\n",
        "        elif avg_grade >= 0.7: return 'D'\n",
        "        else: return 'E'\n",
        "\n",
        "    letter_grade = numeric_to_letter_grade(pred)\n",
        "    print(f\"\\nPredicted Average Grade (numeric): {pred:.2f}\")\n",
        "    print(f\"Predicted Average Grade (as letter): **{letter_grade}**\")\n",
        "\n",
        "\n"
      ]
    },
    {
      "cell_type": "code",
      "execution_count": null,
      "metadata": {
        "id": "fcF6Qs-mEWOJ"
      },
      "outputs": [],
      "source": [
        "predict_manual(model, gpa_scaler)"
      ]
    },
    {
      "cell_type": "markdown",
      "metadata": {
        "id": "V9PwVkAGWmR-"
      },
      "source": []
    },
    {
      "cell_type": "markdown",
      "metadata": {
        "id": "w93ZWTlDWlqf"
      },
      "source": []
    }
  ],
  "metadata": {
    "colab": {
      "provenance": []
    },
    "kernelspec": {
      "display_name": "Python 3",
      "name": "python3"
    },
    "language_info": {
      "name": "python"
    }
  },
  "nbformat": 4,
  "nbformat_minor": 0
}